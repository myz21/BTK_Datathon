{
 "cells": [
  {
   "cell_type": "code",
   "outputs": [],
   "source": [
    "import pandas as pd"
   ],
   "metadata": {
    "collapsed": false,
    "ExecuteTime": {
     "end_time": "2024-09-13T22:54:32.202960Z",
     "start_time": "2024-09-13T22:54:31.653559Z"
    }
   },
   "id": "4989c07cbcb901fe",
   "execution_count": 1
  },
  {
   "cell_type": "markdown",
   "source": [
    "importing old data as dataframe"
   ],
   "metadata": {
    "collapsed": false
   },
   "id": "26cf505a5a696e7f"
  },
  {
   "cell_type": "code",
   "outputs": [
    {
     "data": {
      "text/plain": "       Basvuru Yili  Degerlendirme Puani Cinsiyet      Dogum Tarihi  \\\n0              2014                 52.0    Erkek          4/6/1994   \n1              2014                 30.0    Erkek         6/11/1993   \n2              2014                 18.0    Erkek         1/15/1986   \n3              2014                 40.0    Erkek          6/4/1991   \n4              2014                 24.0    Erkek      2 Kasim 1992   \n...             ...                  ...      ...               ...   \n65120          2022                  0.0    Erkek  18.06.2003 00:00   \n65121          2022                  0.0    Erkek  18.04.2002 00:00   \n65122          2022                  0.0    Erkek  23.10.1999 00:00   \n65123          2022                  0.0    Erkek  17.11.2000 00:00   \n65124          2022                  NaN    Kadın  27.04.2000 00:00   \n\n             Dogum Yeri Ikametgah Sehri                    Universite Adi  \\\n0      Altindag, Ankara          Ankara           İHSAN DOĞRAMACI BİLKENT   \n1               Üsküdar        İstanbul           İHSAN DOĞRAMACI BİLKENT   \n2                Samsun        İstanbul  ULUSLARARASI KIBRIS ÜNİVERSİTESİ   \n3            Diyarbakır        İstanbul       İSTANBUL ŞEHİR ÜNİVERSİTESİ   \n4       Ankara/Altındağ          Ankara          TURGUT ÖZAL ÜNİVERSİTESİ   \n...                 ...             ...                               ...   \n65120          İstanbul        İstanbul       İstanbul Aydın Üniversitesi   \n65121             Hatay           Muğla   Muğla Sıtkı Koçman Üniversitesi   \n65122            Mersin          Mersin     Süleyman Demirel Üniversitesi   \n65123            Samsun          Samsun              Karabük Üniversitesi   \n65124             Hatay           Hatay            Gaziantep Üniversitesi   \n\n      Universite Turu  Burslu ise Burs Yuzdesi Burs Aliyor mu?  ...  \\\n0                Özel                    100.0            Evet  ...   \n1                Özel                    100.0           Hayır  ...   \n2                Özel                    100.0           Hayır  ...   \n3                Özel                    100.0            Evet  ...   \n4                Özel                    100.0            Evet  ...   \n...               ...                      ...             ...  ...   \n65120            Özel                      NaN            Evet  ...   \n65121          Devlet                      NaN           Hayır  ...   \n65122          Devlet                      NaN           Hayır  ...   \n65123          Devlet                      NaN           Hayır  ...   \n65124          Devlet                      NaN           Hayır  ...   \n\n      Spor Dalindaki Rolunuz Nedir? Aktif olarak bir STK üyesi misiniz?  \\\n0                             Diğer                               Hayır   \n1                                 0                               Hayır   \n2                                 0                               Hayır   \n3                                 0                               Hayır   \n4                                 0                               Hayır   \n...                             ...                                 ...   \n65120                             -                               Hayır   \n65121                             -                               Hayır   \n65122                             -                               Hayır   \n65123                             -                               Hayır   \n65124                Takım Oyuncusu                                Evet   \n\n                               Hangi STK'nin Uyesisiniz?  \\\n0                                                    NaN   \n1                                                    NaN   \n2                                                    NaN   \n3                                                    NaN   \n4                                                    NaN   \n...                                                  ...   \n65120                                                  -   \n65121                                                  -   \n65122                                                  -   \n65123                                                  -   \n65124  Genç Kızılay Topluluğu'nda 3 yıldır gönüllüyüm...   \n\n      Stk Projesine Katildiniz Mi? Girisimcilikle Ilgili Deneyiminiz Var Mi?  \\\n0                             Evet                                     Hayır   \n1                             Evet                                      Evet   \n2                            Hayır                                     Hayır   \n3                             Evet                                     Hayır   \n4                            Hayır                                     Hayır   \n...                            ...                                       ...   \n65120                          NaN                                     Hayır   \n65121                          NaN                                     Hayır   \n65122                          NaN                                     Hayır   \n65123                          NaN                                     Hayır   \n65124                          NaN                                      Evet   \n\n      Girisimcilikle Ilgili Deneyiminizi Aciklayabilir misiniz?  \\\n0                                                    NaN          \n1      Bilkent Cyberparkta bir şirkette Türkiye nin i...          \n2                                                    NaN          \n3                                                    NaN          \n4                                                    NaN          \n...                                                  ...          \n65120                                                  -          \n65121                                                  -          \n65122                                                  -          \n65123                                                  -          \n65124  Aile desteğiyle yemek sektöründe küçük bir işl...          \n\n      Ingilizce Biliyor musunuz? Ingilizce Seviyeniz?  \\\n0                            NaN                  NaN   \n1                            NaN                  NaN   \n2                            NaN                  NaN   \n3                            NaN                  NaN   \n4                            NaN                  NaN   \n...                          ...                  ...   \n65120                      Hayır                  NaN   \n65121                      Hayır                  NaN   \n65122                      Hayır                  NaN   \n65123                      Hayır                  NaN   \n65124                       Evet                  NaN   \n\n      Daha Önceden Mezun Olunduysa, Mezun Olunan Üniversite     id  \n0                                                    NaN         0  \n1                                                    NaN         1  \n2                                                    NaN         2  \n3                                                    NaN         3  \n4                                                    NaN         4  \n...                                                  ...       ...  \n65120                                                NaN     65120  \n65121                                                NaN     65121  \n65122                                                NaN     65122  \n65123                                                NaN     65123  \n65124                                                NaN     65124  \n\n[65125 rows x 44 columns]",
      "text/html": "<div>\n<style scoped>\n    .dataframe tbody tr th:only-of-type {\n        vertical-align: middle;\n    }\n\n    .dataframe tbody tr th {\n        vertical-align: top;\n    }\n\n    .dataframe thead th {\n        text-align: right;\n    }\n</style>\n<table border=\"1\" class=\"dataframe\">\n  <thead>\n    <tr style=\"text-align: right;\">\n      <th></th>\n      <th>Basvuru Yili</th>\n      <th>Degerlendirme Puani</th>\n      <th>Cinsiyet</th>\n      <th>Dogum Tarihi</th>\n      <th>Dogum Yeri</th>\n      <th>Ikametgah Sehri</th>\n      <th>Universite Adi</th>\n      <th>Universite Turu</th>\n      <th>Burslu ise Burs Yuzdesi</th>\n      <th>Burs Aliyor mu?</th>\n      <th>...</th>\n      <th>Spor Dalindaki Rolunuz Nedir?</th>\n      <th>Aktif olarak bir STK üyesi misiniz?</th>\n      <th>Hangi STK'nin Uyesisiniz?</th>\n      <th>Stk Projesine Katildiniz Mi?</th>\n      <th>Girisimcilikle Ilgili Deneyiminiz Var Mi?</th>\n      <th>Girisimcilikle Ilgili Deneyiminizi Aciklayabilir misiniz?</th>\n      <th>Ingilizce Biliyor musunuz?</th>\n      <th>Ingilizce Seviyeniz?</th>\n      <th>Daha Önceden Mezun Olunduysa, Mezun Olunan Üniversite</th>\n      <th>id</th>\n    </tr>\n  </thead>\n  <tbody>\n    <tr>\n      <th>0</th>\n      <td>2014</td>\n      <td>52.0</td>\n      <td>Erkek</td>\n      <td>4/6/1994</td>\n      <td>Altindag, Ankara</td>\n      <td>Ankara</td>\n      <td>İHSAN DOĞRAMACI BİLKENT</td>\n      <td>Özel</td>\n      <td>100.0</td>\n      <td>Evet</td>\n      <td>...</td>\n      <td>Diğer</td>\n      <td>Hayır</td>\n      <td>NaN</td>\n      <td>Evet</td>\n      <td>Hayır</td>\n      <td>NaN</td>\n      <td>NaN</td>\n      <td>NaN</td>\n      <td>NaN</td>\n      <td>0</td>\n    </tr>\n    <tr>\n      <th>1</th>\n      <td>2014</td>\n      <td>30.0</td>\n      <td>Erkek</td>\n      <td>6/11/1993</td>\n      <td>Üsküdar</td>\n      <td>İstanbul</td>\n      <td>İHSAN DOĞRAMACI BİLKENT</td>\n      <td>Özel</td>\n      <td>100.0</td>\n      <td>Hayır</td>\n      <td>...</td>\n      <td>0</td>\n      <td>Hayır</td>\n      <td>NaN</td>\n      <td>Evet</td>\n      <td>Evet</td>\n      <td>Bilkent Cyberparkta bir şirkette Türkiye nin i...</td>\n      <td>NaN</td>\n      <td>NaN</td>\n      <td>NaN</td>\n      <td>1</td>\n    </tr>\n    <tr>\n      <th>2</th>\n      <td>2014</td>\n      <td>18.0</td>\n      <td>Erkek</td>\n      <td>1/15/1986</td>\n      <td>Samsun</td>\n      <td>İstanbul</td>\n      <td>ULUSLARARASI KIBRIS ÜNİVERSİTESİ</td>\n      <td>Özel</td>\n      <td>100.0</td>\n      <td>Hayır</td>\n      <td>...</td>\n      <td>0</td>\n      <td>Hayır</td>\n      <td>NaN</td>\n      <td>Hayır</td>\n      <td>Hayır</td>\n      <td>NaN</td>\n      <td>NaN</td>\n      <td>NaN</td>\n      <td>NaN</td>\n      <td>2</td>\n    </tr>\n    <tr>\n      <th>3</th>\n      <td>2014</td>\n      <td>40.0</td>\n      <td>Erkek</td>\n      <td>6/4/1991</td>\n      <td>Diyarbakır</td>\n      <td>İstanbul</td>\n      <td>İSTANBUL ŞEHİR ÜNİVERSİTESİ</td>\n      <td>Özel</td>\n      <td>100.0</td>\n      <td>Evet</td>\n      <td>...</td>\n      <td>0</td>\n      <td>Hayır</td>\n      <td>NaN</td>\n      <td>Evet</td>\n      <td>Hayır</td>\n      <td>NaN</td>\n      <td>NaN</td>\n      <td>NaN</td>\n      <td>NaN</td>\n      <td>3</td>\n    </tr>\n    <tr>\n      <th>4</th>\n      <td>2014</td>\n      <td>24.0</td>\n      <td>Erkek</td>\n      <td>2 Kasim 1992</td>\n      <td>Ankara/Altındağ</td>\n      <td>Ankara</td>\n      <td>TURGUT ÖZAL ÜNİVERSİTESİ</td>\n      <td>Özel</td>\n      <td>100.0</td>\n      <td>Evet</td>\n      <td>...</td>\n      <td>0</td>\n      <td>Hayır</td>\n      <td>NaN</td>\n      <td>Hayır</td>\n      <td>Hayır</td>\n      <td>NaN</td>\n      <td>NaN</td>\n      <td>NaN</td>\n      <td>NaN</td>\n      <td>4</td>\n    </tr>\n    <tr>\n      <th>...</th>\n      <td>...</td>\n      <td>...</td>\n      <td>...</td>\n      <td>...</td>\n      <td>...</td>\n      <td>...</td>\n      <td>...</td>\n      <td>...</td>\n      <td>...</td>\n      <td>...</td>\n      <td>...</td>\n      <td>...</td>\n      <td>...</td>\n      <td>...</td>\n      <td>...</td>\n      <td>...</td>\n      <td>...</td>\n      <td>...</td>\n      <td>...</td>\n      <td>...</td>\n      <td>...</td>\n    </tr>\n    <tr>\n      <th>65120</th>\n      <td>2022</td>\n      <td>0.0</td>\n      <td>Erkek</td>\n      <td>18.06.2003 00:00</td>\n      <td>İstanbul</td>\n      <td>İstanbul</td>\n      <td>İstanbul Aydın Üniversitesi</td>\n      <td>Özel</td>\n      <td>NaN</td>\n      <td>Evet</td>\n      <td>...</td>\n      <td>-</td>\n      <td>Hayır</td>\n      <td>-</td>\n      <td>NaN</td>\n      <td>Hayır</td>\n      <td>-</td>\n      <td>Hayır</td>\n      <td>NaN</td>\n      <td>NaN</td>\n      <td>65120</td>\n    </tr>\n    <tr>\n      <th>65121</th>\n      <td>2022</td>\n      <td>0.0</td>\n      <td>Erkek</td>\n      <td>18.04.2002 00:00</td>\n      <td>Hatay</td>\n      <td>Muğla</td>\n      <td>Muğla Sıtkı Koçman Üniversitesi</td>\n      <td>Devlet</td>\n      <td>NaN</td>\n      <td>Hayır</td>\n      <td>...</td>\n      <td>-</td>\n      <td>Hayır</td>\n      <td>-</td>\n      <td>NaN</td>\n      <td>Hayır</td>\n      <td>-</td>\n      <td>Hayır</td>\n      <td>NaN</td>\n      <td>NaN</td>\n      <td>65121</td>\n    </tr>\n    <tr>\n      <th>65122</th>\n      <td>2022</td>\n      <td>0.0</td>\n      <td>Erkek</td>\n      <td>23.10.1999 00:00</td>\n      <td>Mersin</td>\n      <td>Mersin</td>\n      <td>Süleyman Demirel Üniversitesi</td>\n      <td>Devlet</td>\n      <td>NaN</td>\n      <td>Hayır</td>\n      <td>...</td>\n      <td>-</td>\n      <td>Hayır</td>\n      <td>-</td>\n      <td>NaN</td>\n      <td>Hayır</td>\n      <td>-</td>\n      <td>Hayır</td>\n      <td>NaN</td>\n      <td>NaN</td>\n      <td>65122</td>\n    </tr>\n    <tr>\n      <th>65123</th>\n      <td>2022</td>\n      <td>0.0</td>\n      <td>Erkek</td>\n      <td>17.11.2000 00:00</td>\n      <td>Samsun</td>\n      <td>Samsun</td>\n      <td>Karabük Üniversitesi</td>\n      <td>Devlet</td>\n      <td>NaN</td>\n      <td>Hayır</td>\n      <td>...</td>\n      <td>-</td>\n      <td>Hayır</td>\n      <td>-</td>\n      <td>NaN</td>\n      <td>Hayır</td>\n      <td>-</td>\n      <td>Hayır</td>\n      <td>NaN</td>\n      <td>NaN</td>\n      <td>65123</td>\n    </tr>\n    <tr>\n      <th>65124</th>\n      <td>2022</td>\n      <td>NaN</td>\n      <td>Kadın</td>\n      <td>27.04.2000 00:00</td>\n      <td>Hatay</td>\n      <td>Hatay</td>\n      <td>Gaziantep Üniversitesi</td>\n      <td>Devlet</td>\n      <td>NaN</td>\n      <td>Hayır</td>\n      <td>...</td>\n      <td>Takım Oyuncusu</td>\n      <td>Evet</td>\n      <td>Genç Kızılay Topluluğu'nda 3 yıldır gönüllüyüm...</td>\n      <td>NaN</td>\n      <td>Evet</td>\n      <td>Aile desteğiyle yemek sektöründe küçük bir işl...</td>\n      <td>Evet</td>\n      <td>NaN</td>\n      <td>NaN</td>\n      <td>65124</td>\n    </tr>\n  </tbody>\n</table>\n<p>65125 rows × 44 columns</p>\n</div>"
     },
     "execution_count": 2,
     "metadata": {},
     "output_type": "execute_result"
    }
   ],
   "source": [
    "old = pd.read_csv('train.csv', low_memory=False)\n",
    "old"
   ],
   "metadata": {
    "collapsed": false,
    "ExecuteTime": {
     "end_time": "2024-09-13T22:54:33.909728Z",
     "start_time": "2024-09-13T22:54:32.828595Z"
    }
   },
   "id": "75019343d46d3c7c",
   "execution_count": 2
  },
  {
   "cell_type": "markdown",
   "source": [
    "Understanding the data"
   ],
   "metadata": {
    "collapsed": false
   },
   "id": "d8aced3fb96e318c"
  },
  {
   "cell_type": "code",
   "outputs": [
    {
     "name": "stdout",
     "output_type": "stream",
     "text": [
      "<class 'pandas.core.frame.DataFrame'>\n",
      "RangeIndex: 65125 entries, 0 to 65124\n",
      "Data columns (total 44 columns):\n",
      " #   Column                                                     Non-Null Count  Dtype  \n",
      "---  ------                                                     --------------  -----  \n",
      " 0   Basvuru Yili                                               65125 non-null  int64  \n",
      " 1   Degerlendirme Puani                                        65124 non-null  float64\n",
      " 2   Cinsiyet                                                   64956 non-null  object \n",
      " 3   Dogum Tarihi                                               64948 non-null  object \n",
      " 4   Dogum Yeri                                                 64334 non-null  object \n",
      " 5   Ikametgah Sehri                                            63088 non-null  object \n",
      " 6   Universite Adi                                             64993 non-null  object \n",
      " 7   Universite Turu                                            64870 non-null  object \n",
      " 8   Burslu ise Burs Yuzdesi                                    22440 non-null  float64\n",
      " 9   Burs Aliyor mu?                                            65125 non-null  object \n",
      " 10  Bölüm                                                      64894 non-null  object \n",
      " 11  Universite Kacinci Sinif                                   64751 non-null  object \n",
      " 12  Universite Not Ortalamasi                                  62372 non-null  object \n",
      " 13  Daha Once Baska Bir Universiteden Mezun Olmus              27780 non-null  object \n",
      " 14  Lise Adi                                                   64741 non-null  object \n",
      " 15  Lise Adi Diger                                             4733 non-null   object \n",
      " 16  Lise Sehir                                                 64071 non-null  object \n",
      " 17  Lise Turu                                                  64278 non-null  object \n",
      " 18  Lise Bolumu                                                64116 non-null  object \n",
      " 19  Lise Bolum Diger                                           1526 non-null   object \n",
      " 20  Lise Mezuniyet Notu                                        59208 non-null  object \n",
      " 21  Baska Bir Kurumdan Burs Aliyor mu?                         64894 non-null  object \n",
      " 22  Burs Aldigi Baska Kurum                                    21148 non-null  object \n",
      " 23  Baska Kurumdan Aldigi Burs Miktari                         20963 non-null  object \n",
      " 24  Anne Egitim Durumu                                         64719 non-null  object \n",
      " 25  Anne Calisma Durumu                                        53229 non-null  object \n",
      " 26  Anne Sektor                                                30588 non-null  object \n",
      " 27  Baba Egitim Durumu                                         64118 non-null  object \n",
      " 28  Baba Calisma Durumu                                        52507 non-null  object \n",
      " 29  Baba Sektor                                                44747 non-null  object \n",
      " 30  Kardes Sayisi                                              63993 non-null  object \n",
      " 31  Girisimcilik Kulupleri Tarzi Bir Kulube Uye misiniz?       63296 non-null  object \n",
      " 32  Uye Oldugunuz Kulubun Ismi                                 16434 non-null  object \n",
      " 33  Profesyonel Bir Spor Daliyla Mesgul musunuz?               64010 non-null  object \n",
      " 34  Spor Dalindaki Rolunuz Nedir?                              32850 non-null  object \n",
      " 35  Aktif olarak bir STK üyesi misiniz?                        52283 non-null  object \n",
      " 36  Hangi STK'nin Uyesisiniz?                                  15607 non-null  object \n",
      " 37  Stk Projesine Katildiniz Mi?                               36817 non-null  object \n",
      " 38  Girisimcilikle Ilgili Deneyiminiz Var Mi?                  52285 non-null  object \n",
      " 39  Girisimcilikle Ilgili Deneyiminizi Aciklayabilir misiniz?  14599 non-null  object \n",
      " 40  Ingilizce Biliyor musunuz?                                 58671 non-null  object \n",
      " 41  Ingilizce Seviyeniz?                                       28592 non-null  object \n",
      " 42  Daha Önceden Mezun Olunduysa, Mezun Olunan Üniversite      419 non-null    object \n",
      " 43  id                                                         65125 non-null  int64  \n",
      "dtypes: float64(2), int64(2), object(40)\n",
      "memory usage: 21.9+ MB\n"
     ]
    },
    {
     "data": {
      "text/plain": "(None,\n Basvuru Yili                                                     0\n Degerlendirme Puani                                              1\n Cinsiyet                                                       169\n Dogum Tarihi                                                   177\n Dogum Yeri                                                     791\n Ikametgah Sehri                                               2037\n Universite Adi                                                 132\n Universite Turu                                                255\n Burslu ise Burs Yuzdesi                                      42685\n Burs Aliyor mu?                                                  0\n Bölüm                                                          231\n Universite Kacinci Sinif                                       374\n Universite Not Ortalamasi                                     2753\n Daha Once Baska Bir Universiteden Mezun Olmus                37345\n Lise Adi                                                       384\n Lise Adi Diger                                               60392\n Lise Sehir                                                    1054\n Lise Turu                                                      847\n Lise Bolumu                                                   1009\n Lise Bolum Diger                                             63599\n Lise Mezuniyet Notu                                           5917\n Baska Bir Kurumdan Burs Aliyor mu?                             231\n Burs Aldigi Baska Kurum                                      43977\n Baska Kurumdan Aldigi Burs Miktari                           44162\n Anne Egitim Durumu                                             406\n Anne Calisma Durumu                                          11896\n Anne Sektor                                                  34537\n Baba Egitim Durumu                                            1007\n Baba Calisma Durumu                                          12618\n Baba Sektor                                                  20378\n Kardes Sayisi                                                 1132\n Girisimcilik Kulupleri Tarzi Bir Kulube Uye misiniz?          1829\n Uye Oldugunuz Kulubun Ismi                                   48691\n Profesyonel Bir Spor Daliyla Mesgul musunuz?                  1115\n Spor Dalindaki Rolunuz Nedir?                                32275\n Aktif olarak bir STK üyesi misiniz?                          12842\n Hangi STK'nin Uyesisiniz?                                    49518\n Stk Projesine Katildiniz Mi?                                 28308\n Girisimcilikle Ilgili Deneyiminiz Var Mi?                    12840\n Girisimcilikle Ilgili Deneyiminizi Aciklayabilir misiniz?    50526\n Ingilizce Biliyor musunuz?                                    6454\n Ingilizce Seviyeniz?                                         36533\n Daha Önceden Mezun Olunduysa, Mezun Olunan Üniversite        64706\n id                                                               0\n dtype: int64)"
     },
     "execution_count": 3,
     "metadata": {},
     "output_type": "execute_result"
    }
   ],
   "source": [
    "old.info(), old.isnull().sum()"
   ],
   "metadata": {
    "collapsed": false,
    "ExecuteTime": {
     "end_time": "2024-09-13T22:54:34.963959Z",
     "start_time": "2024-09-13T22:54:34.758233Z"
    }
   },
   "id": "9b941fb76317ee4b",
   "execution_count": 3
  },
  {
   "cell_type": "code",
   "outputs": [
    {
     "data": {
      "text/plain": "Basvuru Yili                                                     9\nDegerlendirme Puani                                             97\nCinsiyet                                                         4\nDogum Tarihi                                                 13498\nDogum Yeri                                                    2230\nIkametgah Sehri                                                319\nUniversite Adi                                                 527\nUniversite Turu                                                  4\nBurslu ise Burs Yuzdesi                                         51\nBurs Aliyor mu?                                                  5\nBölüm                                                         7748\nUniversite Kacinci Sinif                                        12\nUniversite Not Ortalamasi                                       20\nDaha Once Baska Bir Universiteden Mezun Olmus                    2\nLise Adi                                                     31950\nLise Adi Diger                                                4010\nLise Sehir                                                     888\nLise Turu                                                       16\nLise Bolumu                                                    887\nLise Bolum Diger                                               862\nLise Mezuniyet Notu                                             19\nBaska Bir Kurumdan Burs Aliyor mu?                               2\nBurs Aldigi Baska Kurum                                       3959\nBaska Kurumdan Aldigi Burs Miktari                             587\nAnne Egitim Durumu                                              21\nAnne Calisma Durumu                                              3\nAnne Sektor                                                      8\nBaba Egitim Durumu                                              22\nBaba Calisma Durumu                                              3\nBaba Sektor                                                      8\nKardes Sayisi                                                   28\nGirisimcilik Kulupleri Tarzi Bir Kulube Uye misiniz?             2\nUye Oldugunuz Kulubun Ismi                                   13423\nProfesyonel Bir Spor Daliyla Mesgul musunuz?                     2\nSpor Dalindaki Rolunuz Nedir?                                    9\nAktif olarak bir STK üyesi misiniz?                              2\nHangi STK'nin Uyesisiniz?                                     9490\nStk Projesine Katildiniz Mi?                                     2\nGirisimcilikle Ilgili Deneyiminiz Var Mi?                        2\nGirisimcilikle Ilgili Deneyiminizi Aciklayabilir misiniz?     9286\nIngilizce Biliyor musunuz?                                       2\nIngilizce Seviyeniz?                                             4\nDaha Önceden Mezun Olunduysa, Mezun Olunan Üniversite          168\nid                                                           65125\ndtype: int64"
     },
     "execution_count": 4,
     "metadata": {},
     "output_type": "execute_result"
    }
   ],
   "source": [
    "old.nunique()"
   ],
   "metadata": {
    "collapsed": false,
    "ExecuteTime": {
     "end_time": "2024-09-13T22:54:35.076011Z",
     "start_time": "2024-09-13T22:54:34.965082Z"
    }
   },
   "id": "8c0d1cd05244bb9f",
   "execution_count": 4
  },
  {
   "cell_type": "code",
   "outputs": [
    {
     "data": {
      "text/plain": "Empty DataFrame\nColumns: [Basvuru Yili, Degerlendirme Puani, Cinsiyet, Dogum Tarihi, Dogum Yeri, Ikametgah Sehri, Universite Adi, Universite Turu, Burslu ise Burs Yuzdesi, Burs Aliyor mu?, Bölüm, Universite Kacinci Sinif, Universite Not Ortalamasi, Daha Once Baska Bir Universiteden Mezun Olmus, Lise Adi, Lise Adi Diger, Lise Sehir, Lise Turu, Lise Bolumu, Lise Bolum Diger, Lise Mezuniyet Notu, Baska Bir Kurumdan Burs Aliyor mu?, Burs Aldigi Baska Kurum, Baska Kurumdan Aldigi Burs Miktari, Anne Egitim Durumu, Anne Calisma Durumu, Anne Sektor, Baba Egitim Durumu, Baba Calisma Durumu, Baba Sektor, Kardes Sayisi, Girisimcilik Kulupleri Tarzi Bir Kulube Uye misiniz?, Uye Oldugunuz Kulubun Ismi, Profesyonel Bir Spor Daliyla Mesgul musunuz?, Spor Dalindaki Rolunuz Nedir?, Aktif olarak bir STK üyesi misiniz?, Hangi STK'nin Uyesisiniz?, Stk Projesine Katildiniz Mi?, Girisimcilikle Ilgili Deneyiminiz Var Mi?, Girisimcilikle Ilgili Deneyiminizi Aciklayabilir misiniz?, Ingilizce Biliyor musunuz?, Ingilizce Seviyeniz?, Daha Önceden Mezun Olunduysa, Mezun Olunan Üniversite, id]\nIndex: []\n\n[0 rows x 44 columns]",
      "text/html": "<div>\n<style scoped>\n    .dataframe tbody tr th:only-of-type {\n        vertical-align: middle;\n    }\n\n    .dataframe tbody tr th {\n        vertical-align: top;\n    }\n\n    .dataframe thead th {\n        text-align: right;\n    }\n</style>\n<table border=\"1\" class=\"dataframe\">\n  <thead>\n    <tr style=\"text-align: right;\">\n      <th></th>\n      <th>Basvuru Yili</th>\n      <th>Degerlendirme Puani</th>\n      <th>Cinsiyet</th>\n      <th>Dogum Tarihi</th>\n      <th>Dogum Yeri</th>\n      <th>Ikametgah Sehri</th>\n      <th>Universite Adi</th>\n      <th>Universite Turu</th>\n      <th>Burslu ise Burs Yuzdesi</th>\n      <th>Burs Aliyor mu?</th>\n      <th>...</th>\n      <th>Spor Dalindaki Rolunuz Nedir?</th>\n      <th>Aktif olarak bir STK üyesi misiniz?</th>\n      <th>Hangi STK'nin Uyesisiniz?</th>\n      <th>Stk Projesine Katildiniz Mi?</th>\n      <th>Girisimcilikle Ilgili Deneyiminiz Var Mi?</th>\n      <th>Girisimcilikle Ilgili Deneyiminizi Aciklayabilir misiniz?</th>\n      <th>Ingilizce Biliyor musunuz?</th>\n      <th>Ingilizce Seviyeniz?</th>\n      <th>Daha Önceden Mezun Olunduysa, Mezun Olunan Üniversite</th>\n      <th>id</th>\n    </tr>\n  </thead>\n  <tbody>\n  </tbody>\n</table>\n<p>0 rows × 44 columns</p>\n</div>"
     },
     "execution_count": 5,
     "metadata": {},
     "output_type": "execute_result"
    }
   ],
   "source": [
    "old[old.duplicated()]"
   ],
   "metadata": {
    "collapsed": false,
    "ExecuteTime": {
     "end_time": "2024-09-13T22:54:35.395742Z",
     "start_time": "2024-09-13T22:54:35.119339Z"
    }
   },
   "id": "dba6f75595f461e8",
   "execution_count": 5
  },
  {
   "cell_type": "markdown",
   "source": [
    "Adding a new column for age"
   ],
   "metadata": {
    "collapsed": false
   },
   "id": "6529235a977cc1e3"
  },
  {
   "cell_type": "code",
   "outputs": [],
   "source": [
    "old['Dogum Tarihi'] = pd.to_datetime(old['Dogum Tarihi'], format='%Y-%m-%d', errors='coerce')\n",
    "old[\"Dogum Yili\"] = old[\"Dogum Tarihi\"].dt.year"
   ],
   "metadata": {
    "collapsed": false,
    "ExecuteTime": {
     "end_time": "2024-09-13T22:54:35.795175Z",
     "start_time": "2024-09-13T22:54:35.666949Z"
    }
   },
   "id": "7be787d3a0a3a9b2",
   "execution_count": 6
  },
  {
   "cell_type": "code",
   "outputs": [
    {
     "data": {
      "text/plain": "       Degerlendirme Puani Cinsiyet        Dogum Yeri Ikametgah Sehri  \\\n0                     52.0    Erkek  Altindag, Ankara          Ankara   \n1                     30.0    Erkek           Üsküdar        İstanbul   \n2                     18.0    Erkek            Samsun        İstanbul   \n3                     40.0    Erkek        Diyarbakır        İstanbul   \n4                     24.0    Erkek   Ankara/Altındağ          Ankara   \n...                    ...      ...               ...             ...   \n65120                  0.0    Erkek          İstanbul        İstanbul   \n65121                  0.0    Erkek             Hatay           Muğla   \n65122                  0.0    Erkek            Mersin          Mersin   \n65123                  0.0    Erkek            Samsun          Samsun   \n65124                  NaN    Kadın             Hatay           Hatay   \n\n                         Universite Adi Universite Turu  \\\n0               İHSAN DOĞRAMACI BİLKENT            Özel   \n1               İHSAN DOĞRAMACI BİLKENT            Özel   \n2      ULUSLARARASI KIBRIS ÜNİVERSİTESİ            Özel   \n3           İSTANBUL ŞEHİR ÜNİVERSİTESİ            Özel   \n4              TURGUT ÖZAL ÜNİVERSİTESİ            Özel   \n...                                 ...             ...   \n65120       İstanbul Aydın Üniversitesi            Özel   \n65121   Muğla Sıtkı Koçman Üniversitesi          Devlet   \n65122     Süleyman Demirel Üniversitesi          Devlet   \n65123              Karabük Üniversitesi          Devlet   \n65124            Gaziantep Üniversitesi          Devlet   \n\n       Burslu ise Burs Yuzdesi Burs Aliyor mu?  \\\n0                        100.0            Evet   \n1                        100.0           Hayır   \n2                        100.0           Hayır   \n3                        100.0            Evet   \n4                        100.0            Evet   \n...                        ...             ...   \n65120                      NaN            Evet   \n65121                      NaN           Hayır   \n65122                      NaN           Hayır   \n65123                      NaN           Hayır   \n65124                      NaN           Hayır   \n\n                                          Bölüm Universite Kacinci Sinif  ...  \\\n0                       Bilgisayar Muhendisligi                        3  ...   \n1              Elektrik Elektronik Mühendisliği                        3  ...   \n2                  Finans Yönetimi ve Pazarlama                        1  ...   \n3                       Bilgisayar Mühendisliği                        3  ...   \n4      Siyaset Bilimi ve Uluslararası ilişkiler                      NaN  ...   \n...                                         ...                      ...  ...   \n65120                                  Muhasebe                        2  ...   \n65121                      Turizm İşletmeciliği                        1  ...   \n65122                     Otomotiv Mühendisliği                        4  ...   \n65123                              Sanat Tarihi                        3  ...   \n65124                 İngiliz Dili ve Edebiyatı                        4  ...   \n\n      Aktif olarak bir STK üyesi misiniz?  \\\n0                                   Hayır   \n1                                   Hayır   \n2                                   Hayır   \n3                                   Hayır   \n4                                   Hayır   \n...                                   ...   \n65120                               Hayır   \n65121                               Hayır   \n65122                               Hayır   \n65123                               Hayır   \n65124                                Evet   \n\n                               Hangi STK'nin Uyesisiniz?  \\\n0                                                    NaN   \n1                                                    NaN   \n2                                                    NaN   \n3                                                    NaN   \n4                                                    NaN   \n...                                                  ...   \n65120                                                  -   \n65121                                                  -   \n65122                                                  -   \n65123                                                  -   \n65124  Genç Kızılay Topluluğu'nda 3 yıldır gönüllüyüm...   \n\n      Stk Projesine Katildiniz Mi? Girisimcilikle Ilgili Deneyiminiz Var Mi?  \\\n0                             Evet                                     Hayır   \n1                             Evet                                      Evet   \n2                            Hayır                                     Hayır   \n3                             Evet                                     Hayır   \n4                            Hayır                                     Hayır   \n...                            ...                                       ...   \n65120                          NaN                                     Hayır   \n65121                          NaN                                     Hayır   \n65122                          NaN                                     Hayır   \n65123                          NaN                                     Hayır   \n65124                          NaN                                      Evet   \n\n      Girisimcilikle Ilgili Deneyiminizi Aciklayabilir misiniz?  \\\n0                                                    NaN          \n1      Bilkent Cyberparkta bir şirkette Türkiye nin i...          \n2                                                    NaN          \n3                                                    NaN          \n4                                                    NaN          \n...                                                  ...          \n65120                                                  -          \n65121                                                  -          \n65122                                                  -          \n65123                                                  -          \n65124  Aile desteğiyle yemek sektöründe küçük bir işl...          \n\n      Ingilizce Biliyor musunuz? Ingilizce Seviyeniz?  \\\n0                            NaN                  NaN   \n1                            NaN                  NaN   \n2                            NaN                  NaN   \n3                            NaN                  NaN   \n4                            NaN                  NaN   \n...                          ...                  ...   \n65120                      Hayır                  NaN   \n65121                      Hayır                  NaN   \n65122                      Hayır                  NaN   \n65123                      Hayır                  NaN   \n65124                       Evet                  NaN   \n\n      Daha Önceden Mezun Olunduysa, Mezun Olunan Üniversite     id Yas  \n0                                                    NaN         0 NaN  \n1                                                    NaN         1 NaN  \n2                                                    NaN         2 NaN  \n3                                                    NaN         3 NaN  \n4                                                    NaN         4 NaN  \n...                                                  ...       ...  ..  \n65120                                                NaN     65120 NaN  \n65121                                                NaN     65121 NaN  \n65122                                                NaN     65122 NaN  \n65123                                                NaN     65123 NaN  \n65124                                                NaN     65124 NaN  \n\n[65125 rows x 43 columns]",
      "text/html": "<div>\n<style scoped>\n    .dataframe tbody tr th:only-of-type {\n        vertical-align: middle;\n    }\n\n    .dataframe tbody tr th {\n        vertical-align: top;\n    }\n\n    .dataframe thead th {\n        text-align: right;\n    }\n</style>\n<table border=\"1\" class=\"dataframe\">\n  <thead>\n    <tr style=\"text-align: right;\">\n      <th></th>\n      <th>Degerlendirme Puani</th>\n      <th>Cinsiyet</th>\n      <th>Dogum Yeri</th>\n      <th>Ikametgah Sehri</th>\n      <th>Universite Adi</th>\n      <th>Universite Turu</th>\n      <th>Burslu ise Burs Yuzdesi</th>\n      <th>Burs Aliyor mu?</th>\n      <th>Bölüm</th>\n      <th>Universite Kacinci Sinif</th>\n      <th>...</th>\n      <th>Aktif olarak bir STK üyesi misiniz?</th>\n      <th>Hangi STK'nin Uyesisiniz?</th>\n      <th>Stk Projesine Katildiniz Mi?</th>\n      <th>Girisimcilikle Ilgili Deneyiminiz Var Mi?</th>\n      <th>Girisimcilikle Ilgili Deneyiminizi Aciklayabilir misiniz?</th>\n      <th>Ingilizce Biliyor musunuz?</th>\n      <th>Ingilizce Seviyeniz?</th>\n      <th>Daha Önceden Mezun Olunduysa, Mezun Olunan Üniversite</th>\n      <th>id</th>\n      <th>Yas</th>\n    </tr>\n  </thead>\n  <tbody>\n    <tr>\n      <th>0</th>\n      <td>52.0</td>\n      <td>Erkek</td>\n      <td>Altindag, Ankara</td>\n      <td>Ankara</td>\n      <td>İHSAN DOĞRAMACI BİLKENT</td>\n      <td>Özel</td>\n      <td>100.0</td>\n      <td>Evet</td>\n      <td>Bilgisayar Muhendisligi</td>\n      <td>3</td>\n      <td>...</td>\n      <td>Hayır</td>\n      <td>NaN</td>\n      <td>Evet</td>\n      <td>Hayır</td>\n      <td>NaN</td>\n      <td>NaN</td>\n      <td>NaN</td>\n      <td>NaN</td>\n      <td>0</td>\n      <td>NaN</td>\n    </tr>\n    <tr>\n      <th>1</th>\n      <td>30.0</td>\n      <td>Erkek</td>\n      <td>Üsküdar</td>\n      <td>İstanbul</td>\n      <td>İHSAN DOĞRAMACI BİLKENT</td>\n      <td>Özel</td>\n      <td>100.0</td>\n      <td>Hayır</td>\n      <td>Elektrik Elektronik Mühendisliği</td>\n      <td>3</td>\n      <td>...</td>\n      <td>Hayır</td>\n      <td>NaN</td>\n      <td>Evet</td>\n      <td>Evet</td>\n      <td>Bilkent Cyberparkta bir şirkette Türkiye nin i...</td>\n      <td>NaN</td>\n      <td>NaN</td>\n      <td>NaN</td>\n      <td>1</td>\n      <td>NaN</td>\n    </tr>\n    <tr>\n      <th>2</th>\n      <td>18.0</td>\n      <td>Erkek</td>\n      <td>Samsun</td>\n      <td>İstanbul</td>\n      <td>ULUSLARARASI KIBRIS ÜNİVERSİTESİ</td>\n      <td>Özel</td>\n      <td>100.0</td>\n      <td>Hayır</td>\n      <td>Finans Yönetimi ve Pazarlama</td>\n      <td>1</td>\n      <td>...</td>\n      <td>Hayır</td>\n      <td>NaN</td>\n      <td>Hayır</td>\n      <td>Hayır</td>\n      <td>NaN</td>\n      <td>NaN</td>\n      <td>NaN</td>\n      <td>NaN</td>\n      <td>2</td>\n      <td>NaN</td>\n    </tr>\n    <tr>\n      <th>3</th>\n      <td>40.0</td>\n      <td>Erkek</td>\n      <td>Diyarbakır</td>\n      <td>İstanbul</td>\n      <td>İSTANBUL ŞEHİR ÜNİVERSİTESİ</td>\n      <td>Özel</td>\n      <td>100.0</td>\n      <td>Evet</td>\n      <td>Bilgisayar Mühendisliği</td>\n      <td>3</td>\n      <td>...</td>\n      <td>Hayır</td>\n      <td>NaN</td>\n      <td>Evet</td>\n      <td>Hayır</td>\n      <td>NaN</td>\n      <td>NaN</td>\n      <td>NaN</td>\n      <td>NaN</td>\n      <td>3</td>\n      <td>NaN</td>\n    </tr>\n    <tr>\n      <th>4</th>\n      <td>24.0</td>\n      <td>Erkek</td>\n      <td>Ankara/Altındağ</td>\n      <td>Ankara</td>\n      <td>TURGUT ÖZAL ÜNİVERSİTESİ</td>\n      <td>Özel</td>\n      <td>100.0</td>\n      <td>Evet</td>\n      <td>Siyaset Bilimi ve Uluslararası ilişkiler</td>\n      <td>NaN</td>\n      <td>...</td>\n      <td>Hayır</td>\n      <td>NaN</td>\n      <td>Hayır</td>\n      <td>Hayır</td>\n      <td>NaN</td>\n      <td>NaN</td>\n      <td>NaN</td>\n      <td>NaN</td>\n      <td>4</td>\n      <td>NaN</td>\n    </tr>\n    <tr>\n      <th>...</th>\n      <td>...</td>\n      <td>...</td>\n      <td>...</td>\n      <td>...</td>\n      <td>...</td>\n      <td>...</td>\n      <td>...</td>\n      <td>...</td>\n      <td>...</td>\n      <td>...</td>\n      <td>...</td>\n      <td>...</td>\n      <td>...</td>\n      <td>...</td>\n      <td>...</td>\n      <td>...</td>\n      <td>...</td>\n      <td>...</td>\n      <td>...</td>\n      <td>...</td>\n      <td>...</td>\n    </tr>\n    <tr>\n      <th>65120</th>\n      <td>0.0</td>\n      <td>Erkek</td>\n      <td>İstanbul</td>\n      <td>İstanbul</td>\n      <td>İstanbul Aydın Üniversitesi</td>\n      <td>Özel</td>\n      <td>NaN</td>\n      <td>Evet</td>\n      <td>Muhasebe</td>\n      <td>2</td>\n      <td>...</td>\n      <td>Hayır</td>\n      <td>-</td>\n      <td>NaN</td>\n      <td>Hayır</td>\n      <td>-</td>\n      <td>Hayır</td>\n      <td>NaN</td>\n      <td>NaN</td>\n      <td>65120</td>\n      <td>NaN</td>\n    </tr>\n    <tr>\n      <th>65121</th>\n      <td>0.0</td>\n      <td>Erkek</td>\n      <td>Hatay</td>\n      <td>Muğla</td>\n      <td>Muğla Sıtkı Koçman Üniversitesi</td>\n      <td>Devlet</td>\n      <td>NaN</td>\n      <td>Hayır</td>\n      <td>Turizm İşletmeciliği</td>\n      <td>1</td>\n      <td>...</td>\n      <td>Hayır</td>\n      <td>-</td>\n      <td>NaN</td>\n      <td>Hayır</td>\n      <td>-</td>\n      <td>Hayır</td>\n      <td>NaN</td>\n      <td>NaN</td>\n      <td>65121</td>\n      <td>NaN</td>\n    </tr>\n    <tr>\n      <th>65122</th>\n      <td>0.0</td>\n      <td>Erkek</td>\n      <td>Mersin</td>\n      <td>Mersin</td>\n      <td>Süleyman Demirel Üniversitesi</td>\n      <td>Devlet</td>\n      <td>NaN</td>\n      <td>Hayır</td>\n      <td>Otomotiv Mühendisliği</td>\n      <td>4</td>\n      <td>...</td>\n      <td>Hayır</td>\n      <td>-</td>\n      <td>NaN</td>\n      <td>Hayır</td>\n      <td>-</td>\n      <td>Hayır</td>\n      <td>NaN</td>\n      <td>NaN</td>\n      <td>65122</td>\n      <td>NaN</td>\n    </tr>\n    <tr>\n      <th>65123</th>\n      <td>0.0</td>\n      <td>Erkek</td>\n      <td>Samsun</td>\n      <td>Samsun</td>\n      <td>Karabük Üniversitesi</td>\n      <td>Devlet</td>\n      <td>NaN</td>\n      <td>Hayır</td>\n      <td>Sanat Tarihi</td>\n      <td>3</td>\n      <td>...</td>\n      <td>Hayır</td>\n      <td>-</td>\n      <td>NaN</td>\n      <td>Hayır</td>\n      <td>-</td>\n      <td>Hayır</td>\n      <td>NaN</td>\n      <td>NaN</td>\n      <td>65123</td>\n      <td>NaN</td>\n    </tr>\n    <tr>\n      <th>65124</th>\n      <td>NaN</td>\n      <td>Kadın</td>\n      <td>Hatay</td>\n      <td>Hatay</td>\n      <td>Gaziantep Üniversitesi</td>\n      <td>Devlet</td>\n      <td>NaN</td>\n      <td>Hayır</td>\n      <td>İngiliz Dili ve Edebiyatı</td>\n      <td>4</td>\n      <td>...</td>\n      <td>Evet</td>\n      <td>Genç Kızılay Topluluğu'nda 3 yıldır gönüllüyüm...</td>\n      <td>NaN</td>\n      <td>Evet</td>\n      <td>Aile desteğiyle yemek sektöründe küçük bir işl...</td>\n      <td>Evet</td>\n      <td>NaN</td>\n      <td>NaN</td>\n      <td>65124</td>\n      <td>NaN</td>\n    </tr>\n  </tbody>\n</table>\n<p>65125 rows × 43 columns</p>\n</div>"
     },
     "execution_count": 7,
     "metadata": {},
     "output_type": "execute_result"
    }
   ],
   "source": [
    "old[\"Yas\"] = old[\"Dogum Yili\"] - old[\"Basvuru Yili\"]\n",
    "old.drop(columns = [\"Dogum Yili\",\"Dogum Tarihi\",\"Basvuru Yili\"],inplace=True)"
   ],
   "metadata": {
    "collapsed": false,
    "ExecuteTime": {
     "end_time": "2024-09-13T22:54:35.969568Z",
     "start_time": "2024-09-13T22:54:35.830675Z"
    }
   },
   "id": "339b8ed90a028382",
   "execution_count": 7
  },
  {
   "cell_type": "markdown",
   "source": [
    "Handling overfitting and cleaning unwanted columns"
   ],
   "metadata": {
    "collapsed": false
   },
   "id": "155ea551ce6d03cf"
  },
  {
   "cell_type": "code",
   "outputs": [],
   "source": [
    "old.drop(columns=[\"Universite Adi\",\"Dogum Yeri\",\"Ikametgah Sehri\",\"Bölüm\",\"Lise Adi\",\"Lise Adi Diger\",\"Lise Sehir\",\"Lise Turu\",\"Lise Bolumu\",\"Lise Bolum Diger\",\"Burs Aldigi Baska Kurum\",\"Anne Egitim Durumu\",\"Baba Egitim Durumu\",\"Uye Oldugunuz Kulubun Ismi\",\"Hangi STK'nin Uyesisiniz?\",\"Girisimcilikle Ilgili Deneyiminizi Aciklayabilir misiniz?\",\"Daha Önceden Mezun Olunduysa, Mezun Olunan Üniversite\"],inplace=True)"
   ],
   "metadata": {
    "collapsed": false,
    "ExecuteTime": {
     "end_time": "2024-09-13T22:54:36.324862Z",
     "start_time": "2024-09-13T22:54:36.292614Z"
    }
   },
   "id": "4bbcaac92ddb738",
   "execution_count": 8
  },
  {
   "cell_type": "markdown",
   "source": [
    "#### Note: 'Universite türü', 'Burs alıyor mu?', 'Universite kacıncı sınıf', 'Anne Sektör', 'Baba Sektör', 'Kardeş sayısı', 'Spor Dalindaki Rolunuz Nedir?', 'Ingilizce Seviyeniz?' sütunları düzenlenecek; Üniversite not ortalaması, Lise mezuniyet Notu düzenlenmedi. Bu yüzden dataframeden kaldırıyorum."
   ],
   "metadata": {
    "collapsed": false
   },
   "id": "83a289b86ad9532c"
  },
  {
   "cell_type": "code",
   "outputs": [
    {
     "data": {
      "text/plain": "       Degerlendirme Puani Cinsiyet Universite Turu  Burslu ise Burs Yuzdesi  \\\n0                     52.0    Erkek            Özel                    100.0   \n1                     30.0    Erkek            Özel                    100.0   \n2                     18.0    Erkek            Özel                    100.0   \n3                     40.0    Erkek            Özel                    100.0   \n4                     24.0    Erkek            Özel                    100.0   \n...                    ...      ...             ...                      ...   \n65120                  0.0    Erkek            Özel                      NaN   \n65121                  0.0    Erkek          Devlet                      NaN   \n65122                  0.0    Erkek          Devlet                      NaN   \n65123                  0.0    Erkek          Devlet                      NaN   \n65124                  NaN    Kadın          Devlet                      NaN   \n\n      Burs Aliyor mu? Universite Kacinci Sinif Universite Not Ortalamasi  \\\n0                Evet                        3                    3.50-3   \n1               Hayır                        3                 3.00-2.50   \n2               Hayır                        1                       NaN   \n3                Evet                        3                 3.00-2.50   \n4                Evet                      NaN                 3.00-2.50   \n...               ...                      ...                       ...   \n65120            Evet                        2                  0 - 1.79   \n65121           Hayır                        1                Hazırlığım   \n65122           Hayır                        4                  0 - 1.79   \n65123           Hayır                        3                  0 - 1.79   \n65124           Hayır                        4               2.50 - 2.99   \n\n      Daha Once Baska Bir Universiteden Mezun Olmus Lise Mezuniyet Notu  \\\n0                                             Hayır              3.50-3   \n1                                             Hayır         3.00 - 4.00   \n2                                             Hayır              3.50-3   \n3                                             Hayır              3.50-3   \n4                                             Hayır         3.00 - 4.00   \n...                                             ...                 ...   \n65120                                           NaN             50 - 74   \n65121                                           NaN            75 - 100   \n65122                                           NaN            75 - 100   \n65123                                           NaN             50 - 74   \n65124                                           NaN            75 - 100   \n\n      Baska Bir Kurumdan Burs Aliyor mu?  ...  \\\n0                                  Hayır  ...   \n1                                  Hayır  ...   \n2                                  Hayır  ...   \n3                                  Hayır  ...   \n4                                  Hayır  ...   \n...                                  ...  ...   \n65120                              Hayır  ...   \n65121                              Hayır  ...   \n65122                               Evet  ...   \n65123                              Hayır  ...   \n65124                               Evet  ...   \n\n      Girisimcilik Kulupleri Tarzi Bir Kulube Uye misiniz?  \\\n0                                                   Evet     \n1                                                  Hayır     \n2                                                   Evet     \n3                                                   Evet     \n4                                                  Hayır     \n...                                                  ...     \n65120                                              Hayır     \n65121                                              Hayır     \n65122                                              Hayır     \n65123                                              Hayır     \n65124                                              Hayır     \n\n      Profesyonel Bir Spor Daliyla Mesgul musunuz?  \\\n0                                             Evet   \n1                                            Hayır   \n2                                            Hayır   \n3                                            Hayır   \n4                                            Hayır   \n...                                            ...   \n65120                                        Hayır   \n65121                                        Hayır   \n65122                                        Hayır   \n65123                                        Hayır   \n65124                                         Evet   \n\n      Spor Dalindaki Rolunuz Nedir? Aktif olarak bir STK üyesi misiniz?  \\\n0                             Diğer                               Hayır   \n1                                 0                               Hayır   \n2                                 0                               Hayır   \n3                                 0                               Hayır   \n4                                 0                               Hayır   \n...                             ...                                 ...   \n65120                             -                               Hayır   \n65121                             -                               Hayır   \n65122                             -                               Hayır   \n65123                             -                               Hayır   \n65124                Takım Oyuncusu                                Evet   \n\n      Stk Projesine Katildiniz Mi? Girisimcilikle Ilgili Deneyiminiz Var Mi?  \\\n0                             Evet                                     Hayır   \n1                             Evet                                      Evet   \n2                            Hayır                                     Hayır   \n3                             Evet                                     Hayır   \n4                            Hayır                                     Hayır   \n...                            ...                                       ...   \n65120                          NaN                                     Hayır   \n65121                          NaN                                     Hayır   \n65122                          NaN                                     Hayır   \n65123                          NaN                                     Hayır   \n65124                          NaN                                      Evet   \n\n      Ingilizce Biliyor musunuz? Ingilizce Seviyeniz?     id Yas  \n0                            NaN                  NaN      0 NaN  \n1                            NaN                  NaN      1 NaN  \n2                            NaN                  NaN      2 NaN  \n3                            NaN                  NaN      3 NaN  \n4                            NaN                  NaN      4 NaN  \n...                          ...                  ...    ...  ..  \n65120                      Hayır                  NaN  65120 NaN  \n65121                      Hayır                  NaN  65121 NaN  \n65122                      Hayır                  NaN  65122 NaN  \n65123                      Hayır                  NaN  65123 NaN  \n65124                       Evet                  NaN  65124 NaN  \n\n[65125 rows x 26 columns]",
      "text/html": "<div>\n<style scoped>\n    .dataframe tbody tr th:only-of-type {\n        vertical-align: middle;\n    }\n\n    .dataframe tbody tr th {\n        vertical-align: top;\n    }\n\n    .dataframe thead th {\n        text-align: right;\n    }\n</style>\n<table border=\"1\" class=\"dataframe\">\n  <thead>\n    <tr style=\"text-align: right;\">\n      <th></th>\n      <th>Degerlendirme Puani</th>\n      <th>Cinsiyet</th>\n      <th>Universite Turu</th>\n      <th>Burslu ise Burs Yuzdesi</th>\n      <th>Burs Aliyor mu?</th>\n      <th>Universite Kacinci Sinif</th>\n      <th>Universite Not Ortalamasi</th>\n      <th>Daha Once Baska Bir Universiteden Mezun Olmus</th>\n      <th>Lise Mezuniyet Notu</th>\n      <th>Baska Bir Kurumdan Burs Aliyor mu?</th>\n      <th>...</th>\n      <th>Girisimcilik Kulupleri Tarzi Bir Kulube Uye misiniz?</th>\n      <th>Profesyonel Bir Spor Daliyla Mesgul musunuz?</th>\n      <th>Spor Dalindaki Rolunuz Nedir?</th>\n      <th>Aktif olarak bir STK üyesi misiniz?</th>\n      <th>Stk Projesine Katildiniz Mi?</th>\n      <th>Girisimcilikle Ilgili Deneyiminiz Var Mi?</th>\n      <th>Ingilizce Biliyor musunuz?</th>\n      <th>Ingilizce Seviyeniz?</th>\n      <th>id</th>\n      <th>Yas</th>\n    </tr>\n  </thead>\n  <tbody>\n    <tr>\n      <th>0</th>\n      <td>52.0</td>\n      <td>Erkek</td>\n      <td>Özel</td>\n      <td>100.0</td>\n      <td>Evet</td>\n      <td>3</td>\n      <td>3.50-3</td>\n      <td>Hayır</td>\n      <td>3.50-3</td>\n      <td>Hayır</td>\n      <td>...</td>\n      <td>Evet</td>\n      <td>Evet</td>\n      <td>Diğer</td>\n      <td>Hayır</td>\n      <td>Evet</td>\n      <td>Hayır</td>\n      <td>NaN</td>\n      <td>NaN</td>\n      <td>0</td>\n      <td>NaN</td>\n    </tr>\n    <tr>\n      <th>1</th>\n      <td>30.0</td>\n      <td>Erkek</td>\n      <td>Özel</td>\n      <td>100.0</td>\n      <td>Hayır</td>\n      <td>3</td>\n      <td>3.00-2.50</td>\n      <td>Hayır</td>\n      <td>3.00 - 4.00</td>\n      <td>Hayır</td>\n      <td>...</td>\n      <td>Hayır</td>\n      <td>Hayır</td>\n      <td>0</td>\n      <td>Hayır</td>\n      <td>Evet</td>\n      <td>Evet</td>\n      <td>NaN</td>\n      <td>NaN</td>\n      <td>1</td>\n      <td>NaN</td>\n    </tr>\n    <tr>\n      <th>2</th>\n      <td>18.0</td>\n      <td>Erkek</td>\n      <td>Özel</td>\n      <td>100.0</td>\n      <td>Hayır</td>\n      <td>1</td>\n      <td>NaN</td>\n      <td>Hayır</td>\n      <td>3.50-3</td>\n      <td>Hayır</td>\n      <td>...</td>\n      <td>Evet</td>\n      <td>Hayır</td>\n      <td>0</td>\n      <td>Hayır</td>\n      <td>Hayır</td>\n      <td>Hayır</td>\n      <td>NaN</td>\n      <td>NaN</td>\n      <td>2</td>\n      <td>NaN</td>\n    </tr>\n    <tr>\n      <th>3</th>\n      <td>40.0</td>\n      <td>Erkek</td>\n      <td>Özel</td>\n      <td>100.0</td>\n      <td>Evet</td>\n      <td>3</td>\n      <td>3.00-2.50</td>\n      <td>Hayır</td>\n      <td>3.50-3</td>\n      <td>Hayır</td>\n      <td>...</td>\n      <td>Evet</td>\n      <td>Hayır</td>\n      <td>0</td>\n      <td>Hayır</td>\n      <td>Evet</td>\n      <td>Hayır</td>\n      <td>NaN</td>\n      <td>NaN</td>\n      <td>3</td>\n      <td>NaN</td>\n    </tr>\n    <tr>\n      <th>4</th>\n      <td>24.0</td>\n      <td>Erkek</td>\n      <td>Özel</td>\n      <td>100.0</td>\n      <td>Evet</td>\n      <td>NaN</td>\n      <td>3.00-2.50</td>\n      <td>Hayır</td>\n      <td>3.00 - 4.00</td>\n      <td>Hayır</td>\n      <td>...</td>\n      <td>Hayır</td>\n      <td>Hayır</td>\n      <td>0</td>\n      <td>Hayır</td>\n      <td>Hayır</td>\n      <td>Hayır</td>\n      <td>NaN</td>\n      <td>NaN</td>\n      <td>4</td>\n      <td>NaN</td>\n    </tr>\n    <tr>\n      <th>...</th>\n      <td>...</td>\n      <td>...</td>\n      <td>...</td>\n      <td>...</td>\n      <td>...</td>\n      <td>...</td>\n      <td>...</td>\n      <td>...</td>\n      <td>...</td>\n      <td>...</td>\n      <td>...</td>\n      <td>...</td>\n      <td>...</td>\n      <td>...</td>\n      <td>...</td>\n      <td>...</td>\n      <td>...</td>\n      <td>...</td>\n      <td>...</td>\n      <td>...</td>\n      <td>...</td>\n    </tr>\n    <tr>\n      <th>65120</th>\n      <td>0.0</td>\n      <td>Erkek</td>\n      <td>Özel</td>\n      <td>NaN</td>\n      <td>Evet</td>\n      <td>2</td>\n      <td>0 - 1.79</td>\n      <td>NaN</td>\n      <td>50 - 74</td>\n      <td>Hayır</td>\n      <td>...</td>\n      <td>Hayır</td>\n      <td>Hayır</td>\n      <td>-</td>\n      <td>Hayır</td>\n      <td>NaN</td>\n      <td>Hayır</td>\n      <td>Hayır</td>\n      <td>NaN</td>\n      <td>65120</td>\n      <td>NaN</td>\n    </tr>\n    <tr>\n      <th>65121</th>\n      <td>0.0</td>\n      <td>Erkek</td>\n      <td>Devlet</td>\n      <td>NaN</td>\n      <td>Hayır</td>\n      <td>1</td>\n      <td>Hazırlığım</td>\n      <td>NaN</td>\n      <td>75 - 100</td>\n      <td>Hayır</td>\n      <td>...</td>\n      <td>Hayır</td>\n      <td>Hayır</td>\n      <td>-</td>\n      <td>Hayır</td>\n      <td>NaN</td>\n      <td>Hayır</td>\n      <td>Hayır</td>\n      <td>NaN</td>\n      <td>65121</td>\n      <td>NaN</td>\n    </tr>\n    <tr>\n      <th>65122</th>\n      <td>0.0</td>\n      <td>Erkek</td>\n      <td>Devlet</td>\n      <td>NaN</td>\n      <td>Hayır</td>\n      <td>4</td>\n      <td>0 - 1.79</td>\n      <td>NaN</td>\n      <td>75 - 100</td>\n      <td>Evet</td>\n      <td>...</td>\n      <td>Hayır</td>\n      <td>Hayır</td>\n      <td>-</td>\n      <td>Hayır</td>\n      <td>NaN</td>\n      <td>Hayır</td>\n      <td>Hayır</td>\n      <td>NaN</td>\n      <td>65122</td>\n      <td>NaN</td>\n    </tr>\n    <tr>\n      <th>65123</th>\n      <td>0.0</td>\n      <td>Erkek</td>\n      <td>Devlet</td>\n      <td>NaN</td>\n      <td>Hayır</td>\n      <td>3</td>\n      <td>0 - 1.79</td>\n      <td>NaN</td>\n      <td>50 - 74</td>\n      <td>Hayır</td>\n      <td>...</td>\n      <td>Hayır</td>\n      <td>Hayır</td>\n      <td>-</td>\n      <td>Hayır</td>\n      <td>NaN</td>\n      <td>Hayır</td>\n      <td>Hayır</td>\n      <td>NaN</td>\n      <td>65123</td>\n      <td>NaN</td>\n    </tr>\n    <tr>\n      <th>65124</th>\n      <td>NaN</td>\n      <td>Kadın</td>\n      <td>Devlet</td>\n      <td>NaN</td>\n      <td>Hayır</td>\n      <td>4</td>\n      <td>2.50 - 2.99</td>\n      <td>NaN</td>\n      <td>75 - 100</td>\n      <td>Evet</td>\n      <td>...</td>\n      <td>Hayır</td>\n      <td>Evet</td>\n      <td>Takım Oyuncusu</td>\n      <td>Evet</td>\n      <td>NaN</td>\n      <td>Evet</td>\n      <td>Evet</td>\n      <td>NaN</td>\n      <td>65124</td>\n      <td>NaN</td>\n    </tr>\n  </tbody>\n</table>\n<p>65125 rows × 26 columns</p>\n</div>"
     },
     "execution_count": 9,
     "metadata": {},
     "output_type": "execute_result"
    }
   ],
   "source": [
    "old"
   ],
   "metadata": {
    "collapsed": false,
    "ExecuteTime": {
     "end_time": "2024-09-13T22:54:36.955995Z",
     "start_time": "2024-09-13T22:54:36.844023Z"
    }
   },
   "id": "83533d59a127e3b3",
   "execution_count": 9
  },
  {
   "cell_type": "code",
   "outputs": [
    {
     "data": {
      "text/plain": "array(['Özel', 'Devlet', 'DEVLET', 'ÖZEL', nan], dtype=object)"
     },
     "execution_count": 10,
     "metadata": {},
     "output_type": "execute_result"
    }
   ],
   "source": [
    "old[\"Universite Turu\"].unique()"
   ],
   "metadata": {
    "collapsed": false,
    "ExecuteTime": {
     "end_time": "2024-09-13T22:54:37.612231Z",
     "start_time": "2024-09-13T22:54:37.602933Z"
    }
   },
   "id": "e54a0e7991ee52e0",
   "execution_count": 10
  },
  {
   "cell_type": "code",
   "outputs": [],
   "source": [
    "old[\"Universite Turu\"] = old[\"Universite Turu\"].str.replace(\"ÖZEL\",\"Özel\")\n",
    "old[\"Universite Turu\"] = old[\"Universite Turu\"].str.replace(\"DEVLET\",\"Devlet\")"
   ],
   "metadata": {
    "collapsed": false,
    "ExecuteTime": {
     "end_time": "2024-09-13T22:54:38.242020Z",
     "start_time": "2024-09-13T22:54:38.204830Z"
    }
   },
   "id": "626bbb39b1866bd6",
   "execution_count": 11
  },
  {
   "cell_type": "code",
   "outputs": [
    {
     "data": {
      "text/plain": "array(['Evet', 'Hayır', 'hayır', 'evet', 'EVET'], dtype=object)"
     },
     "execution_count": 12,
     "metadata": {},
     "output_type": "execute_result"
    }
   ],
   "source": [
    "old[\"Burs Aliyor mu?\"].unique()"
   ],
   "metadata": {
    "collapsed": false,
    "ExecuteTime": {
     "end_time": "2024-09-13T22:54:38.747442Z",
     "start_time": "2024-09-13T22:54:38.739074Z"
    }
   },
   "id": "ba4c33d8d71f398",
   "execution_count": 12
  },
  {
   "cell_type": "code",
   "outputs": [],
   "source": [
    "old[\"Burs Aliyor mu?\"] = old[\"Burs Aliyor mu?\"].str.replace(\"EVET\",\"Evet\")\n",
    "old[\"Burs Aliyor mu?\"] = old[\"Burs Aliyor mu?\"].str.replace(\"evet\",\"Evet\")\n",
    "old[\"Burs Aliyor mu?\"] = old[\"Burs Aliyor mu?\"].str.replace(\"hayır\",\"Hayır\")"
   ],
   "metadata": {
    "collapsed": false,
    "ExecuteTime": {
     "end_time": "2024-09-13T22:54:39.092036Z",
     "start_time": "2024-09-13T22:54:39.028064Z"
    }
   },
   "id": "cf3824f7641cd71e",
   "execution_count": 13
  },
  {
   "cell_type": "code",
   "outputs": [
    {
     "data": {
      "text/plain": "array(['3', '1', nan, '2', '4', 'Hazırlık', 'Mezun', 'hazırlık',\n       'Yüksek Lisans', '5', '6', 'Tez', '0'], dtype=object)"
     },
     "execution_count": 14,
     "metadata": {},
     "output_type": "execute_result"
    }
   ],
   "source": [
    "old[\"Universite Kacinci Sinif\"].unique()"
   ],
   "metadata": {
    "collapsed": false,
    "ExecuteTime": {
     "end_time": "2024-09-13T22:54:39.336034Z",
     "start_time": "2024-09-13T22:54:39.328638Z"
    }
   },
   "id": "bd0575d8b7ed7071",
   "execution_count": 14
  },
  {
   "cell_type": "code",
   "outputs": [],
   "source": [
    "old[\"Universite Kacinci Sinif\"] = old[\"Universite Kacinci Sinif\"].str.replace(\"hazırlık\",\"Hazırlık\")\n",
    "old[\"Universite Kacinci Sinif\"] = old[\"Universite Kacinci Sinif\"].str.replace(\"Nan\",\"-\")"
   ],
   "metadata": {
    "collapsed": false,
    "ExecuteTime": {
     "end_time": "2024-09-13T22:54:39.691883Z",
     "start_time": "2024-09-13T22:54:39.660776Z"
    }
   },
   "id": "e3837780c1e95eba",
   "execution_count": 15
  },
  {
   "cell_type": "code",
   "outputs": [
    {
     "data": {
      "text/plain": "array(['0', 'Kamu', 'Özel Sektör', 'Diğer', nan, 'KAMU', 'ÖZEL SEKTÖR',\n       'DİĞER', '-'], dtype=object)"
     },
     "execution_count": 16,
     "metadata": {},
     "output_type": "execute_result"
    }
   ],
   "source": [
    "old[\"Anne Sektor\"].unique()"
   ],
   "metadata": {
    "collapsed": false,
    "ExecuteTime": {
     "end_time": "2024-09-13T22:54:39.912688Z",
     "start_time": "2024-09-13T22:54:39.905067Z"
    }
   },
   "id": "c2531e2553e56e75",
   "execution_count": 16
  },
  {
   "cell_type": "code",
   "outputs": [],
   "source": [
    "old[\"Anne Sektor\"] = old[\"Anne Sektor\"].str.replace(\"KAMU\",\"Kamu\")\n",
    "old[\"Anne Sektor\"] = old[\"Anne Sektor\"].str.replace(\"ÖZEL SEKTÖR\",\"Özel Sektör\")\n",
    "old[\"Anne Sektor\"] = old[\"Anne Sektor\"].str.replace(\"DİĞER\",\"Diğer\")\n",
    "old[\"Anne Sektor\"] = old[\"Anne Sektor\"].str.replace(\"Nan\",\"-\")"
   ],
   "metadata": {
    "collapsed": false,
    "ExecuteTime": {
     "end_time": "2024-09-13T22:54:40.209937Z",
     "start_time": "2024-09-13T22:54:40.150773Z"
    }
   },
   "id": "130f1653fee7f130",
   "execution_count": 17
  },
  {
   "cell_type": "code",
   "outputs": [
    {
     "data": {
      "text/plain": "array(['0', 'Özel Sektör', 'Kamu', nan, 'Diğer', 'KAMU', 'DİĞER',\n       'ÖZEL SEKTÖR', '-'], dtype=object)"
     },
     "execution_count": 18,
     "metadata": {},
     "output_type": "execute_result"
    }
   ],
   "source": [
    "old[\"Baba Sektor\"].unique()"
   ],
   "metadata": {
    "collapsed": false,
    "ExecuteTime": {
     "end_time": "2024-09-13T22:54:40.437871Z",
     "start_time": "2024-09-13T22:54:40.429912Z"
    }
   },
   "id": "dfd406c784dfb13a",
   "execution_count": 18
  },
  {
   "cell_type": "code",
   "outputs": [],
   "source": [
    "old[\"Baba Sektor\"] = old[\"Baba Sektor\"].str.replace(\"Nan\",\"-\")\n",
    "old[\"Baba Sektor\"] = old[\"Baba Sektor\"].str.replace(\"ÖZEL SEKTÖR\",\"Özel Sektör\")\n",
    "old[\"Baba Sektor\"] = old[\"Baba Sektor\"].str.replace(\"KAMU\",\"Kamu\")\n",
    "old[\"Baba Sektor\"] = old[\"Baba Sektor\"].str.replace(\"DİĞER\",\"Diğer\")"
   ],
   "metadata": {
    "collapsed": false,
    "ExecuteTime": {
     "end_time": "2024-09-13T22:54:40.728721Z",
     "start_time": "2024-09-13T22:54:40.657009Z"
    }
   },
   "id": "b73a5be6ad79943",
   "execution_count": 19
  },
  {
   "cell_type": "code",
   "outputs": [
    {
     "data": {
      "text/plain": "array(['1', '6', '10', '3', nan, '4', '2', '5', '0', '7', '8', '11', '9',\n       '12', '13', 'Kardeş Sayısı 1 Ek Bilgi Aile Hk. Anne Vefat', '18',\n       '14', '4.0', '5.0', '1.0', '2.0', '6.0', '3.0', '9.0', '0.0',\n       '10.0', '7.0', '8.0'], dtype=object)"
     },
     "execution_count": 20,
     "metadata": {},
     "output_type": "execute_result"
    }
   ],
   "source": [
    "old[\"Kardes Sayisi\"].unique()"
   ],
   "metadata": {
    "collapsed": false,
    "ExecuteTime": {
     "end_time": "2024-09-13T22:54:41.027893Z",
     "start_time": "2024-09-13T22:54:41.020012Z"
    }
   },
   "id": "d0e89e7848975831",
   "execution_count": 20
  },
  {
   "cell_type": "code",
   "outputs": [],
   "source": [
    "old[\"Kardes Sayisi\"] = old[\"Kardes Sayisi\"].str.replace(\"4.0\",\"4\")\n",
    "old[\"Kardes Sayisi\"] = old[\"Kardes Sayisi\"].str.replace(\"5.0\",\"5\")\n",
    "old[\"Kardes Sayisi\"] = old[\"Kardes Sayisi\"].str.replace(\"Nan\",\"-\")\n",
    "old[\"Kardes Sayisi\"] = old[\"Kardes Sayisi\"].str.replace(\"Kardeş Sayısı 1 Ek Bilgi Aile Hk. Anne Vefat\",\"1\")"
   ],
   "metadata": {
    "collapsed": false,
    "ExecuteTime": {
     "end_time": "2024-09-13T22:54:41.507895Z",
     "start_time": "2024-09-13T22:54:41.445974Z"
    }
   },
   "id": "328dd78423b79840",
   "execution_count": 21
  },
  {
   "cell_type": "code",
   "outputs": [
    {
     "data": {
      "text/plain": "array(['Diğer', '0', nan, 'Kaptan', 'KAPTAN / LİDER', 'DİĞER',\n       'Lider/Kaptan', 'Bireysel', 'Takım Oyuncusu', '-'], dtype=object)"
     },
     "execution_count": 22,
     "metadata": {},
     "output_type": "execute_result"
    }
   ],
   "source": [
    "old[\"Spor Dalindaki Rolunuz Nedir?\"].unique()"
   ],
   "metadata": {
    "collapsed": false,
    "ExecuteTime": {
     "end_time": "2024-09-13T22:54:41.965752Z",
     "start_time": "2024-09-13T22:54:41.951826Z"
    }
   },
   "id": "fd860922cce277df",
   "execution_count": 22
  },
  {
   "cell_type": "code",
   "outputs": [],
   "source": [
    "old[\"Spor Dalindaki Rolunuz Nedir?\"] = old[\"Spor Dalindaki Rolunuz Nedir?\"].str.replace(\"DİĞER\",\"Diğer\")\n",
    "old[\"Spor Dalindaki Rolunuz Nedir?\"] = old[\"Spor Dalindaki Rolunuz Nedir?\"].str.replace(\"Nan\",\"-\")\n",
    "old[\"Spor Dalindaki Rolunuz Nedir?\"] = old[\"Spor Dalindaki Rolunuz Nedir?\"].str.replace(\"KAPTAN / LİDER\",\"Kaptan\")\n",
    "old[\"Spor Dalindaki Rolunuz Nedir?\"] = old[\"Spor Dalindaki Rolunuz Nedir?\"].str.replace(\"Lider/Kaptan\",\"Kaptan\")"
   ],
   "metadata": {
    "collapsed": false,
    "ExecuteTime": {
     "end_time": "2024-09-13T22:54:42.428542Z",
     "start_time": "2024-09-13T22:54:42.371767Z"
    }
   },
   "id": "1a43ce79662975e1",
   "execution_count": 23
  },
  {
   "cell_type": "code",
   "outputs": [
    {
     "data": {
      "text/plain": "array([nan, 'İleri', 'Orta', '0', 'Başlangıç'], dtype=object)"
     },
     "execution_count": 24,
     "metadata": {},
     "output_type": "execute_result"
    }
   ],
   "source": [
    "old[\"Ingilizce Seviyeniz?\"].unique()"
   ],
   "metadata": {
    "collapsed": false,
    "ExecuteTime": {
     "end_time": "2024-09-13T22:54:42.700978Z",
     "start_time": "2024-09-13T22:54:42.691637Z"
    }
   },
   "id": "8b79418e5d332647",
   "execution_count": 24
  },
  {
   "cell_type": "code",
   "outputs": [],
   "source": [
    "old[\"Ingilizce Seviyeniz?\"] = old[\"Ingilizce Seviyeniz?\"].str.replace(\"Nan\",\"-\")"
   ],
   "metadata": {
    "collapsed": false,
    "ExecuteTime": {
     "end_time": "2024-09-13T22:54:43.109926Z",
     "start_time": "2024-09-13T22:54:43.093834Z"
    }
   },
   "id": "612ebb5e6d5fd12a",
   "execution_count": 25
  },
  {
   "cell_type": "code",
   "outputs": [
    {
     "data": {
      "text/plain": "Degerlendirme Puani                                        97\nCinsiyet                                                    4\nUniversite Turu                                             2\nBurslu ise Burs Yuzdesi                                    51\nBurs Aliyor mu?                                             2\nUniversite Kacinci Sinif                                   11\nUniversite Not Ortalamasi                                  20\nDaha Once Baska Bir Universiteden Mezun Olmus               2\nLise Mezuniyet Notu                                        19\nBaska Bir Kurumdan Burs Aliyor mu?                          2\nBaska Kurumdan Aldigi Burs Miktari                        587\nAnne Calisma Durumu                                         3\nAnne Sektor                                                 5\nBaba Calisma Durumu                                         3\nBaba Sektor                                                 5\nKardes Sayisi                                              25\nGirisimcilik Kulupleri Tarzi Bir Kulube Uye misiniz?        2\nProfesyonel Bir Spor Daliyla Mesgul musunuz?                2\nSpor Dalindaki Rolunuz Nedir?                               6\nAktif olarak bir STK üyesi misiniz?                         2\nStk Projesine Katildiniz Mi?                                2\nGirisimcilikle Ilgili Deneyiminiz Var Mi?                   2\nIngilizce Biliyor musunuz?                                  2\nIngilizce Seviyeniz?                                        4\nid                                                      65125\nYas                                                        14\ndtype: int64"
     },
     "execution_count": 26,
     "metadata": {},
     "output_type": "execute_result"
    }
   ],
   "source": [
    "old.nunique()"
   ],
   "metadata": {
    "collapsed": false,
    "ExecuteTime": {
     "end_time": "2024-09-13T22:54:43.539773Z",
     "start_time": "2024-09-13T22:54:43.448784Z"
    }
   },
   "id": "a64b244d7867bc3b",
   "execution_count": 26
  },
  {
   "cell_type": "code",
   "outputs": [],
   "source": [
    "old.drop(columns=[\"Universite Not Ortalamasi\",\"Lise Mezuniyet Notu\"],inplace=True)"
   ],
   "metadata": {
    "collapsed": false,
    "ExecuteTime": {
     "end_time": "2024-09-13T22:54:43.958054Z",
     "start_time": "2024-09-13T22:54:43.916136Z"
    }
   },
   "id": "df86f9ad364cf478",
   "execution_count": 27
  },
  {
   "cell_type": "code",
   "outputs": [
    {
     "data": {
      "text/plain": "       Degerlendirme Puani Cinsiyet Universite Turu  Burslu ise Burs Yuzdesi  \\\n0                     52.0    Erkek            Özel                    100.0   \n1                     30.0    Erkek            Özel                    100.0   \n2                     18.0    Erkek            Özel                    100.0   \n3                     40.0    Erkek            Özel                    100.0   \n4                     24.0    Erkek            Özel                    100.0   \n...                    ...      ...             ...                      ...   \n65120                  0.0    Erkek            Özel                      NaN   \n65121                  0.0    Erkek          Devlet                      NaN   \n65122                  0.0    Erkek          Devlet                      NaN   \n65123                  0.0    Erkek          Devlet                      NaN   \n65124                  NaN    Kadın          Devlet                      NaN   \n\n      Burs Aliyor mu? Universite Kacinci Sinif  \\\n0                Evet                        3   \n1               Hayır                        3   \n2               Hayır                        1   \n3                Evet                        3   \n4                Evet                      NaN   \n...               ...                      ...   \n65120            Evet                        2   \n65121           Hayır                        1   \n65122           Hayır                        4   \n65123           Hayır                        3   \n65124           Hayır                        4   \n\n      Daha Once Baska Bir Universiteden Mezun Olmus  \\\n0                                             Hayır   \n1                                             Hayır   \n2                                             Hayır   \n3                                             Hayır   \n4                                             Hayır   \n...                                             ...   \n65120                                           NaN   \n65121                                           NaN   \n65122                                           NaN   \n65123                                           NaN   \n65124                                           NaN   \n\n      Baska Bir Kurumdan Burs Aliyor mu? Baska Kurumdan Aldigi Burs Miktari  \\\n0                                  Hayır                                NaN   \n1                                  Hayır                                NaN   \n2                                  Hayır                                NaN   \n3                                  Hayır                                NaN   \n4                                  Hayır                                NaN   \n...                                  ...                                ...   \n65120                              Hayır                                  -   \n65121                              Hayır                                  -   \n65122                               Evet                        500₺ - 999₺   \n65123                              Hayır                                  -   \n65124                               Evet                        500₺ - 999₺   \n\n      Anne Calisma Durumu  ...  \\\n0                   Hayır  ...   \n1                    Evet  ...   \n2                   Hayır  ...   \n3                   Hayır  ...   \n4                   Hayır  ...   \n...                   ...  ...   \n65120               Hayır  ...   \n65121               Hayır  ...   \n65122               Hayır  ...   \n65123                Evet  ...   \n65124               Hayır  ...   \n\n      Girisimcilik Kulupleri Tarzi Bir Kulube Uye misiniz?  \\\n0                                                   Evet     \n1                                                  Hayır     \n2                                                   Evet     \n3                                                   Evet     \n4                                                  Hayır     \n...                                                  ...     \n65120                                              Hayır     \n65121                                              Hayır     \n65122                                              Hayır     \n65123                                              Hayır     \n65124                                              Hayır     \n\n      Profesyonel Bir Spor Daliyla Mesgul musunuz?  \\\n0                                             Evet   \n1                                            Hayır   \n2                                            Hayır   \n3                                            Hayır   \n4                                            Hayır   \n...                                            ...   \n65120                                        Hayır   \n65121                                        Hayır   \n65122                                        Hayır   \n65123                                        Hayır   \n65124                                         Evet   \n\n      Spor Dalindaki Rolunuz Nedir? Aktif olarak bir STK üyesi misiniz?  \\\n0                             Diğer                               Hayır   \n1                                 0                               Hayır   \n2                                 0                               Hayır   \n3                                 0                               Hayır   \n4                                 0                               Hayır   \n...                             ...                                 ...   \n65120                             -                               Hayır   \n65121                             -                               Hayır   \n65122                             -                               Hayır   \n65123                             -                               Hayır   \n65124                Takım Oyuncusu                                Evet   \n\n      Stk Projesine Katildiniz Mi? Girisimcilikle Ilgili Deneyiminiz Var Mi?  \\\n0                             Evet                                     Hayır   \n1                             Evet                                      Evet   \n2                            Hayır                                     Hayır   \n3                             Evet                                     Hayır   \n4                            Hayır                                     Hayır   \n...                            ...                                       ...   \n65120                          NaN                                     Hayır   \n65121                          NaN                                     Hayır   \n65122                          NaN                                     Hayır   \n65123                          NaN                                     Hayır   \n65124                          NaN                                      Evet   \n\n      Ingilizce Biliyor musunuz? Ingilizce Seviyeniz?     id Yas  \n0                            NaN                  NaN      0 NaN  \n1                            NaN                  NaN      1 NaN  \n2                            NaN                  NaN      2 NaN  \n3                            NaN                  NaN      3 NaN  \n4                            NaN                  NaN      4 NaN  \n...                          ...                  ...    ...  ..  \n65120                      Hayır                  NaN  65120 NaN  \n65121                      Hayır                  NaN  65121 NaN  \n65122                      Hayır                  NaN  65122 NaN  \n65123                      Hayır                  NaN  65123 NaN  \n65124                       Evet                  NaN  65124 NaN  \n\n[65125 rows x 24 columns]",
      "text/html": "<div>\n<style scoped>\n    .dataframe tbody tr th:only-of-type {\n        vertical-align: middle;\n    }\n\n    .dataframe tbody tr th {\n        vertical-align: top;\n    }\n\n    .dataframe thead th {\n        text-align: right;\n    }\n</style>\n<table border=\"1\" class=\"dataframe\">\n  <thead>\n    <tr style=\"text-align: right;\">\n      <th></th>\n      <th>Degerlendirme Puani</th>\n      <th>Cinsiyet</th>\n      <th>Universite Turu</th>\n      <th>Burslu ise Burs Yuzdesi</th>\n      <th>Burs Aliyor mu?</th>\n      <th>Universite Kacinci Sinif</th>\n      <th>Daha Once Baska Bir Universiteden Mezun Olmus</th>\n      <th>Baska Bir Kurumdan Burs Aliyor mu?</th>\n      <th>Baska Kurumdan Aldigi Burs Miktari</th>\n      <th>Anne Calisma Durumu</th>\n      <th>...</th>\n      <th>Girisimcilik Kulupleri Tarzi Bir Kulube Uye misiniz?</th>\n      <th>Profesyonel Bir Spor Daliyla Mesgul musunuz?</th>\n      <th>Spor Dalindaki Rolunuz Nedir?</th>\n      <th>Aktif olarak bir STK üyesi misiniz?</th>\n      <th>Stk Projesine Katildiniz Mi?</th>\n      <th>Girisimcilikle Ilgili Deneyiminiz Var Mi?</th>\n      <th>Ingilizce Biliyor musunuz?</th>\n      <th>Ingilizce Seviyeniz?</th>\n      <th>id</th>\n      <th>Yas</th>\n    </tr>\n  </thead>\n  <tbody>\n    <tr>\n      <th>0</th>\n      <td>52.0</td>\n      <td>Erkek</td>\n      <td>Özel</td>\n      <td>100.0</td>\n      <td>Evet</td>\n      <td>3</td>\n      <td>Hayır</td>\n      <td>Hayır</td>\n      <td>NaN</td>\n      <td>Hayır</td>\n      <td>...</td>\n      <td>Evet</td>\n      <td>Evet</td>\n      <td>Diğer</td>\n      <td>Hayır</td>\n      <td>Evet</td>\n      <td>Hayır</td>\n      <td>NaN</td>\n      <td>NaN</td>\n      <td>0</td>\n      <td>NaN</td>\n    </tr>\n    <tr>\n      <th>1</th>\n      <td>30.0</td>\n      <td>Erkek</td>\n      <td>Özel</td>\n      <td>100.0</td>\n      <td>Hayır</td>\n      <td>3</td>\n      <td>Hayır</td>\n      <td>Hayır</td>\n      <td>NaN</td>\n      <td>Evet</td>\n      <td>...</td>\n      <td>Hayır</td>\n      <td>Hayır</td>\n      <td>0</td>\n      <td>Hayır</td>\n      <td>Evet</td>\n      <td>Evet</td>\n      <td>NaN</td>\n      <td>NaN</td>\n      <td>1</td>\n      <td>NaN</td>\n    </tr>\n    <tr>\n      <th>2</th>\n      <td>18.0</td>\n      <td>Erkek</td>\n      <td>Özel</td>\n      <td>100.0</td>\n      <td>Hayır</td>\n      <td>1</td>\n      <td>Hayır</td>\n      <td>Hayır</td>\n      <td>NaN</td>\n      <td>Hayır</td>\n      <td>...</td>\n      <td>Evet</td>\n      <td>Hayır</td>\n      <td>0</td>\n      <td>Hayır</td>\n      <td>Hayır</td>\n      <td>Hayır</td>\n      <td>NaN</td>\n      <td>NaN</td>\n      <td>2</td>\n      <td>NaN</td>\n    </tr>\n    <tr>\n      <th>3</th>\n      <td>40.0</td>\n      <td>Erkek</td>\n      <td>Özel</td>\n      <td>100.0</td>\n      <td>Evet</td>\n      <td>3</td>\n      <td>Hayır</td>\n      <td>Hayır</td>\n      <td>NaN</td>\n      <td>Hayır</td>\n      <td>...</td>\n      <td>Evet</td>\n      <td>Hayır</td>\n      <td>0</td>\n      <td>Hayır</td>\n      <td>Evet</td>\n      <td>Hayır</td>\n      <td>NaN</td>\n      <td>NaN</td>\n      <td>3</td>\n      <td>NaN</td>\n    </tr>\n    <tr>\n      <th>4</th>\n      <td>24.0</td>\n      <td>Erkek</td>\n      <td>Özel</td>\n      <td>100.0</td>\n      <td>Evet</td>\n      <td>NaN</td>\n      <td>Hayır</td>\n      <td>Hayır</td>\n      <td>NaN</td>\n      <td>Hayır</td>\n      <td>...</td>\n      <td>Hayır</td>\n      <td>Hayır</td>\n      <td>0</td>\n      <td>Hayır</td>\n      <td>Hayır</td>\n      <td>Hayır</td>\n      <td>NaN</td>\n      <td>NaN</td>\n      <td>4</td>\n      <td>NaN</td>\n    </tr>\n    <tr>\n      <th>...</th>\n      <td>...</td>\n      <td>...</td>\n      <td>...</td>\n      <td>...</td>\n      <td>...</td>\n      <td>...</td>\n      <td>...</td>\n      <td>...</td>\n      <td>...</td>\n      <td>...</td>\n      <td>...</td>\n      <td>...</td>\n      <td>...</td>\n      <td>...</td>\n      <td>...</td>\n      <td>...</td>\n      <td>...</td>\n      <td>...</td>\n      <td>...</td>\n      <td>...</td>\n      <td>...</td>\n    </tr>\n    <tr>\n      <th>65120</th>\n      <td>0.0</td>\n      <td>Erkek</td>\n      <td>Özel</td>\n      <td>NaN</td>\n      <td>Evet</td>\n      <td>2</td>\n      <td>NaN</td>\n      <td>Hayır</td>\n      <td>-</td>\n      <td>Hayır</td>\n      <td>...</td>\n      <td>Hayır</td>\n      <td>Hayır</td>\n      <td>-</td>\n      <td>Hayır</td>\n      <td>NaN</td>\n      <td>Hayır</td>\n      <td>Hayır</td>\n      <td>NaN</td>\n      <td>65120</td>\n      <td>NaN</td>\n    </tr>\n    <tr>\n      <th>65121</th>\n      <td>0.0</td>\n      <td>Erkek</td>\n      <td>Devlet</td>\n      <td>NaN</td>\n      <td>Hayır</td>\n      <td>1</td>\n      <td>NaN</td>\n      <td>Hayır</td>\n      <td>-</td>\n      <td>Hayır</td>\n      <td>...</td>\n      <td>Hayır</td>\n      <td>Hayır</td>\n      <td>-</td>\n      <td>Hayır</td>\n      <td>NaN</td>\n      <td>Hayır</td>\n      <td>Hayır</td>\n      <td>NaN</td>\n      <td>65121</td>\n      <td>NaN</td>\n    </tr>\n    <tr>\n      <th>65122</th>\n      <td>0.0</td>\n      <td>Erkek</td>\n      <td>Devlet</td>\n      <td>NaN</td>\n      <td>Hayır</td>\n      <td>4</td>\n      <td>NaN</td>\n      <td>Evet</td>\n      <td>500₺ - 999₺</td>\n      <td>Hayır</td>\n      <td>...</td>\n      <td>Hayır</td>\n      <td>Hayır</td>\n      <td>-</td>\n      <td>Hayır</td>\n      <td>NaN</td>\n      <td>Hayır</td>\n      <td>Hayır</td>\n      <td>NaN</td>\n      <td>65122</td>\n      <td>NaN</td>\n    </tr>\n    <tr>\n      <th>65123</th>\n      <td>0.0</td>\n      <td>Erkek</td>\n      <td>Devlet</td>\n      <td>NaN</td>\n      <td>Hayır</td>\n      <td>3</td>\n      <td>NaN</td>\n      <td>Hayır</td>\n      <td>-</td>\n      <td>Evet</td>\n      <td>...</td>\n      <td>Hayır</td>\n      <td>Hayır</td>\n      <td>-</td>\n      <td>Hayır</td>\n      <td>NaN</td>\n      <td>Hayır</td>\n      <td>Hayır</td>\n      <td>NaN</td>\n      <td>65123</td>\n      <td>NaN</td>\n    </tr>\n    <tr>\n      <th>65124</th>\n      <td>NaN</td>\n      <td>Kadın</td>\n      <td>Devlet</td>\n      <td>NaN</td>\n      <td>Hayır</td>\n      <td>4</td>\n      <td>NaN</td>\n      <td>Evet</td>\n      <td>500₺ - 999₺</td>\n      <td>Hayır</td>\n      <td>...</td>\n      <td>Hayır</td>\n      <td>Evet</td>\n      <td>Takım Oyuncusu</td>\n      <td>Evet</td>\n      <td>NaN</td>\n      <td>Evet</td>\n      <td>Evet</td>\n      <td>NaN</td>\n      <td>65124</td>\n      <td>NaN</td>\n    </tr>\n  </tbody>\n</table>\n<p>65125 rows × 24 columns</p>\n</div>"
     },
     "execution_count": 28,
     "metadata": {},
     "output_type": "execute_result"
    }
   ],
   "source": [
    "old"
   ],
   "metadata": {
    "collapsed": false,
    "ExecuteTime": {
     "end_time": "2024-09-13T22:54:44.462623Z",
     "start_time": "2024-09-13T22:54:44.354428Z"
    }
   },
   "id": "9191f15fa406f636",
   "execution_count": 28
  },
  {
   "cell_type": "markdown",
   "source": [
    "Imputing"
   ],
   "metadata": {
    "collapsed": false
   },
   "id": "f2531cbef7135d81"
  },
  {
   "cell_type": "code",
   "outputs": [
    {
     "name": "stdout",
     "output_type": "stream",
     "text": [
      "<class 'pandas.core.frame.DataFrame'>\n",
      "RangeIndex: 65125 entries, 0 to 65124\n",
      "Data columns (total 24 columns):\n",
      " #   Column                                                Non-Null Count  Dtype  \n",
      "---  ------                                                --------------  -----  \n",
      " 0   Degerlendirme Puani                                   65124 non-null  float64\n",
      " 1   Cinsiyet                                              64956 non-null  object \n",
      " 2   Universite Turu                                       64870 non-null  object \n",
      " 3   Burslu ise Burs Yuzdesi                               22440 non-null  float64\n",
      " 4   Burs Aliyor mu?                                       65125 non-null  object \n",
      " 5   Universite Kacinci Sinif                              64751 non-null  object \n",
      " 6   Daha Once Baska Bir Universiteden Mezun Olmus         27780 non-null  object \n",
      " 7   Baska Bir Kurumdan Burs Aliyor mu?                    64894 non-null  object \n",
      " 8   Baska Kurumdan Aldigi Burs Miktari                    20963 non-null  object \n",
      " 9   Anne Calisma Durumu                                   53229 non-null  object \n",
      " 10  Anne Sektor                                           30588 non-null  object \n",
      " 11  Baba Calisma Durumu                                   52507 non-null  object \n",
      " 12  Baba Sektor                                           44747 non-null  object \n",
      " 13  Kardes Sayisi                                         63993 non-null  object \n",
      " 14  Girisimcilik Kulupleri Tarzi Bir Kulube Uye misiniz?  63296 non-null  object \n",
      " 15  Profesyonel Bir Spor Daliyla Mesgul musunuz?          64010 non-null  object \n",
      " 16  Spor Dalindaki Rolunuz Nedir?                         32850 non-null  object \n",
      " 17  Aktif olarak bir STK üyesi misiniz?                   52283 non-null  object \n",
      " 18  Stk Projesine Katildiniz Mi?                          36817 non-null  object \n",
      " 19  Girisimcilikle Ilgili Deneyiminiz Var Mi?             52285 non-null  object \n",
      " 20  Ingilizce Biliyor musunuz?                            58671 non-null  object \n",
      " 21  Ingilizce Seviyeniz?                                  28592 non-null  object \n",
      " 22  id                                                    65125 non-null  int64  \n",
      " 23  Yas                                                   5211 non-null   float64\n",
      "dtypes: float64(3), int64(1), object(20)\n",
      "memory usage: 11.9+ MB\n"
     ]
    },
    {
     "data": {
      "text/plain": "(Degerlendirme Puani                                         1\n Cinsiyet                                                  169\n Universite Turu                                           255\n Burslu ise Burs Yuzdesi                                 42685\n Burs Aliyor mu?                                             0\n Universite Kacinci Sinif                                  374\n Daha Once Baska Bir Universiteden Mezun Olmus           37345\n Baska Bir Kurumdan Burs Aliyor mu?                        231\n Baska Kurumdan Aldigi Burs Miktari                      44162\n Anne Calisma Durumu                                     11896\n Anne Sektor                                             34537\n Baba Calisma Durumu                                     12618\n Baba Sektor                                             20378\n Kardes Sayisi                                            1132\n Girisimcilik Kulupleri Tarzi Bir Kulube Uye misiniz?     1829\n Profesyonel Bir Spor Daliyla Mesgul musunuz?             1115\n Spor Dalindaki Rolunuz Nedir?                           32275\n Aktif olarak bir STK üyesi misiniz?                     12842\n Stk Projesine Katildiniz Mi?                            28308\n Girisimcilikle Ilgili Deneyiminiz Var Mi?               12840\n Ingilizce Biliyor musunuz?                               6454\n Ingilizce Seviyeniz?                                    36533\n id                                                          0\n Yas                                                     59914\n dtype: int64,\n None)"
     },
     "execution_count": 29,
     "metadata": {},
     "output_type": "execute_result"
    }
   ],
   "source": [
    "old.isnull().sum(), old.info()"
   ],
   "metadata": {
    "collapsed": false,
    "ExecuteTime": {
     "end_time": "2024-09-13T22:54:45.346867Z",
     "start_time": "2024-09-13T22:54:45.231063Z"
    }
   },
   "id": "168d8b1207c56b25",
   "execution_count": 29
  },
  {
   "cell_type": "code",
   "outputs": [],
   "source": [
    "from sklearn.impute import SimpleImputer\n",
    "for col in old.columns:\n",
    "    if old[col].dtype == \"float64\":\n",
    "        strategy = \"mean\"\n",
    "    else:\n",
    "        strategy = \"most_frequent\"\n",
    "    \n",
    "    imputer = SimpleImputer(strategy=strategy)\n",
    "    old[[col]] = imputer.fit_transform(old[[col]])"
   ],
   "metadata": {
    "collapsed": false,
    "ExecuteTime": {
     "end_time": "2024-09-13T22:54:47.353602Z",
     "start_time": "2024-09-13T22:54:45.683674Z"
    }
   },
   "id": "7677f2947b3693da",
   "execution_count": 30
  },
  {
   "cell_type": "code",
   "outputs": [
    {
     "data": {
      "text/plain": "Degerlendirme Puani                                     0\nCinsiyet                                                0\nUniversite Turu                                         0\nBurslu ise Burs Yuzdesi                                 0\nBurs Aliyor mu?                                         0\nUniversite Kacinci Sinif                                0\nDaha Once Baska Bir Universiteden Mezun Olmus           0\nBaska Bir Kurumdan Burs Aliyor mu?                      0\nBaska Kurumdan Aldigi Burs Miktari                      0\nAnne Calisma Durumu                                     0\nAnne Sektor                                             0\nBaba Calisma Durumu                                     0\nBaba Sektor                                             0\nKardes Sayisi                                           0\nGirisimcilik Kulupleri Tarzi Bir Kulube Uye misiniz?    0\nProfesyonel Bir Spor Daliyla Mesgul musunuz?            0\nSpor Dalindaki Rolunuz Nedir?                           0\nAktif olarak bir STK üyesi misiniz?                     0\nStk Projesine Katildiniz Mi?                            0\nGirisimcilikle Ilgili Deneyiminiz Var Mi?               0\nIngilizce Biliyor musunuz?                              0\nIngilizce Seviyeniz?                                    0\nid                                                      0\nYas                                                     0\ndtype: int64"
     },
     "execution_count": 31,
     "metadata": {},
     "output_type": "execute_result"
    }
   ],
   "source": [
    "old.isnull().sum()"
   ],
   "metadata": {
    "collapsed": false,
    "ExecuteTime": {
     "end_time": "2024-09-13T22:54:47.453928Z",
     "start_time": "2024-09-13T22:54:47.354710Z"
    }
   },
   "id": "e6d4dc75096d020c",
   "execution_count": 31
  },
  {
   "cell_type": "markdown",
   "source": [
    "Encoding"
   ],
   "metadata": {
    "collapsed": false
   },
   "id": "e0c17d3c0eace172"
  },
  {
   "cell_type": "code",
   "outputs": [],
   "source": [
    "from sklearn.preprocessing import LabelEncoder\n",
    "le = LabelEncoder()\n",
    "for col in old.columns:\n",
    "    if old[col].dtype == object:\n",
    "        old[col] = le.fit_transform(old[col])"
   ],
   "metadata": {
    "collapsed": false,
    "ExecuteTime": {
     "end_time": "2024-09-13T22:54:47.681281Z",
     "start_time": "2024-09-13T22:54:47.456365Z"
    }
   },
   "id": "ffecc6e547589a30",
   "execution_count": 32
  },
  {
   "cell_type": "code",
   "outputs": [
    {
     "data": {
      "text/plain": "       Degerlendirme Puani  Cinsiyet  Universite Turu  \\\n0                52.000000         2                1   \n1                30.000000         2                1   \n2                18.000000         2                1   \n3                40.000000         2                1   \n4                24.000000         2                1   \n...                    ...       ...              ...   \n65120             0.000000         2                1   \n65121             0.000000         2                0   \n65122             0.000000         2                0   \n65123             0.000000         2                0   \n65124            32.086466         3                0   \n\n       Burslu ise Burs Yuzdesi  Burs Aliyor mu?  Universite Kacinci Sinif  \\\n0                   100.000000                0                         3   \n1                   100.000000                1                         3   \n2                   100.000000                1                         1   \n3                   100.000000                0                         3   \n4                   100.000000                0                         2   \n...                        ...              ...                       ...   \n65120                34.226181                0                         2   \n65121                34.226181                1                         1   \n65122                34.226181                1                         4   \n65123                34.226181                1                         3   \n65124                34.226181                1                         4   \n\n       Daha Once Baska Bir Universiteden Mezun Olmus  \\\n0                                                  1   \n1                                                  1   \n2                                                  1   \n3                                                  1   \n4                                                  1   \n...                                              ...   \n65120                                              1   \n65121                                              1   \n65122                                              1   \n65123                                              1   \n65124                                              1   \n\n       Baska Bir Kurumdan Burs Aliyor mu?  Baska Kurumdan Aldigi Burs Miktari  \\\n0                                       1                                   0   \n1                                       1                                   0   \n2                                       1                                   0   \n3                                       1                                   0   \n4                                       1                                   0   \n...                                   ...                                 ...   \n65120                                   1                                   0   \n65121                                   1                                   0   \n65122                                   0                                 384   \n65123                                   1                                   0   \n65124                                   0                                 384   \n\n       Anne Calisma Durumu  ...  \\\n0                        2  ...   \n1                        1  ...   \n2                        2  ...   \n3                        2  ...   \n4                        2  ...   \n...                    ...  ...   \n65120                    2  ...   \n65121                    2  ...   \n65122                    2  ...   \n65123                    1  ...   \n65124                    2  ...   \n\n       Girisimcilik Kulupleri Tarzi Bir Kulube Uye misiniz?  \\\n0                                                      0      \n1                                                      1      \n2                                                      0      \n3                                                      0      \n4                                                      1      \n...                                                  ...      \n65120                                                  1      \n65121                                                  1      \n65122                                                  1      \n65123                                                  1      \n65124                                                  1      \n\n       Profesyonel Bir Spor Daliyla Mesgul musunuz?  \\\n0                                                 0   \n1                                                 1   \n2                                                 1   \n3                                                 1   \n4                                                 1   \n...                                             ...   \n65120                                             1   \n65121                                             1   \n65122                                             1   \n65123                                             1   \n65124                                             0   \n\n       Spor Dalindaki Rolunuz Nedir?  Aktif olarak bir STK üyesi misiniz?  \\\n0                                  3                                    1   \n1                                  1                                    1   \n2                                  1                                    1   \n3                                  1                                    1   \n4                                  1                                    1   \n...                              ...                                  ...   \n65120                              0                                    1   \n65121                              0                                    1   \n65122                              0                                    1   \n65123                              0                                    1   \n65124                              5                                    0   \n\n       Stk Projesine Katildiniz Mi?  \\\n0                                 0   \n1                                 0   \n2                                 1   \n3                                 0   \n4                                 1   \n...                             ...   \n65120                             1   \n65121                             1   \n65122                             1   \n65123                             1   \n65124                             1   \n\n       Girisimcilikle Ilgili Deneyiminiz Var Mi?  Ingilizce Biliyor musunuz?  \\\n0                                              1                           0   \n1                                              0                           0   \n2                                              1                           0   \n3                                              1                           0   \n4                                              1                           0   \n...                                          ...                         ...   \n65120                                          1                           1   \n65121                                          1                           1   \n65122                                          1                           1   \n65123                                          1                           1   \n65124                                          0                           0   \n\n       Ingilizce Seviyeniz?     id        Yas  \n0                         2      0 -21.158127  \n1                         2      1 -21.158127  \n2                         2      2 -21.158127  \n3                         2      3 -21.158127  \n4                         2      4 -21.158127  \n...                     ...    ...        ...  \n65120                     2  65120 -21.158127  \n65121                     2  65121 -21.158127  \n65122                     2  65122 -21.158127  \n65123                     2  65123 -21.158127  \n65124                     2  65124 -21.158127  \n\n[65125 rows x 24 columns]",
      "text/html": "<div>\n<style scoped>\n    .dataframe tbody tr th:only-of-type {\n        vertical-align: middle;\n    }\n\n    .dataframe tbody tr th {\n        vertical-align: top;\n    }\n\n    .dataframe thead th {\n        text-align: right;\n    }\n</style>\n<table border=\"1\" class=\"dataframe\">\n  <thead>\n    <tr style=\"text-align: right;\">\n      <th></th>\n      <th>Degerlendirme Puani</th>\n      <th>Cinsiyet</th>\n      <th>Universite Turu</th>\n      <th>Burslu ise Burs Yuzdesi</th>\n      <th>Burs Aliyor mu?</th>\n      <th>Universite Kacinci Sinif</th>\n      <th>Daha Once Baska Bir Universiteden Mezun Olmus</th>\n      <th>Baska Bir Kurumdan Burs Aliyor mu?</th>\n      <th>Baska Kurumdan Aldigi Burs Miktari</th>\n      <th>Anne Calisma Durumu</th>\n      <th>...</th>\n      <th>Girisimcilik Kulupleri Tarzi Bir Kulube Uye misiniz?</th>\n      <th>Profesyonel Bir Spor Daliyla Mesgul musunuz?</th>\n      <th>Spor Dalindaki Rolunuz Nedir?</th>\n      <th>Aktif olarak bir STK üyesi misiniz?</th>\n      <th>Stk Projesine Katildiniz Mi?</th>\n      <th>Girisimcilikle Ilgili Deneyiminiz Var Mi?</th>\n      <th>Ingilizce Biliyor musunuz?</th>\n      <th>Ingilizce Seviyeniz?</th>\n      <th>id</th>\n      <th>Yas</th>\n    </tr>\n  </thead>\n  <tbody>\n    <tr>\n      <th>0</th>\n      <td>52.000000</td>\n      <td>2</td>\n      <td>1</td>\n      <td>100.000000</td>\n      <td>0</td>\n      <td>3</td>\n      <td>1</td>\n      <td>1</td>\n      <td>0</td>\n      <td>2</td>\n      <td>...</td>\n      <td>0</td>\n      <td>0</td>\n      <td>3</td>\n      <td>1</td>\n      <td>0</td>\n      <td>1</td>\n      <td>0</td>\n      <td>2</td>\n      <td>0</td>\n      <td>-21.158127</td>\n    </tr>\n    <tr>\n      <th>1</th>\n      <td>30.000000</td>\n      <td>2</td>\n      <td>1</td>\n      <td>100.000000</td>\n      <td>1</td>\n      <td>3</td>\n      <td>1</td>\n      <td>1</td>\n      <td>0</td>\n      <td>1</td>\n      <td>...</td>\n      <td>1</td>\n      <td>1</td>\n      <td>1</td>\n      <td>1</td>\n      <td>0</td>\n      <td>0</td>\n      <td>0</td>\n      <td>2</td>\n      <td>1</td>\n      <td>-21.158127</td>\n    </tr>\n    <tr>\n      <th>2</th>\n      <td>18.000000</td>\n      <td>2</td>\n      <td>1</td>\n      <td>100.000000</td>\n      <td>1</td>\n      <td>1</td>\n      <td>1</td>\n      <td>1</td>\n      <td>0</td>\n      <td>2</td>\n      <td>...</td>\n      <td>0</td>\n      <td>1</td>\n      <td>1</td>\n      <td>1</td>\n      <td>1</td>\n      <td>1</td>\n      <td>0</td>\n      <td>2</td>\n      <td>2</td>\n      <td>-21.158127</td>\n    </tr>\n    <tr>\n      <th>3</th>\n      <td>40.000000</td>\n      <td>2</td>\n      <td>1</td>\n      <td>100.000000</td>\n      <td>0</td>\n      <td>3</td>\n      <td>1</td>\n      <td>1</td>\n      <td>0</td>\n      <td>2</td>\n      <td>...</td>\n      <td>0</td>\n      <td>1</td>\n      <td>1</td>\n      <td>1</td>\n      <td>0</td>\n      <td>1</td>\n      <td>0</td>\n      <td>2</td>\n      <td>3</td>\n      <td>-21.158127</td>\n    </tr>\n    <tr>\n      <th>4</th>\n      <td>24.000000</td>\n      <td>2</td>\n      <td>1</td>\n      <td>100.000000</td>\n      <td>0</td>\n      <td>2</td>\n      <td>1</td>\n      <td>1</td>\n      <td>0</td>\n      <td>2</td>\n      <td>...</td>\n      <td>1</td>\n      <td>1</td>\n      <td>1</td>\n      <td>1</td>\n      <td>1</td>\n      <td>1</td>\n      <td>0</td>\n      <td>2</td>\n      <td>4</td>\n      <td>-21.158127</td>\n    </tr>\n    <tr>\n      <th>...</th>\n      <td>...</td>\n      <td>...</td>\n      <td>...</td>\n      <td>...</td>\n      <td>...</td>\n      <td>...</td>\n      <td>...</td>\n      <td>...</td>\n      <td>...</td>\n      <td>...</td>\n      <td>...</td>\n      <td>...</td>\n      <td>...</td>\n      <td>...</td>\n      <td>...</td>\n      <td>...</td>\n      <td>...</td>\n      <td>...</td>\n      <td>...</td>\n      <td>...</td>\n      <td>...</td>\n    </tr>\n    <tr>\n      <th>65120</th>\n      <td>0.000000</td>\n      <td>2</td>\n      <td>1</td>\n      <td>34.226181</td>\n      <td>0</td>\n      <td>2</td>\n      <td>1</td>\n      <td>1</td>\n      <td>0</td>\n      <td>2</td>\n      <td>...</td>\n      <td>1</td>\n      <td>1</td>\n      <td>0</td>\n      <td>1</td>\n      <td>1</td>\n      <td>1</td>\n      <td>1</td>\n      <td>2</td>\n      <td>65120</td>\n      <td>-21.158127</td>\n    </tr>\n    <tr>\n      <th>65121</th>\n      <td>0.000000</td>\n      <td>2</td>\n      <td>0</td>\n      <td>34.226181</td>\n      <td>1</td>\n      <td>1</td>\n      <td>1</td>\n      <td>1</td>\n      <td>0</td>\n      <td>2</td>\n      <td>...</td>\n      <td>1</td>\n      <td>1</td>\n      <td>0</td>\n      <td>1</td>\n      <td>1</td>\n      <td>1</td>\n      <td>1</td>\n      <td>2</td>\n      <td>65121</td>\n      <td>-21.158127</td>\n    </tr>\n    <tr>\n      <th>65122</th>\n      <td>0.000000</td>\n      <td>2</td>\n      <td>0</td>\n      <td>34.226181</td>\n      <td>1</td>\n      <td>4</td>\n      <td>1</td>\n      <td>0</td>\n      <td>384</td>\n      <td>2</td>\n      <td>...</td>\n      <td>1</td>\n      <td>1</td>\n      <td>0</td>\n      <td>1</td>\n      <td>1</td>\n      <td>1</td>\n      <td>1</td>\n      <td>2</td>\n      <td>65122</td>\n      <td>-21.158127</td>\n    </tr>\n    <tr>\n      <th>65123</th>\n      <td>0.000000</td>\n      <td>2</td>\n      <td>0</td>\n      <td>34.226181</td>\n      <td>1</td>\n      <td>3</td>\n      <td>1</td>\n      <td>1</td>\n      <td>0</td>\n      <td>1</td>\n      <td>...</td>\n      <td>1</td>\n      <td>1</td>\n      <td>0</td>\n      <td>1</td>\n      <td>1</td>\n      <td>1</td>\n      <td>1</td>\n      <td>2</td>\n      <td>65123</td>\n      <td>-21.158127</td>\n    </tr>\n    <tr>\n      <th>65124</th>\n      <td>32.086466</td>\n      <td>3</td>\n      <td>0</td>\n      <td>34.226181</td>\n      <td>1</td>\n      <td>4</td>\n      <td>1</td>\n      <td>0</td>\n      <td>384</td>\n      <td>2</td>\n      <td>...</td>\n      <td>1</td>\n      <td>0</td>\n      <td>5</td>\n      <td>0</td>\n      <td>1</td>\n      <td>0</td>\n      <td>0</td>\n      <td>2</td>\n      <td>65124</td>\n      <td>-21.158127</td>\n    </tr>\n  </tbody>\n</table>\n<p>65125 rows × 24 columns</p>\n</div>"
     },
     "execution_count": 33,
     "metadata": {},
     "output_type": "execute_result"
    }
   ],
   "source": [
    "old"
   ],
   "metadata": {
    "collapsed": false,
    "ExecuteTime": {
     "end_time": "2024-09-13T22:54:47.749042Z",
     "start_time": "2024-09-13T22:54:47.683718Z"
    }
   },
   "id": "db09085db680aa8",
   "execution_count": 33
  },
  {
   "cell_type": "code",
   "outputs": [],
   "source": [
    "X = old.drop(columns=[\"id\",\"Degerlendirme Puani\"])\n",
    "y = old[\"Degerlendirme Puani\"]"
   ],
   "metadata": {
    "collapsed": false,
    "ExecuteTime": {
     "end_time": "2024-09-13T22:54:48.134537Z",
     "start_time": "2024-09-13T22:54:48.124794Z"
    }
   },
   "id": "b796dd3e91ccbb6c",
   "execution_count": 34
  },
  {
   "cell_type": "code",
   "outputs": [
    {
     "data": {
      "text/plain": "RandomForestRegressor()",
      "text/html": "<style>#sk-container-id-1 {\n  /* Definition of color scheme common for light and dark mode */\n  --sklearn-color-text: black;\n  --sklearn-color-line: gray;\n  /* Definition of color scheme for unfitted estimators */\n  --sklearn-color-unfitted-level-0: #fff5e6;\n  --sklearn-color-unfitted-level-1: #f6e4d2;\n  --sklearn-color-unfitted-level-2: #ffe0b3;\n  --sklearn-color-unfitted-level-3: chocolate;\n  /* Definition of color scheme for fitted estimators */\n  --sklearn-color-fitted-level-0: #f0f8ff;\n  --sklearn-color-fitted-level-1: #d4ebff;\n  --sklearn-color-fitted-level-2: #b3dbfd;\n  --sklearn-color-fitted-level-3: cornflowerblue;\n\n  /* Specific color for light theme */\n  --sklearn-color-text-on-default-background: var(--sg-text-color, var(--theme-code-foreground, var(--jp-content-font-color1, black)));\n  --sklearn-color-background: var(--sg-background-color, var(--theme-background, var(--jp-layout-color0, white)));\n  --sklearn-color-border-box: var(--sg-text-color, var(--theme-code-foreground, var(--jp-content-font-color1, black)));\n  --sklearn-color-icon: #696969;\n\n  @media (prefers-color-scheme: dark) {\n    /* Redefinition of color scheme for dark theme */\n    --sklearn-color-text-on-default-background: var(--sg-text-color, var(--theme-code-foreground, var(--jp-content-font-color1, white)));\n    --sklearn-color-background: var(--sg-background-color, var(--theme-background, var(--jp-layout-color0, #111)));\n    --sklearn-color-border-box: var(--sg-text-color, var(--theme-code-foreground, var(--jp-content-font-color1, white)));\n    --sklearn-color-icon: #878787;\n  }\n}\n\n#sk-container-id-1 {\n  color: var(--sklearn-color-text);\n}\n\n#sk-container-id-1 pre {\n  padding: 0;\n}\n\n#sk-container-id-1 input.sk-hidden--visually {\n  border: 0;\n  clip: rect(1px 1px 1px 1px);\n  clip: rect(1px, 1px, 1px, 1px);\n  height: 1px;\n  margin: -1px;\n  overflow: hidden;\n  padding: 0;\n  position: absolute;\n  width: 1px;\n}\n\n#sk-container-id-1 div.sk-dashed-wrapped {\n  border: 1px dashed var(--sklearn-color-line);\n  margin: 0 0.4em 0.5em 0.4em;\n  box-sizing: border-box;\n  padding-bottom: 0.4em;\n  background-color: var(--sklearn-color-background);\n}\n\n#sk-container-id-1 div.sk-container {\n  /* jupyter's `normalize.less` sets `[hidden] { display: none; }`\n     but bootstrap.min.css set `[hidden] { display: none !important; }`\n     so we also need the `!important` here to be able to override the\n     default hidden behavior on the sphinx rendered scikit-learn.org.\n     See: https://github.com/scikit-learn/scikit-learn/issues/21755 */\n  display: inline-block !important;\n  position: relative;\n}\n\n#sk-container-id-1 div.sk-text-repr-fallback {\n  display: none;\n}\n\ndiv.sk-parallel-item,\ndiv.sk-serial,\ndiv.sk-item {\n  /* draw centered vertical line to link estimators */\n  background-image: linear-gradient(var(--sklearn-color-text-on-default-background), var(--sklearn-color-text-on-default-background));\n  background-size: 2px 100%;\n  background-repeat: no-repeat;\n  background-position: center center;\n}\n\n/* Parallel-specific style estimator block */\n\n#sk-container-id-1 div.sk-parallel-item::after {\n  content: \"\";\n  width: 100%;\n  border-bottom: 2px solid var(--sklearn-color-text-on-default-background);\n  flex-grow: 1;\n}\n\n#sk-container-id-1 div.sk-parallel {\n  display: flex;\n  align-items: stretch;\n  justify-content: center;\n  background-color: var(--sklearn-color-background);\n  position: relative;\n}\n\n#sk-container-id-1 div.sk-parallel-item {\n  display: flex;\n  flex-direction: column;\n}\n\n#sk-container-id-1 div.sk-parallel-item:first-child::after {\n  align-self: flex-end;\n  width: 50%;\n}\n\n#sk-container-id-1 div.sk-parallel-item:last-child::after {\n  align-self: flex-start;\n  width: 50%;\n}\n\n#sk-container-id-1 div.sk-parallel-item:only-child::after {\n  width: 0;\n}\n\n/* Serial-specific style estimator block */\n\n#sk-container-id-1 div.sk-serial {\n  display: flex;\n  flex-direction: column;\n  align-items: center;\n  background-color: var(--sklearn-color-background);\n  padding-right: 1em;\n  padding-left: 1em;\n}\n\n\n/* Toggleable style: style used for estimator/Pipeline/ColumnTransformer box that is\nclickable and can be expanded/collapsed.\n- Pipeline and ColumnTransformer use this feature and define the default style\n- Estimators will overwrite some part of the style using the `sk-estimator` class\n*/\n\n/* Pipeline and ColumnTransformer style (default) */\n\n#sk-container-id-1 div.sk-toggleable {\n  /* Default theme specific background. It is overwritten whether we have a\n  specific estimator or a Pipeline/ColumnTransformer */\n  background-color: var(--sklearn-color-background);\n}\n\n/* Toggleable label */\n#sk-container-id-1 label.sk-toggleable__label {\n  cursor: pointer;\n  display: block;\n  width: 100%;\n  margin-bottom: 0;\n  padding: 0.5em;\n  box-sizing: border-box;\n  text-align: center;\n}\n\n#sk-container-id-1 label.sk-toggleable__label-arrow:before {\n  /* Arrow on the left of the label */\n  content: \"▸\";\n  float: left;\n  margin-right: 0.25em;\n  color: var(--sklearn-color-icon);\n}\n\n#sk-container-id-1 label.sk-toggleable__label-arrow:hover:before {\n  color: var(--sklearn-color-text);\n}\n\n/* Toggleable content - dropdown */\n\n#sk-container-id-1 div.sk-toggleable__content {\n  max-height: 0;\n  max-width: 0;\n  overflow: hidden;\n  text-align: left;\n  /* unfitted */\n  background-color: var(--sklearn-color-unfitted-level-0);\n}\n\n#sk-container-id-1 div.sk-toggleable__content.fitted {\n  /* fitted */\n  background-color: var(--sklearn-color-fitted-level-0);\n}\n\n#sk-container-id-1 div.sk-toggleable__content pre {\n  margin: 0.2em;\n  border-radius: 0.25em;\n  color: var(--sklearn-color-text);\n  /* unfitted */\n  background-color: var(--sklearn-color-unfitted-level-0);\n}\n\n#sk-container-id-1 div.sk-toggleable__content.fitted pre {\n  /* unfitted */\n  background-color: var(--sklearn-color-fitted-level-0);\n}\n\n#sk-container-id-1 input.sk-toggleable__control:checked~div.sk-toggleable__content {\n  /* Expand drop-down */\n  max-height: 200px;\n  max-width: 100%;\n  overflow: auto;\n}\n\n#sk-container-id-1 input.sk-toggleable__control:checked~label.sk-toggleable__label-arrow:before {\n  content: \"▾\";\n}\n\n/* Pipeline/ColumnTransformer-specific style */\n\n#sk-container-id-1 div.sk-label input.sk-toggleable__control:checked~label.sk-toggleable__label {\n  color: var(--sklearn-color-text);\n  background-color: var(--sklearn-color-unfitted-level-2);\n}\n\n#sk-container-id-1 div.sk-label.fitted input.sk-toggleable__control:checked~label.sk-toggleable__label {\n  background-color: var(--sklearn-color-fitted-level-2);\n}\n\n/* Estimator-specific style */\n\n/* Colorize estimator box */\n#sk-container-id-1 div.sk-estimator input.sk-toggleable__control:checked~label.sk-toggleable__label {\n  /* unfitted */\n  background-color: var(--sklearn-color-unfitted-level-2);\n}\n\n#sk-container-id-1 div.sk-estimator.fitted input.sk-toggleable__control:checked~label.sk-toggleable__label {\n  /* fitted */\n  background-color: var(--sklearn-color-fitted-level-2);\n}\n\n#sk-container-id-1 div.sk-label label.sk-toggleable__label,\n#sk-container-id-1 div.sk-label label {\n  /* The background is the default theme color */\n  color: var(--sklearn-color-text-on-default-background);\n}\n\n/* On hover, darken the color of the background */\n#sk-container-id-1 div.sk-label:hover label.sk-toggleable__label {\n  color: var(--sklearn-color-text);\n  background-color: var(--sklearn-color-unfitted-level-2);\n}\n\n/* Label box, darken color on hover, fitted */\n#sk-container-id-1 div.sk-label.fitted:hover label.sk-toggleable__label.fitted {\n  color: var(--sklearn-color-text);\n  background-color: var(--sklearn-color-fitted-level-2);\n}\n\n/* Estimator label */\n\n#sk-container-id-1 div.sk-label label {\n  font-family: monospace;\n  font-weight: bold;\n  display: inline-block;\n  line-height: 1.2em;\n}\n\n#sk-container-id-1 div.sk-label-container {\n  text-align: center;\n}\n\n/* Estimator-specific */\n#sk-container-id-1 div.sk-estimator {\n  font-family: monospace;\n  border: 1px dotted var(--sklearn-color-border-box);\n  border-radius: 0.25em;\n  box-sizing: border-box;\n  margin-bottom: 0.5em;\n  /* unfitted */\n  background-color: var(--sklearn-color-unfitted-level-0);\n}\n\n#sk-container-id-1 div.sk-estimator.fitted {\n  /* fitted */\n  background-color: var(--sklearn-color-fitted-level-0);\n}\n\n/* on hover */\n#sk-container-id-1 div.sk-estimator:hover {\n  /* unfitted */\n  background-color: var(--sklearn-color-unfitted-level-2);\n}\n\n#sk-container-id-1 div.sk-estimator.fitted:hover {\n  /* fitted */\n  background-color: var(--sklearn-color-fitted-level-2);\n}\n\n/* Specification for estimator info (e.g. \"i\" and \"?\") */\n\n/* Common style for \"i\" and \"?\" */\n\n.sk-estimator-doc-link,\na:link.sk-estimator-doc-link,\na:visited.sk-estimator-doc-link {\n  float: right;\n  font-size: smaller;\n  line-height: 1em;\n  font-family: monospace;\n  background-color: var(--sklearn-color-background);\n  border-radius: 1em;\n  height: 1em;\n  width: 1em;\n  text-decoration: none !important;\n  margin-left: 1ex;\n  /* unfitted */\n  border: var(--sklearn-color-unfitted-level-1) 1pt solid;\n  color: var(--sklearn-color-unfitted-level-1);\n}\n\n.sk-estimator-doc-link.fitted,\na:link.sk-estimator-doc-link.fitted,\na:visited.sk-estimator-doc-link.fitted {\n  /* fitted */\n  border: var(--sklearn-color-fitted-level-1) 1pt solid;\n  color: var(--sklearn-color-fitted-level-1);\n}\n\n/* On hover */\ndiv.sk-estimator:hover .sk-estimator-doc-link:hover,\n.sk-estimator-doc-link:hover,\ndiv.sk-label-container:hover .sk-estimator-doc-link:hover,\n.sk-estimator-doc-link:hover {\n  /* unfitted */\n  background-color: var(--sklearn-color-unfitted-level-3);\n  color: var(--sklearn-color-background);\n  text-decoration: none;\n}\n\ndiv.sk-estimator.fitted:hover .sk-estimator-doc-link.fitted:hover,\n.sk-estimator-doc-link.fitted:hover,\ndiv.sk-label-container:hover .sk-estimator-doc-link.fitted:hover,\n.sk-estimator-doc-link.fitted:hover {\n  /* fitted */\n  background-color: var(--sklearn-color-fitted-level-3);\n  color: var(--sklearn-color-background);\n  text-decoration: none;\n}\n\n/* Span, style for the box shown on hovering the info icon */\n.sk-estimator-doc-link span {\n  display: none;\n  z-index: 9999;\n  position: relative;\n  font-weight: normal;\n  right: .2ex;\n  padding: .5ex;\n  margin: .5ex;\n  width: min-content;\n  min-width: 20ex;\n  max-width: 50ex;\n  color: var(--sklearn-color-text);\n  box-shadow: 2pt 2pt 4pt #999;\n  /* unfitted */\n  background: var(--sklearn-color-unfitted-level-0);\n  border: .5pt solid var(--sklearn-color-unfitted-level-3);\n}\n\n.sk-estimator-doc-link.fitted span {\n  /* fitted */\n  background: var(--sklearn-color-fitted-level-0);\n  border: var(--sklearn-color-fitted-level-3);\n}\n\n.sk-estimator-doc-link:hover span {\n  display: block;\n}\n\n/* \"?\"-specific style due to the `<a>` HTML tag */\n\n#sk-container-id-1 a.estimator_doc_link {\n  float: right;\n  font-size: 1rem;\n  line-height: 1em;\n  font-family: monospace;\n  background-color: var(--sklearn-color-background);\n  border-radius: 1rem;\n  height: 1rem;\n  width: 1rem;\n  text-decoration: none;\n  /* unfitted */\n  color: var(--sklearn-color-unfitted-level-1);\n  border: var(--sklearn-color-unfitted-level-1) 1pt solid;\n}\n\n#sk-container-id-1 a.estimator_doc_link.fitted {\n  /* fitted */\n  border: var(--sklearn-color-fitted-level-1) 1pt solid;\n  color: var(--sklearn-color-fitted-level-1);\n}\n\n/* On hover */\n#sk-container-id-1 a.estimator_doc_link:hover {\n  /* unfitted */\n  background-color: var(--sklearn-color-unfitted-level-3);\n  color: var(--sklearn-color-background);\n  text-decoration: none;\n}\n\n#sk-container-id-1 a.estimator_doc_link.fitted:hover {\n  /* fitted */\n  background-color: var(--sklearn-color-fitted-level-3);\n}\n</style><div id=\"sk-container-id-1\" class=\"sk-top-container\"><div class=\"sk-text-repr-fallback\"><pre>RandomForestRegressor()</pre><b>In a Jupyter environment, please rerun this cell to show the HTML representation or trust the notebook. <br />On GitHub, the HTML representation is unable to render, please try loading this page with nbviewer.org.</b></div><div class=\"sk-container\" hidden><div class=\"sk-item\"><div class=\"sk-estimator fitted sk-toggleable\"><input class=\"sk-toggleable__control sk-hidden--visually\" id=\"sk-estimator-id-1\" type=\"checkbox\" checked><label for=\"sk-estimator-id-1\" class=\"sk-toggleable__label fitted sk-toggleable__label-arrow fitted\">&nbsp;&nbsp;RandomForestRegressor<a class=\"sk-estimator-doc-link fitted\" rel=\"noreferrer\" target=\"_blank\" href=\"https://scikit-learn.org/1.5/modules/generated/sklearn.ensemble.RandomForestRegressor.html\">?<span>Documentation for RandomForestRegressor</span></a><span class=\"sk-estimator-doc-link fitted\">i<span>Fitted</span></span></label><div class=\"sk-toggleable__content fitted\"><pre>RandomForestRegressor()</pre></div> </div></div></div></div>"
     },
     "execution_count": 35,
     "metadata": {},
     "output_type": "execute_result"
    }
   ],
   "source": [
    "from sklearn.ensemble import RandomForestRegressor\n",
    "rfr = RandomForestRegressor()\n",
    "rfr.fit(X,y)"
   ],
   "metadata": {
    "collapsed": false,
    "ExecuteTime": {
     "end_time": "2024-09-13T22:55:10.289658Z",
     "start_time": "2024-09-13T22:54:48.560160Z"
    }
   },
   "id": "9a886335f53d5618",
   "execution_count": 35
  },
  {
   "cell_type": "code",
   "outputs": [],
   "source": [],
   "metadata": {
    "collapsed": false,
    "ExecuteTime": {
     "end_time": "2024-09-13T22:55:10.293494Z",
     "start_time": "2024-09-13T22:55:10.290766Z"
    }
   },
   "id": "9395acc4f3fdfe2",
   "execution_count": 35
  },
  {
   "cell_type": "code",
   "outputs": [
    {
     "data": {
      "text/plain": "       Basvuru Yili Cinsiyet      Dogum Tarihi Dogum Yeri Ikametgah Sehri  \\\n0              2023    Kadın  21.06.2002 00:00     Amasya          Amasya   \n1              2023    Kadın  11.05.2004 00:00      Konya           Konya   \n2              2023    Erkek  24.04.2002 00:00   İstanbul        İstanbul   \n3              2023    Erkek  11.03.2003 00:00     Mardin          Mardin   \n4              2023    Erkek  26.01.2002 00:00     Samsun        İstanbul   \n...             ...      ...               ...        ...             ...   \n11044          2023    Kadın   3.01.2002 00:00     Yozgat          Ankara   \n11045          2023    Kadın   9.09.2001 00:00      Konya           Konya   \n11046          2023    Erkek   8.06.2004 00:00     Ankara          Ankara   \n11047          2023    Kadın  16.10.2001 00:00   Adıyaman        İstanbul   \n11048          2023    Kadın  22.09.1999 00:00      Niğde          Ankara   \n\n                           Universite Adi Universite Turu  \\\n0                     Munzur Üniversitesi          Devlet   \n1                  Hacettepe Üniversitesi          Devlet   \n2                  Kapadokya Üniversitesi            Özel   \n3             Mardin Artuklu Üniversitesi          Devlet   \n4                   Boğaziçi Üniversitesi          Devlet   \n...                                   ...             ...   \n11044                   Gazi Üniversitesi          Devlet   \n11045  Niğde Ömer Halisdemir Üniversitesi          Devlet   \n11046                Karabük Üniversitesi          Devlet   \n11047           Bursa Uludağ Üniversitesi          Devlet   \n11048              Hacettepe Üniversitesi          Devlet   \n\n       Burslu ise Burs Yuzdesi Burs Aliyor mu?  \\\n0                          NaN           Hayır   \n1                          NaN           Hayır   \n2                          NaN            Evet   \n3                          NaN           Hayır   \n4                          NaN           Hayır   \n...                        ...             ...   \n11044                      NaN           Hayır   \n11045                      NaN           Hayır   \n11046                      NaN           Hayır   \n11047                      NaN           Hayır   \n11048                      NaN           Hayır   \n\n                                                Bölüm  ...  \\\n0                                       Sosyal Hizmet  ...   \n1                              Uluslararası İlişkiler  ...   \n2                                               Diğer  ...   \n3                                      İslami İlimler  ...   \n4                                             İşletme  ...   \n...                                               ...  ...   \n11044                           Endüstri Mühendisliği  ...   \n11045                               Gıda Mühendisliği  ...   \n11046                Elektrik-Elektronik Mühendisliği  ...   \n11047  Moleküler Biyoloji, Genetik ve Biyomühendislik  ...   \n11048                           Endüstri Mühendisliği  ...   \n\n      Spor Dalindaki Rolunuz Nedir? Aktif olarak bir STK üyesi misiniz?  \\\n0                    Takım Oyuncusu                                Evet   \n1                     Bireysel Spor                               Hayır   \n2                     Bireysel Spor                               Hayır   \n3                                 -                                Evet   \n4                                 -                                Evet   \n...                             ...                                 ...   \n11044                             -                                Evet   \n11045                             -                                Evet   \n11046                Takım Oyuncusu                                Evet   \n11047                 Bireysel Spor                                Evet   \n11048                             -                                Evet   \n\n                               Hangi STK'nin Uyesisiniz?  \\\n0                             Kızılay da gönüllü dağıtım   \n1                                                      -   \n2                                                      -   \n3                     Lise gezilerde liderlik yapıyordum   \n4      Toplum Gönüllüleri Vakfı'nda \"Yol Arkadaşım\" P...   \n...                                                  ...   \n11044  TOG Vakfı'nda yaklaşık bir yıldır hem aktif gö...   \n11045  Konyada düzenlenen 5. İslami dayanışma oyunlar...   \n11046  Hayvanlara yardım adı altında hayvanlara yardı...   \n11047                     Ağaç dikme, huzur evi ziyareti   \n11048  YetGen, YGA vb. programlarda yer aldım. Hacett...   \n\n      Stk Projesine Katildiniz Mi?  Girisimcilikle Ilgili Deneyiminiz Var Mi?  \\\n0                              NaN                                      Hayır   \n1                              NaN                                      Hayır   \n2                              NaN                                      Hayır   \n3                              NaN                                      Hayır   \n4                              NaN                                       Evet   \n...                            ...                                        ...   \n11044                          NaN                                      Hayır   \n11045                          NaN                                      Hayır   \n11046                          NaN                                      Hayır   \n11047                          NaN                                       Evet   \n11048                          NaN                                      Hayır   \n\n      Girisimcilikle Ilgili Deneyiminizi Aciklayabilir misiniz?  \\\n0                                                      -          \n1                                                      -          \n2                                                      -          \n3                                                      -          \n4      12 aydır, yolculuğuna bir yıl önce başlamış ol...          \n...                                                  ...          \n11044                                                  -          \n11045                                                  -          \n11046                                                  -          \n11047  Eğitim olarak deneyimim var. Aynı zamanda “Asp...          \n11048                                                  -          \n\n      Ingilizce Biliyor musunuz? Ingilizce Seviyeniz?  \\\n0                           Evet                  NaN   \n1                           Evet                  NaN   \n2                           Evet                  NaN   \n3                          Hayır                  NaN   \n4                           Evet                  NaN   \n...                          ...                  ...   \n11044                       Evet                  NaN   \n11045                      Hayır                  NaN   \n11046                       Evet                  NaN   \n11047                       Evet                  NaN   \n11048                       Evet                  NaN   \n\n       Daha Önceden Mezun Olunduysa, Mezun Olunan Üniversite     id  \n0                                                    NaN          0  \n1                                                    NaN          1  \n2                                                    NaN          2  \n3                                                    NaN          3  \n4                                                    NaN          4  \n...                                                  ...        ...  \n11044                                                NaN      11044  \n11045                                                NaN      11045  \n11046                                                NaN      11046  \n11047                                                NaN      11047  \n11048                                                NaN      11048  \n\n[11049 rows x 43 columns]",
      "text/html": "<div>\n<style scoped>\n    .dataframe tbody tr th:only-of-type {\n        vertical-align: middle;\n    }\n\n    .dataframe tbody tr th {\n        vertical-align: top;\n    }\n\n    .dataframe thead th {\n        text-align: right;\n    }\n</style>\n<table border=\"1\" class=\"dataframe\">\n  <thead>\n    <tr style=\"text-align: right;\">\n      <th></th>\n      <th>Basvuru Yili</th>\n      <th>Cinsiyet</th>\n      <th>Dogum Tarihi</th>\n      <th>Dogum Yeri</th>\n      <th>Ikametgah Sehri</th>\n      <th>Universite Adi</th>\n      <th>Universite Turu</th>\n      <th>Burslu ise Burs Yuzdesi</th>\n      <th>Burs Aliyor mu?</th>\n      <th>Bölüm</th>\n      <th>...</th>\n      <th>Spor Dalindaki Rolunuz Nedir?</th>\n      <th>Aktif olarak bir STK üyesi misiniz?</th>\n      <th>Hangi STK'nin Uyesisiniz?</th>\n      <th>Stk Projesine Katildiniz Mi?</th>\n      <th>Girisimcilikle Ilgili Deneyiminiz Var Mi?</th>\n      <th>Girisimcilikle Ilgili Deneyiminizi Aciklayabilir misiniz?</th>\n      <th>Ingilizce Biliyor musunuz?</th>\n      <th>Ingilizce Seviyeniz?</th>\n      <th>Daha Önceden Mezun Olunduysa, Mezun Olunan Üniversite</th>\n      <th>id</th>\n    </tr>\n  </thead>\n  <tbody>\n    <tr>\n      <th>0</th>\n      <td>2023</td>\n      <td>Kadın</td>\n      <td>21.06.2002 00:00</td>\n      <td>Amasya</td>\n      <td>Amasya</td>\n      <td>Munzur Üniversitesi</td>\n      <td>Devlet</td>\n      <td>NaN</td>\n      <td>Hayır</td>\n      <td>Sosyal Hizmet</td>\n      <td>...</td>\n      <td>Takım Oyuncusu</td>\n      <td>Evet</td>\n      <td>Kızılay da gönüllü dağıtım</td>\n      <td>NaN</td>\n      <td>Hayır</td>\n      <td>-</td>\n      <td>Evet</td>\n      <td>NaN</td>\n      <td>NaN</td>\n      <td>0</td>\n    </tr>\n    <tr>\n      <th>1</th>\n      <td>2023</td>\n      <td>Kadın</td>\n      <td>11.05.2004 00:00</td>\n      <td>Konya</td>\n      <td>Konya</td>\n      <td>Hacettepe Üniversitesi</td>\n      <td>Devlet</td>\n      <td>NaN</td>\n      <td>Hayır</td>\n      <td>Uluslararası İlişkiler</td>\n      <td>...</td>\n      <td>Bireysel Spor</td>\n      <td>Hayır</td>\n      <td>-</td>\n      <td>NaN</td>\n      <td>Hayır</td>\n      <td>-</td>\n      <td>Evet</td>\n      <td>NaN</td>\n      <td>NaN</td>\n      <td>1</td>\n    </tr>\n    <tr>\n      <th>2</th>\n      <td>2023</td>\n      <td>Erkek</td>\n      <td>24.04.2002 00:00</td>\n      <td>İstanbul</td>\n      <td>İstanbul</td>\n      <td>Kapadokya Üniversitesi</td>\n      <td>Özel</td>\n      <td>NaN</td>\n      <td>Evet</td>\n      <td>Diğer</td>\n      <td>...</td>\n      <td>Bireysel Spor</td>\n      <td>Hayır</td>\n      <td>-</td>\n      <td>NaN</td>\n      <td>Hayır</td>\n      <td>-</td>\n      <td>Evet</td>\n      <td>NaN</td>\n      <td>NaN</td>\n      <td>2</td>\n    </tr>\n    <tr>\n      <th>3</th>\n      <td>2023</td>\n      <td>Erkek</td>\n      <td>11.03.2003 00:00</td>\n      <td>Mardin</td>\n      <td>Mardin</td>\n      <td>Mardin Artuklu Üniversitesi</td>\n      <td>Devlet</td>\n      <td>NaN</td>\n      <td>Hayır</td>\n      <td>İslami İlimler</td>\n      <td>...</td>\n      <td>-</td>\n      <td>Evet</td>\n      <td>Lise gezilerde liderlik yapıyordum</td>\n      <td>NaN</td>\n      <td>Hayır</td>\n      <td>-</td>\n      <td>Hayır</td>\n      <td>NaN</td>\n      <td>NaN</td>\n      <td>3</td>\n    </tr>\n    <tr>\n      <th>4</th>\n      <td>2023</td>\n      <td>Erkek</td>\n      <td>26.01.2002 00:00</td>\n      <td>Samsun</td>\n      <td>İstanbul</td>\n      <td>Boğaziçi Üniversitesi</td>\n      <td>Devlet</td>\n      <td>NaN</td>\n      <td>Hayır</td>\n      <td>İşletme</td>\n      <td>...</td>\n      <td>-</td>\n      <td>Evet</td>\n      <td>Toplum Gönüllüleri Vakfı'nda \"Yol Arkadaşım\" P...</td>\n      <td>NaN</td>\n      <td>Evet</td>\n      <td>12 aydır, yolculuğuna bir yıl önce başlamış ol...</td>\n      <td>Evet</td>\n      <td>NaN</td>\n      <td>NaN</td>\n      <td>4</td>\n    </tr>\n    <tr>\n      <th>...</th>\n      <td>...</td>\n      <td>...</td>\n      <td>...</td>\n      <td>...</td>\n      <td>...</td>\n      <td>...</td>\n      <td>...</td>\n      <td>...</td>\n      <td>...</td>\n      <td>...</td>\n      <td>...</td>\n      <td>...</td>\n      <td>...</td>\n      <td>...</td>\n      <td>...</td>\n      <td>...</td>\n      <td>...</td>\n      <td>...</td>\n      <td>...</td>\n      <td>...</td>\n      <td>...</td>\n    </tr>\n    <tr>\n      <th>11044</th>\n      <td>2023</td>\n      <td>Kadın</td>\n      <td>3.01.2002 00:00</td>\n      <td>Yozgat</td>\n      <td>Ankara</td>\n      <td>Gazi Üniversitesi</td>\n      <td>Devlet</td>\n      <td>NaN</td>\n      <td>Hayır</td>\n      <td>Endüstri Mühendisliği</td>\n      <td>...</td>\n      <td>-</td>\n      <td>Evet</td>\n      <td>TOG Vakfı'nda yaklaşık bir yıldır hem aktif gö...</td>\n      <td>NaN</td>\n      <td>Hayır</td>\n      <td>-</td>\n      <td>Evet</td>\n      <td>NaN</td>\n      <td>NaN</td>\n      <td>11044</td>\n    </tr>\n    <tr>\n      <th>11045</th>\n      <td>2023</td>\n      <td>Kadın</td>\n      <td>9.09.2001 00:00</td>\n      <td>Konya</td>\n      <td>Konya</td>\n      <td>Niğde Ömer Halisdemir Üniversitesi</td>\n      <td>Devlet</td>\n      <td>NaN</td>\n      <td>Hayır</td>\n      <td>Gıda Mühendisliği</td>\n      <td>...</td>\n      <td>-</td>\n      <td>Evet</td>\n      <td>Konyada düzenlenen 5. İslami dayanışma oyunlar...</td>\n      <td>NaN</td>\n      <td>Hayır</td>\n      <td>-</td>\n      <td>Hayır</td>\n      <td>NaN</td>\n      <td>NaN</td>\n      <td>11045</td>\n    </tr>\n    <tr>\n      <th>11046</th>\n      <td>2023</td>\n      <td>Erkek</td>\n      <td>8.06.2004 00:00</td>\n      <td>Ankara</td>\n      <td>Ankara</td>\n      <td>Karabük Üniversitesi</td>\n      <td>Devlet</td>\n      <td>NaN</td>\n      <td>Hayır</td>\n      <td>Elektrik-Elektronik Mühendisliği</td>\n      <td>...</td>\n      <td>Takım Oyuncusu</td>\n      <td>Evet</td>\n      <td>Hayvanlara yardım adı altında hayvanlara yardı...</td>\n      <td>NaN</td>\n      <td>Hayır</td>\n      <td>-</td>\n      <td>Evet</td>\n      <td>NaN</td>\n      <td>NaN</td>\n      <td>11046</td>\n    </tr>\n    <tr>\n      <th>11047</th>\n      <td>2023</td>\n      <td>Kadın</td>\n      <td>16.10.2001 00:00</td>\n      <td>Adıyaman</td>\n      <td>İstanbul</td>\n      <td>Bursa Uludağ Üniversitesi</td>\n      <td>Devlet</td>\n      <td>NaN</td>\n      <td>Hayır</td>\n      <td>Moleküler Biyoloji, Genetik ve Biyomühendislik</td>\n      <td>...</td>\n      <td>Bireysel Spor</td>\n      <td>Evet</td>\n      <td>Ağaç dikme, huzur evi ziyareti</td>\n      <td>NaN</td>\n      <td>Evet</td>\n      <td>Eğitim olarak deneyimim var. Aynı zamanda “Asp...</td>\n      <td>Evet</td>\n      <td>NaN</td>\n      <td>NaN</td>\n      <td>11047</td>\n    </tr>\n    <tr>\n      <th>11048</th>\n      <td>2023</td>\n      <td>Kadın</td>\n      <td>22.09.1999 00:00</td>\n      <td>Niğde</td>\n      <td>Ankara</td>\n      <td>Hacettepe Üniversitesi</td>\n      <td>Devlet</td>\n      <td>NaN</td>\n      <td>Hayır</td>\n      <td>Endüstri Mühendisliği</td>\n      <td>...</td>\n      <td>-</td>\n      <td>Evet</td>\n      <td>YetGen, YGA vb. programlarda yer aldım. Hacett...</td>\n      <td>NaN</td>\n      <td>Hayır</td>\n      <td>-</td>\n      <td>Evet</td>\n      <td>NaN</td>\n      <td>NaN</td>\n      <td>11048</td>\n    </tr>\n  </tbody>\n</table>\n<p>11049 rows × 43 columns</p>\n</div>"
     },
     "execution_count": 36,
     "metadata": {},
     "output_type": "execute_result"
    }
   ],
   "source": [
    "new = pd.read_csv(\"test_x.csv\")\n",
    "new"
   ],
   "metadata": {
    "collapsed": false,
    "ExecuteTime": {
     "end_time": "2024-09-13T22:55:10.533387Z",
     "start_time": "2024-09-13T22:55:10.294542Z"
    }
   },
   "id": "16bd72c6427e8905",
   "execution_count": 36
  },
  {
   "cell_type": "code",
   "outputs": [],
   "source": [
    "new.drop(columns=[\"Universite Adi\",\"Dogum Yeri\",\"Ikametgah Sehri\",\"Bölüm\",\"Lise Adi\",\"Lise Adi Diger\",\"Lise Sehir\",\"Lise Turu\",\"Lise Bolumu\",\"Lise Bolum Diger\",\"Burs Aldigi Baska Kurum\",\"Anne Egitim Durumu\",\"Baba Egitim Durumu\",\"Uye Oldugunuz Kulubun Ismi\",\"Hangi STK'nin Uyesisiniz?\",\"Girisimcilikle Ilgili Deneyiminizi Aciklayabilir misiniz?\",\"Daha Önceden Mezun Olunduysa, Mezun Olunan Üniversite\",\"Universite Not Ortalamasi\",\"Lise Mezuniyet Notu\"],inplace=True)"
   ],
   "metadata": {
    "collapsed": false,
    "ExecuteTime": {
     "end_time": "2024-09-13T22:55:58.975749Z",
     "start_time": "2024-09-13T22:55:58.961141Z"
    }
   },
   "id": "afc472601fb2b808",
   "execution_count": 38
  },
  {
   "cell_type": "code",
   "outputs": [],
   "source": [
    "new['Dogum Tarihi'] = pd.to_datetime(new['Dogum Tarihi'], format='%Y-%m-%d', errors='coerce')\n",
    "new[\"Dogum Yili\"] = new[\"Dogum Tarihi\"].dt.year"
   ],
   "metadata": {
    "collapsed": false,
    "ExecuteTime": {
     "end_time": "2024-09-13T22:56:10.491391Z",
     "start_time": "2024-09-13T22:56:10.462767Z"
    }
   },
   "id": "80612ab9afb55732",
   "execution_count": 39
  },
  {
   "cell_type": "code",
   "outputs": [],
   "source": [
    "new[\"Yas\"] = new[\"Dogum Yili\"] - new[\"Basvuru Yili\"]\n",
    "new.drop(columns = [\"Dogum Yili\",\"Dogum Tarihi\",\"Basvuru Yili\"],inplace=True)"
   ],
   "metadata": {
    "collapsed": false,
    "ExecuteTime": {
     "end_time": "2024-09-13T22:56:11.113899Z",
     "start_time": "2024-09-13T22:56:11.102608Z"
    }
   },
   "id": "7f1f32f640989ecd",
   "execution_count": 40
  },
  {
   "cell_type": "code",
   "outputs": [
    {
     "data": {
      "text/plain": "Cinsiyet                                                    3\nUniversite Turu                                             2\nBurslu ise Burs Yuzdesi                                     0\nBurs Aliyor mu?                                             2\nUniversite Kacinci Sinif                                    7\nDaha Once Baska Bir Universiteden Mezun Olmus               0\nBaska Bir Kurumdan Burs Aliyor mu?                          2\nBaska Kurumdan Aldigi Burs Miktari                          4\nAnne Calisma Durumu                                         2\nAnne Sektor                                                 4\nBaba Calisma Durumu                                         2\nBaba Sektor                                                 4\nKardes Sayisi                                               5\nGirisimcilik Kulupleri Tarzi Bir Kulube Uye misiniz?        2\nProfesyonel Bir Spor Daliyla Mesgul musunuz?                2\nSpor Dalindaki Rolunuz Nedir?                               5\nAktif olarak bir STK üyesi misiniz?                         2\nStk Projesine Katildiniz Mi?                                0\nGirisimcilikle Ilgili Deneyiminiz Var Mi?                   2\nIngilizce Biliyor musunuz?                                  2\nIngilizce Seviyeniz?                                        0\nid                                                      11049\nYas                                                         0\ndtype: int64"
     },
     "execution_count": 41,
     "metadata": {},
     "output_type": "execute_result"
    }
   ],
   "source": [
    "new.nunique()"
   ],
   "metadata": {
    "collapsed": false,
    "ExecuteTime": {
     "end_time": "2024-09-13T22:56:11.721509Z",
     "start_time": "2024-09-13T22:56:11.705059Z"
    }
   },
   "id": "71ad452410aa22cb",
   "execution_count": 41
  },
  {
   "cell_type": "code",
   "outputs": [
    {
     "data": {
      "text/plain": "Cinsiyet                                                    0\nUniversite Turu                                             0\nBurslu ise Burs Yuzdesi                                 11049\nBurs Aliyor mu?                                             0\nUniversite Kacinci Sinif                                    0\nDaha Once Baska Bir Universiteden Mezun Olmus           11049\nBaska Bir Kurumdan Burs Aliyor mu?                          0\nBaska Kurumdan Aldigi Burs Miktari                          0\nAnne Calisma Durumu                                         0\nAnne Sektor                                                 0\nBaba Calisma Durumu                                         0\nBaba Sektor                                                 0\nKardes Sayisi                                               0\nGirisimcilik Kulupleri Tarzi Bir Kulube Uye misiniz?        0\nProfesyonel Bir Spor Daliyla Mesgul musunuz?                0\nSpor Dalindaki Rolunuz Nedir?                               0\nAktif olarak bir STK üyesi misiniz?                         0\nStk Projesine Katildiniz Mi?                            11049\nGirisimcilikle Ilgili Deneyiminiz Var Mi?                   0\nIngilizce Biliyor musunuz?                                  0\nIngilizce Seviyeniz?                                    11049\nid                                                          0\nYas                                                     11049\ndtype: int64"
     },
     "execution_count": 42,
     "metadata": {},
     "output_type": "execute_result"
    }
   ],
   "source": [
    "new.isnull().sum()\n",
    "#No need for imputing because Its only got all null columns"
   ],
   "metadata": {
    "collapsed": false,
    "ExecuteTime": {
     "end_time": "2024-09-13T22:56:12.488624Z",
     "start_time": "2024-09-13T22:56:12.473013Z"
    }
   },
   "id": "eb04b187970292e2",
   "execution_count": 42
  },
  {
   "cell_type": "markdown",
   "source": [
    "Encoding"
   ],
   "metadata": {
    "collapsed": false
   },
   "id": "7566ba6a72b0942f"
  },
  {
   "cell_type": "code",
   "outputs": [
    {
     "name": "stdout",
     "output_type": "stream",
     "text": [
      "<class 'pandas.core.frame.DataFrame'>\n",
      "RangeIndex: 11049 entries, 0 to 11048\n",
      "Data columns (total 23 columns):\n",
      " #   Column                                                Non-Null Count  Dtype  \n",
      "---  ------                                                --------------  -----  \n",
      " 0   Cinsiyet                                              11049 non-null  object \n",
      " 1   Universite Turu                                       11049 non-null  object \n",
      " 2   Burslu ise Burs Yuzdesi                               0 non-null      float64\n",
      " 3   Burs Aliyor mu?                                       11049 non-null  object \n",
      " 4   Universite Kacinci Sinif                              11049 non-null  object \n",
      " 5   Daha Once Baska Bir Universiteden Mezun Olmus         0 non-null      float64\n",
      " 6   Baska Bir Kurumdan Burs Aliyor mu?                    11049 non-null  object \n",
      " 7   Baska Kurumdan Aldigi Burs Miktari                    11049 non-null  object \n",
      " 8   Anne Calisma Durumu                                   11049 non-null  object \n",
      " 9   Anne Sektor                                           11049 non-null  object \n",
      " 10  Baba Calisma Durumu                                   11049 non-null  object \n",
      " 11  Baba Sektor                                           11049 non-null  object \n",
      " 12  Kardes Sayisi                                         11049 non-null  float64\n",
      " 13  Girisimcilik Kulupleri Tarzi Bir Kulube Uye misiniz?  11049 non-null  object \n",
      " 14  Profesyonel Bir Spor Daliyla Mesgul musunuz?          11049 non-null  object \n",
      " 15  Spor Dalindaki Rolunuz Nedir?                         11049 non-null  object \n",
      " 16  Aktif olarak bir STK üyesi misiniz?                   11049 non-null  object \n",
      " 17  Stk Projesine Katildiniz Mi?                          0 non-null      float64\n",
      " 18  Girisimcilikle Ilgili Deneyiminiz Var Mi?             11049 non-null  object \n",
      " 19  Ingilizce Biliyor musunuz?                            11049 non-null  object \n",
      " 20  Ingilizce Seviyeniz?                                  0 non-null      float64\n",
      " 21  id                                                    11049 non-null  int64  \n",
      " 22  Yas                                                   0 non-null      float64\n",
      "dtypes: float64(6), int64(1), object(16)\n",
      "memory usage: 1.9+ MB\n"
     ]
    }
   ],
   "source": [
    "new.info()"
   ],
   "metadata": {
    "collapsed": false,
    "ExecuteTime": {
     "end_time": "2024-09-13T22:56:15.033093Z",
     "start_time": "2024-09-13T22:56:15.014536Z"
    }
   },
   "id": "471f6a9af80a28bd",
   "execution_count": 43
  },
  {
   "cell_type": "code",
   "outputs": [],
   "source": [
    "for col in new.columns:\n",
    "    if new[col].dtype == object:\n",
    "        new[col] = le.fit_transform(new[col])"
   ],
   "metadata": {
    "collapsed": false,
    "ExecuteTime": {
     "end_time": "2024-09-13T22:56:15.705677Z",
     "start_time": "2024-09-13T22:56:15.669134Z"
    }
   },
   "id": "6e135cda2feb8bae",
   "execution_count": 44
  },
  {
   "cell_type": "code",
   "outputs": [
    {
     "data": {
      "text/plain": "       Cinsiyet  Universite Turu  Burslu ise Burs Yuzdesi  Burs Aliyor mu?  \\\n0             2                0                      NaN                1   \n1             2                0                      NaN                1   \n2             1                1                      NaN                0   \n3             1                0                      NaN                1   \n4             1                0                      NaN                1   \n...         ...              ...                      ...              ...   \n11044         2                0                      NaN                1   \n11045         2                0                      NaN                1   \n11046         1                0                      NaN                1   \n11047         2                0                      NaN                1   \n11048         2                0                      NaN                1   \n\n       Universite Kacinci Sinif  \\\n0                             0   \n1                             0   \n2                             0   \n3                             0   \n4                             2   \n...                         ...   \n11044                         1   \n11045                         2   \n11046                         0   \n11047                         3   \n11048                         3   \n\n       Daha Once Baska Bir Universiteden Mezun Olmus  \\\n0                                                NaN   \n1                                                NaN   \n2                                                NaN   \n3                                                NaN   \n4                                                NaN   \n...                                              ...   \n11044                                            NaN   \n11045                                            NaN   \n11046                                            NaN   \n11047                                            NaN   \n11048                                            NaN   \n\n       Baska Bir Kurumdan Burs Aliyor mu?  Baska Kurumdan Aldigi Burs Miktari  \\\n0                                       1                                   0   \n1                                       1                                   0   \n2                                       0                                   2   \n3                                       1                                   0   \n4                                       0                                   3   \n...                                   ...                                 ...   \n11044                                   0                                   2   \n11045                                   1                                   0   \n11046                                   1                                   0   \n11047                                   1                                   0   \n11048                                   1                                   0   \n\n       Anne Calisma Durumu  Anne Sektor  ...  \\\n0                        0            3  ...   \n1                        1            0  ...   \n2                        1            0  ...   \n3                        1            0  ...   \n4                        0            2  ...   \n...                    ...          ...  ...   \n11044                    1            0  ...   \n11045                    1            0  ...   \n11046                    1            0  ...   \n11047                    1            0  ...   \n11048                    1            0  ...   \n\n       Girisimcilik Kulupleri Tarzi Bir Kulube Uye misiniz?  \\\n0                                                      1      \n1                                                      1      \n2                                                      1      \n3                                                      1      \n4                                                      1      \n...                                                  ...      \n11044                                                  0      \n11045                                                  0      \n11046                                                  0      \n11047                                                  0      \n11048                                                  1      \n\n       Profesyonel Bir Spor Daliyla Mesgul musunuz?  \\\n0                                                 0   \n1                                                 0   \n2                                                 1   \n3                                                 1   \n4                                                 1   \n...                                             ...   \n11044                                             1   \n11045                                             1   \n11046                                             0   \n11047                                             0   \n11048                                             1   \n\n       Spor Dalindaki Rolunuz Nedir?  Aktif olarak bir STK üyesi misiniz?  \\\n0                                  4                                    0   \n1                                  1                                    1   \n2                                  1                                    1   \n3                                  0                                    0   \n4                                  0                                    0   \n...                              ...                                  ...   \n11044                              0                                    0   \n11045                              0                                    0   \n11046                              4                                    0   \n11047                              1                                    0   \n11048                              0                                    0   \n\n       Stk Projesine Katildiniz Mi?  \\\n0                               NaN   \n1                               NaN   \n2                               NaN   \n3                               NaN   \n4                               NaN   \n...                             ...   \n11044                           NaN   \n11045                           NaN   \n11046                           NaN   \n11047                           NaN   \n11048                           NaN   \n\n       Girisimcilikle Ilgili Deneyiminiz Var Mi?  Ingilizce Biliyor musunuz?  \\\n0                                              1                           0   \n1                                              1                           0   \n2                                              1                           0   \n3                                              1                           1   \n4                                              0                           0   \n...                                          ...                         ...   \n11044                                          1                           0   \n11045                                          1                           1   \n11046                                          1                           0   \n11047                                          0                           0   \n11048                                          1                           0   \n\n       Ingilizce Seviyeniz?     id  Yas  \n0                       NaN      0  NaN  \n1                       NaN      1  NaN  \n2                       NaN      2  NaN  \n3                       NaN      3  NaN  \n4                       NaN      4  NaN  \n...                     ...    ...  ...  \n11044                   NaN  11044  NaN  \n11045                   NaN  11045  NaN  \n11046                   NaN  11046  NaN  \n11047                   NaN  11047  NaN  \n11048                   NaN  11048  NaN  \n\n[11049 rows x 23 columns]",
      "text/html": "<div>\n<style scoped>\n    .dataframe tbody tr th:only-of-type {\n        vertical-align: middle;\n    }\n\n    .dataframe tbody tr th {\n        vertical-align: top;\n    }\n\n    .dataframe thead th {\n        text-align: right;\n    }\n</style>\n<table border=\"1\" class=\"dataframe\">\n  <thead>\n    <tr style=\"text-align: right;\">\n      <th></th>\n      <th>Cinsiyet</th>\n      <th>Universite Turu</th>\n      <th>Burslu ise Burs Yuzdesi</th>\n      <th>Burs Aliyor mu?</th>\n      <th>Universite Kacinci Sinif</th>\n      <th>Daha Once Baska Bir Universiteden Mezun Olmus</th>\n      <th>Baska Bir Kurumdan Burs Aliyor mu?</th>\n      <th>Baska Kurumdan Aldigi Burs Miktari</th>\n      <th>Anne Calisma Durumu</th>\n      <th>Anne Sektor</th>\n      <th>...</th>\n      <th>Girisimcilik Kulupleri Tarzi Bir Kulube Uye misiniz?</th>\n      <th>Profesyonel Bir Spor Daliyla Mesgul musunuz?</th>\n      <th>Spor Dalindaki Rolunuz Nedir?</th>\n      <th>Aktif olarak bir STK üyesi misiniz?</th>\n      <th>Stk Projesine Katildiniz Mi?</th>\n      <th>Girisimcilikle Ilgili Deneyiminiz Var Mi?</th>\n      <th>Ingilizce Biliyor musunuz?</th>\n      <th>Ingilizce Seviyeniz?</th>\n      <th>id</th>\n      <th>Yas</th>\n    </tr>\n  </thead>\n  <tbody>\n    <tr>\n      <th>0</th>\n      <td>2</td>\n      <td>0</td>\n      <td>NaN</td>\n      <td>1</td>\n      <td>0</td>\n      <td>NaN</td>\n      <td>1</td>\n      <td>0</td>\n      <td>0</td>\n      <td>3</td>\n      <td>...</td>\n      <td>1</td>\n      <td>0</td>\n      <td>4</td>\n      <td>0</td>\n      <td>NaN</td>\n      <td>1</td>\n      <td>0</td>\n      <td>NaN</td>\n      <td>0</td>\n      <td>NaN</td>\n    </tr>\n    <tr>\n      <th>1</th>\n      <td>2</td>\n      <td>0</td>\n      <td>NaN</td>\n      <td>1</td>\n      <td>0</td>\n      <td>NaN</td>\n      <td>1</td>\n      <td>0</td>\n      <td>1</td>\n      <td>0</td>\n      <td>...</td>\n      <td>1</td>\n      <td>0</td>\n      <td>1</td>\n      <td>1</td>\n      <td>NaN</td>\n      <td>1</td>\n      <td>0</td>\n      <td>NaN</td>\n      <td>1</td>\n      <td>NaN</td>\n    </tr>\n    <tr>\n      <th>2</th>\n      <td>1</td>\n      <td>1</td>\n      <td>NaN</td>\n      <td>0</td>\n      <td>0</td>\n      <td>NaN</td>\n      <td>0</td>\n      <td>2</td>\n      <td>1</td>\n      <td>0</td>\n      <td>...</td>\n      <td>1</td>\n      <td>1</td>\n      <td>1</td>\n      <td>1</td>\n      <td>NaN</td>\n      <td>1</td>\n      <td>0</td>\n      <td>NaN</td>\n      <td>2</td>\n      <td>NaN</td>\n    </tr>\n    <tr>\n      <th>3</th>\n      <td>1</td>\n      <td>0</td>\n      <td>NaN</td>\n      <td>1</td>\n      <td>0</td>\n      <td>NaN</td>\n      <td>1</td>\n      <td>0</td>\n      <td>1</td>\n      <td>0</td>\n      <td>...</td>\n      <td>1</td>\n      <td>1</td>\n      <td>0</td>\n      <td>0</td>\n      <td>NaN</td>\n      <td>1</td>\n      <td>1</td>\n      <td>NaN</td>\n      <td>3</td>\n      <td>NaN</td>\n    </tr>\n    <tr>\n      <th>4</th>\n      <td>1</td>\n      <td>0</td>\n      <td>NaN</td>\n      <td>1</td>\n      <td>2</td>\n      <td>NaN</td>\n      <td>0</td>\n      <td>3</td>\n      <td>0</td>\n      <td>2</td>\n      <td>...</td>\n      <td>1</td>\n      <td>1</td>\n      <td>0</td>\n      <td>0</td>\n      <td>NaN</td>\n      <td>0</td>\n      <td>0</td>\n      <td>NaN</td>\n      <td>4</td>\n      <td>NaN</td>\n    </tr>\n    <tr>\n      <th>...</th>\n      <td>...</td>\n      <td>...</td>\n      <td>...</td>\n      <td>...</td>\n      <td>...</td>\n      <td>...</td>\n      <td>...</td>\n      <td>...</td>\n      <td>...</td>\n      <td>...</td>\n      <td>...</td>\n      <td>...</td>\n      <td>...</td>\n      <td>...</td>\n      <td>...</td>\n      <td>...</td>\n      <td>...</td>\n      <td>...</td>\n      <td>...</td>\n      <td>...</td>\n      <td>...</td>\n    </tr>\n    <tr>\n      <th>11044</th>\n      <td>2</td>\n      <td>0</td>\n      <td>NaN</td>\n      <td>1</td>\n      <td>1</td>\n      <td>NaN</td>\n      <td>0</td>\n      <td>2</td>\n      <td>1</td>\n      <td>0</td>\n      <td>...</td>\n      <td>0</td>\n      <td>1</td>\n      <td>0</td>\n      <td>0</td>\n      <td>NaN</td>\n      <td>1</td>\n      <td>0</td>\n      <td>NaN</td>\n      <td>11044</td>\n      <td>NaN</td>\n    </tr>\n    <tr>\n      <th>11045</th>\n      <td>2</td>\n      <td>0</td>\n      <td>NaN</td>\n      <td>1</td>\n      <td>2</td>\n      <td>NaN</td>\n      <td>1</td>\n      <td>0</td>\n      <td>1</td>\n      <td>0</td>\n      <td>...</td>\n      <td>0</td>\n      <td>1</td>\n      <td>0</td>\n      <td>0</td>\n      <td>NaN</td>\n      <td>1</td>\n      <td>1</td>\n      <td>NaN</td>\n      <td>11045</td>\n      <td>NaN</td>\n    </tr>\n    <tr>\n      <th>11046</th>\n      <td>1</td>\n      <td>0</td>\n      <td>NaN</td>\n      <td>1</td>\n      <td>0</td>\n      <td>NaN</td>\n      <td>1</td>\n      <td>0</td>\n      <td>1</td>\n      <td>0</td>\n      <td>...</td>\n      <td>0</td>\n      <td>0</td>\n      <td>4</td>\n      <td>0</td>\n      <td>NaN</td>\n      <td>1</td>\n      <td>0</td>\n      <td>NaN</td>\n      <td>11046</td>\n      <td>NaN</td>\n    </tr>\n    <tr>\n      <th>11047</th>\n      <td>2</td>\n      <td>0</td>\n      <td>NaN</td>\n      <td>1</td>\n      <td>3</td>\n      <td>NaN</td>\n      <td>1</td>\n      <td>0</td>\n      <td>1</td>\n      <td>0</td>\n      <td>...</td>\n      <td>0</td>\n      <td>0</td>\n      <td>1</td>\n      <td>0</td>\n      <td>NaN</td>\n      <td>0</td>\n      <td>0</td>\n      <td>NaN</td>\n      <td>11047</td>\n      <td>NaN</td>\n    </tr>\n    <tr>\n      <th>11048</th>\n      <td>2</td>\n      <td>0</td>\n      <td>NaN</td>\n      <td>1</td>\n      <td>3</td>\n      <td>NaN</td>\n      <td>1</td>\n      <td>0</td>\n      <td>1</td>\n      <td>0</td>\n      <td>...</td>\n      <td>1</td>\n      <td>1</td>\n      <td>0</td>\n      <td>0</td>\n      <td>NaN</td>\n      <td>1</td>\n      <td>0</td>\n      <td>NaN</td>\n      <td>11048</td>\n      <td>NaN</td>\n    </tr>\n  </tbody>\n</table>\n<p>11049 rows × 23 columns</p>\n</div>"
     },
     "execution_count": 45,
     "metadata": {},
     "output_type": "execute_result"
    }
   ],
   "source": [
    "new"
   ],
   "metadata": {
    "collapsed": false,
    "ExecuteTime": {
     "end_time": "2024-09-13T22:56:16.246217Z",
     "start_time": "2024-09-13T22:56:16.218968Z"
    }
   },
   "id": "6e92c6e92ed8f0bc",
   "execution_count": 45
  },
  {
   "cell_type": "code",
   "outputs": [],
   "source": [
    "prediction = rfr.predict(new.drop(\"id\",axis=1))"
   ],
   "metadata": {
    "collapsed": false,
    "ExecuteTime": {
     "end_time": "2024-09-13T22:56:17.211562Z",
     "start_time": "2024-09-13T22:56:17.024897Z"
    }
   },
   "id": "5b5f24fc49f748f9",
   "execution_count": 46
  },
  {
   "cell_type": "code",
   "outputs": [],
   "source": [
    "pred = pd.DataFrame(prediction)"
   ],
   "metadata": {
    "collapsed": false,
    "ExecuteTime": {
     "end_time": "2024-09-13T22:56:19.016907Z",
     "start_time": "2024-09-13T22:56:19.012796Z"
    }
   },
   "id": "81648d01472330fc",
   "execution_count": 47
  },
  {
   "cell_type": "code",
   "outputs": [
    {
     "data": {
      "text/plain": "               0\n0      39.740000\n1      20.014702\n2      10.680333\n3      21.823226\n4      36.228333\n...          ...\n11044  25.661667\n11045  23.810000\n11046  47.000000\n11047  48.516667\n11048  20.550833\n\n[11049 rows x 1 columns]",
      "text/html": "<div>\n<style scoped>\n    .dataframe tbody tr th:only-of-type {\n        vertical-align: middle;\n    }\n\n    .dataframe tbody tr th {\n        vertical-align: top;\n    }\n\n    .dataframe thead th {\n        text-align: right;\n    }\n</style>\n<table border=\"1\" class=\"dataframe\">\n  <thead>\n    <tr style=\"text-align: right;\">\n      <th></th>\n      <th>0</th>\n    </tr>\n  </thead>\n  <tbody>\n    <tr>\n      <th>0</th>\n      <td>39.740000</td>\n    </tr>\n    <tr>\n      <th>1</th>\n      <td>20.014702</td>\n    </tr>\n    <tr>\n      <th>2</th>\n      <td>10.680333</td>\n    </tr>\n    <tr>\n      <th>3</th>\n      <td>21.823226</td>\n    </tr>\n    <tr>\n      <th>4</th>\n      <td>36.228333</td>\n    </tr>\n    <tr>\n      <th>...</th>\n      <td>...</td>\n    </tr>\n    <tr>\n      <th>11044</th>\n      <td>25.661667</td>\n    </tr>\n    <tr>\n      <th>11045</th>\n      <td>23.810000</td>\n    </tr>\n    <tr>\n      <th>11046</th>\n      <td>47.000000</td>\n    </tr>\n    <tr>\n      <th>11047</th>\n      <td>48.516667</td>\n    </tr>\n    <tr>\n      <th>11048</th>\n      <td>20.550833</td>\n    </tr>\n  </tbody>\n</table>\n<p>11049 rows × 1 columns</p>\n</div>"
     },
     "execution_count": 48,
     "metadata": {},
     "output_type": "execute_result"
    }
   ],
   "source": [
    "pred"
   ],
   "metadata": {
    "collapsed": false,
    "ExecuteTime": {
     "end_time": "2024-09-13T22:56:20.424243Z",
     "start_time": "2024-09-13T22:56:20.415022Z"
    }
   },
   "id": "78a2f7b7d6f89047",
   "execution_count": 48
  },
  {
   "cell_type": "code",
   "outputs": [],
   "source": [
    "pred.to_csv(\"prediction_2.csv\")"
   ],
   "metadata": {
    "collapsed": false,
    "ExecuteTime": {
     "end_time": "2024-09-10T23:55:52.177513Z",
     "start_time": "2024-09-10T23:55:52.158963Z"
    }
   },
   "id": "8368d6719c9c0577",
   "execution_count": 190
  },
  {
   "cell_type": "code",
   "outputs": [],
   "source": [
    "from sklearn.model_selection import train_test_split\n",
    "X_train, X_test, y_train, y_test = train_test_split(X,y,test_size=0.3)"
   ],
   "metadata": {
    "collapsed": false,
    "ExecuteTime": {
     "end_time": "2024-09-13T22:56:59.327193Z",
     "start_time": "2024-09-13T22:56:59.297170Z"
    }
   },
   "id": "da4ae04377d2cfdc",
   "execution_count": 50
  },
  {
   "cell_type": "code",
   "outputs": [
    {
     "name": "stderr",
     "output_type": "stream",
     "text": [
      "C:\\Users\\akpin\\PycharmProjects\\Datathon24\\.venv\\Lib\\site-packages\\sklearn\\experimental\\enable_hist_gradient_boosting.py:16: UserWarning: Since version 1.0, it is not needed to import enable_hist_gradient_boosting anymore. HistGradientBoostingClassifier and HistGradientBoostingRegressor are now stable and can be normally imported from sklearn.ensemble.\n",
      "  warnings.warn(\n"
     ]
    },
    {
     "name": "stdout",
     "output_type": "stream",
     "text": [
      "Linear Regression: RMSE = 10.294258434404789\n",
      "Ridge Regression: RMSE = 10.294275435607037\n",
      "Lasso Regression: RMSE = 11.451335461395889\n",
      "Elastic Net: RMSE = 13.514273965087408\n",
      "Bayesian Ridge: RMSE = 10.294332979228543\n",
      "Least Angle Regression: RMSE = 10.294258434404789\n",
      "Lasso Least Angle Regression: RMSE = 11.451339393239746\n",
      "Gradient Boosting Regressor: RMSE = 7.2508913662174805\n",
      "Random Forest Regressor: RMSE = 7.29541803403209\n",
      "Extra Trees Regressor: RMSE = 7.774164124069878\n",
      "AdaBoost Regressor: RMSE = 11.514916801693044\n",
      "Decision Tree Regressor: RMSE = 8.861372959165838\n"
     ]
    },
    {
     "name": "stderr",
     "output_type": "stream",
     "text": [
      "Exception in thread Thread-6 (_readerthread):\n",
      "Traceback (most recent call last):\n",
      "  File \"C:\\Users\\akpin\\AppData\\Local\\Programs\\Python\\Python312\\Lib\\threading.py\", line 1052, in _bootstrap_inner\n",
      "    self.run()\n",
      "  File \"C:\\Users\\akpin\\PycharmProjects\\Datathon24\\.venv\\Lib\\site-packages\\ipykernel\\ipkernel.py\", line 766, in run_closure\n",
      "    _threading_Thread_run(self)\n",
      "  File \"C:\\Users\\akpin\\AppData\\Local\\Programs\\Python\\Python312\\Lib\\threading.py\", line 989, in run\n",
      "    self._target(*self._args, **self._kwargs)\n",
      "  File \"C:\\Users\\akpin\\AppData\\Local\\Programs\\Python\\Python312\\Lib\\subprocess.py\", line 1597, in _readerthread\n",
      "    buffer.append(fh.read())\n",
      "                  ^^^^^^^^^\n",
      "  File \"C:\\Users\\akpin\\AppData\\Local\\Programs\\Python\\Python312\\Lib\\encodings\\cp1254.py\", line 23, in decode\n",
      "    return codecs.charmap_decode(input,self.errors,decoding_table)[0]\n",
      "           ^^^^^^^^^^^^^^^^^^^^^^^^^^^^^^^^^^^^^^^^^^^^^^^^^^^^^^^\n",
      "UnicodeDecodeError: 'charmap' codec can't decode byte 0x8d in position 27: character maps to <undefined>\n",
      "C:\\Users\\akpin\\PycharmProjects\\Datathon24\\.venv\\Lib\\site-packages\\joblib\\externals\\loky\\backend\\context.py:136: UserWarning: Could not find the number of physical cores for the following reason:\n",
      "'NoneType' object has no attribute 'splitlines'\n",
      "Returning the number of logical cores instead. You can silence this warning by setting LOKY_MAX_CPU_COUNT to the number of cores you want to use.\n",
      "  warnings.warn(\n",
      "  File \"C:\\Users\\akpin\\PycharmProjects\\Datathon24\\.venv\\Lib\\site-packages\\joblib\\externals\\loky\\backend\\context.py\", line 262, in _count_physical_cores\n",
      "    cpu_info = cpu_info.stdout.splitlines()\n",
      "               ^^^^^^^^^^^^^^^^^^^^^^^^^^\n"
     ]
    },
    {
     "name": "stdout",
     "output_type": "stream",
     "text": [
      "K Neighbors Regressor: RMSE = 10.803290993684845\n"
     ]
    },
    {
     "name": "stderr",
     "output_type": "stream",
     "text": [
      "C:\\Users\\akpin\\PycharmProjects\\Datathon24\\.venv\\Lib\\site-packages\\sklearn\\linear_model\\_huber.py:342: ConvergenceWarning: lbfgs failed to converge (status=1):\n",
      "STOP: TOTAL NO. of ITERATIONS REACHED LIMIT.\n",
      "\n",
      "Increase the number of iterations (max_iter) or scale the data as shown in:\n",
      "    https://scikit-learn.org/stable/modules/preprocessing.html\n",
      "  self.n_iter_ = _check_optimize_result(\"lbfgs\", opt_res, self.max_iter)\n"
     ]
    },
    {
     "name": "stdout",
     "output_type": "stream",
     "text": [
      "Huber Regressor: RMSE = 10.626924505771406\n",
      "Orthogonal Matching Pursuit: RMSE = 18.070559025083902\n",
      "Dummy Regressor: RMSE = 18.212836255951814\n",
      "Hist Gradient Boosting Regressor: RMSE = 6.773709341526499\n",
      "                               Model       RMSE\n",
      "16  Hist Gradient Boosting Regressor   6.773709\n",
      "7        Gradient Boosting Regressor   7.250891\n",
      "8            Random Forest Regressor   7.295418\n",
      "9              Extra Trees Regressor   7.774164\n",
      "11           Decision Tree Regressor   8.861373\n",
      "5             Least Angle Regression  10.294258\n",
      "0                  Linear Regression  10.294258\n",
      "1                   Ridge Regression  10.294275\n",
      "4                     Bayesian Ridge  10.294333\n",
      "13                   Huber Regressor  10.626925\n",
      "12             K Neighbors Regressor  10.803291\n",
      "2                   Lasso Regression  11.451335\n",
      "6       Lasso Least Angle Regression  11.451339\n",
      "10                AdaBoost Regressor  11.514917\n",
      "3                        Elastic Net  13.514274\n",
      "14       Orthogonal Matching Pursuit  18.070559\n",
      "15                   Dummy Regressor  18.212836\n"
     ]
    }
   ],
   "source": [
    "from sklearn.model_selection import train_test_split\n",
    "import numpy as np\n",
    "import pandas as pd\n",
    "from sklearn.linear_model import (LinearRegression, Ridge, Lasso, ElasticNet,\n",
    "                                  BayesianRidge, Lars, LassoLars, HuberRegressor,\n",
    "                                  OrthogonalMatchingPursuit)\n",
    "from sklearn.dummy import DummyRegressor\n",
    "from sklearn.ensemble import (GradientBoostingRegressor, RandomForestRegressor,\n",
    "                              ExtraTreesRegressor, AdaBoostRegressor)\n",
    "from sklearn.tree import DecisionTreeRegressor\n",
    "from sklearn.neighbors import KNeighborsRegressor\n",
    "from sklearn.experimental import enable_hist_gradient_boosting\n",
    "from sklearn.ensemble import HistGradientBoostingRegressor\n",
    "\n",
    "from sklearn.metrics import mean_squared_error\n",
    "\n",
    "\n",
    "# Modelleri tanımla\n",
    "models = {\n",
    "    'Linear Regression': LinearRegression(),\n",
    "    'Ridge Regression': Ridge(),\n",
    "    'Lasso Regression': Lasso(),\n",
    "    'Elastic Net': ElasticNet(),\n",
    "    'Bayesian Ridge': BayesianRidge(),\n",
    "    'Least Angle Regression': Lars(),\n",
    "    'Lasso Least Angle Regression': LassoLars(),\n",
    "    'Gradient Boosting Regressor': GradientBoostingRegressor(),\n",
    "    'Random Forest Regressor': RandomForestRegressor(),\n",
    "    'Extra Trees Regressor': ExtraTreesRegressor(),\n",
    "    'AdaBoost Regressor': AdaBoostRegressor(),\n",
    "    'Decision Tree Regressor': DecisionTreeRegressor(),\n",
    "    'K Neighbors Regressor': KNeighborsRegressor(),\n",
    "    'Huber Regressor': HuberRegressor(),\n",
    "    'Orthogonal Matching Pursuit': OrthogonalMatchingPursuit(),\n",
    "    'Dummy Regressor': DummyRegressor(strategy='mean'),\n",
    "    'Hist Gradient Boosting Regressor': HistGradientBoostingRegressor()\n",
    "}\n",
    "\n",
    "results = {}\n",
    "\n",
    "# Modelleri eğit ve değerlendir\n",
    "for name, model in models.items():\n",
    "    model.fit(X_train, y_train)\n",
    "    y_pred = model.predict(X_test)\n",
    "    rmse = np.sqrt(mean_squared_error(y_test, y_pred))\n",
    "    results[name] = rmse\n",
    "    print(f'{name}: RMSE = {rmse}')\n",
    "\n",
    "# Sonuçları dataframe'e aktar ve sıralı olarak yazdır\n",
    "results_df = pd.DataFrame(list(results.items()), columns=['Model', 'RMSE'])\n",
    "print(results_df.sort_values(by='RMSE'))"
   ],
   "metadata": {
    "collapsed": false,
    "ExecuteTime": {
     "end_time": "2024-09-13T22:58:37.911652Z",
     "start_time": "2024-09-13T22:57:57.226784Z"
    }
   },
   "id": "bccdc6cbb981d920",
   "execution_count": 51
  },
  {
   "cell_type": "code",
   "outputs": [
    {
     "data": {
      "text/plain": "HistGradientBoostingRegressor()",
      "text/html": "<style>#sk-container-id-2 {\n  /* Definition of color scheme common for light and dark mode */\n  --sklearn-color-text: black;\n  --sklearn-color-line: gray;\n  /* Definition of color scheme for unfitted estimators */\n  --sklearn-color-unfitted-level-0: #fff5e6;\n  --sklearn-color-unfitted-level-1: #f6e4d2;\n  --sklearn-color-unfitted-level-2: #ffe0b3;\n  --sklearn-color-unfitted-level-3: chocolate;\n  /* Definition of color scheme for fitted estimators */\n  --sklearn-color-fitted-level-0: #f0f8ff;\n  --sklearn-color-fitted-level-1: #d4ebff;\n  --sklearn-color-fitted-level-2: #b3dbfd;\n  --sklearn-color-fitted-level-3: cornflowerblue;\n\n  /* Specific color for light theme */\n  --sklearn-color-text-on-default-background: var(--sg-text-color, var(--theme-code-foreground, var(--jp-content-font-color1, black)));\n  --sklearn-color-background: var(--sg-background-color, var(--theme-background, var(--jp-layout-color0, white)));\n  --sklearn-color-border-box: var(--sg-text-color, var(--theme-code-foreground, var(--jp-content-font-color1, black)));\n  --sklearn-color-icon: #696969;\n\n  @media (prefers-color-scheme: dark) {\n    /* Redefinition of color scheme for dark theme */\n    --sklearn-color-text-on-default-background: var(--sg-text-color, var(--theme-code-foreground, var(--jp-content-font-color1, white)));\n    --sklearn-color-background: var(--sg-background-color, var(--theme-background, var(--jp-layout-color0, #111)));\n    --sklearn-color-border-box: var(--sg-text-color, var(--theme-code-foreground, var(--jp-content-font-color1, white)));\n    --sklearn-color-icon: #878787;\n  }\n}\n\n#sk-container-id-2 {\n  color: var(--sklearn-color-text);\n}\n\n#sk-container-id-2 pre {\n  padding: 0;\n}\n\n#sk-container-id-2 input.sk-hidden--visually {\n  border: 0;\n  clip: rect(1px 1px 1px 1px);\n  clip: rect(1px, 1px, 1px, 1px);\n  height: 1px;\n  margin: -1px;\n  overflow: hidden;\n  padding: 0;\n  position: absolute;\n  width: 1px;\n}\n\n#sk-container-id-2 div.sk-dashed-wrapped {\n  border: 1px dashed var(--sklearn-color-line);\n  margin: 0 0.4em 0.5em 0.4em;\n  box-sizing: border-box;\n  padding-bottom: 0.4em;\n  background-color: var(--sklearn-color-background);\n}\n\n#sk-container-id-2 div.sk-container {\n  /* jupyter's `normalize.less` sets `[hidden] { display: none; }`\n     but bootstrap.min.css set `[hidden] { display: none !important; }`\n     so we also need the `!important` here to be able to override the\n     default hidden behavior on the sphinx rendered scikit-learn.org.\n     See: https://github.com/scikit-learn/scikit-learn/issues/21755 */\n  display: inline-block !important;\n  position: relative;\n}\n\n#sk-container-id-2 div.sk-text-repr-fallback {\n  display: none;\n}\n\ndiv.sk-parallel-item,\ndiv.sk-serial,\ndiv.sk-item {\n  /* draw centered vertical line to link estimators */\n  background-image: linear-gradient(var(--sklearn-color-text-on-default-background), var(--sklearn-color-text-on-default-background));\n  background-size: 2px 100%;\n  background-repeat: no-repeat;\n  background-position: center center;\n}\n\n/* Parallel-specific style estimator block */\n\n#sk-container-id-2 div.sk-parallel-item::after {\n  content: \"\";\n  width: 100%;\n  border-bottom: 2px solid var(--sklearn-color-text-on-default-background);\n  flex-grow: 1;\n}\n\n#sk-container-id-2 div.sk-parallel {\n  display: flex;\n  align-items: stretch;\n  justify-content: center;\n  background-color: var(--sklearn-color-background);\n  position: relative;\n}\n\n#sk-container-id-2 div.sk-parallel-item {\n  display: flex;\n  flex-direction: column;\n}\n\n#sk-container-id-2 div.sk-parallel-item:first-child::after {\n  align-self: flex-end;\n  width: 50%;\n}\n\n#sk-container-id-2 div.sk-parallel-item:last-child::after {\n  align-self: flex-start;\n  width: 50%;\n}\n\n#sk-container-id-2 div.sk-parallel-item:only-child::after {\n  width: 0;\n}\n\n/* Serial-specific style estimator block */\n\n#sk-container-id-2 div.sk-serial {\n  display: flex;\n  flex-direction: column;\n  align-items: center;\n  background-color: var(--sklearn-color-background);\n  padding-right: 1em;\n  padding-left: 1em;\n}\n\n\n/* Toggleable style: style used for estimator/Pipeline/ColumnTransformer box that is\nclickable and can be expanded/collapsed.\n- Pipeline and ColumnTransformer use this feature and define the default style\n- Estimators will overwrite some part of the style using the `sk-estimator` class\n*/\n\n/* Pipeline and ColumnTransformer style (default) */\n\n#sk-container-id-2 div.sk-toggleable {\n  /* Default theme specific background. It is overwritten whether we have a\n  specific estimator or a Pipeline/ColumnTransformer */\n  background-color: var(--sklearn-color-background);\n}\n\n/* Toggleable label */\n#sk-container-id-2 label.sk-toggleable__label {\n  cursor: pointer;\n  display: block;\n  width: 100%;\n  margin-bottom: 0;\n  padding: 0.5em;\n  box-sizing: border-box;\n  text-align: center;\n}\n\n#sk-container-id-2 label.sk-toggleable__label-arrow:before {\n  /* Arrow on the left of the label */\n  content: \"▸\";\n  float: left;\n  margin-right: 0.25em;\n  color: var(--sklearn-color-icon);\n}\n\n#sk-container-id-2 label.sk-toggleable__label-arrow:hover:before {\n  color: var(--sklearn-color-text);\n}\n\n/* Toggleable content - dropdown */\n\n#sk-container-id-2 div.sk-toggleable__content {\n  max-height: 0;\n  max-width: 0;\n  overflow: hidden;\n  text-align: left;\n  /* unfitted */\n  background-color: var(--sklearn-color-unfitted-level-0);\n}\n\n#sk-container-id-2 div.sk-toggleable__content.fitted {\n  /* fitted */\n  background-color: var(--sklearn-color-fitted-level-0);\n}\n\n#sk-container-id-2 div.sk-toggleable__content pre {\n  margin: 0.2em;\n  border-radius: 0.25em;\n  color: var(--sklearn-color-text);\n  /* unfitted */\n  background-color: var(--sklearn-color-unfitted-level-0);\n}\n\n#sk-container-id-2 div.sk-toggleable__content.fitted pre {\n  /* unfitted */\n  background-color: var(--sklearn-color-fitted-level-0);\n}\n\n#sk-container-id-2 input.sk-toggleable__control:checked~div.sk-toggleable__content {\n  /* Expand drop-down */\n  max-height: 200px;\n  max-width: 100%;\n  overflow: auto;\n}\n\n#sk-container-id-2 input.sk-toggleable__control:checked~label.sk-toggleable__label-arrow:before {\n  content: \"▾\";\n}\n\n/* Pipeline/ColumnTransformer-specific style */\n\n#sk-container-id-2 div.sk-label input.sk-toggleable__control:checked~label.sk-toggleable__label {\n  color: var(--sklearn-color-text);\n  background-color: var(--sklearn-color-unfitted-level-2);\n}\n\n#sk-container-id-2 div.sk-label.fitted input.sk-toggleable__control:checked~label.sk-toggleable__label {\n  background-color: var(--sklearn-color-fitted-level-2);\n}\n\n/* Estimator-specific style */\n\n/* Colorize estimator box */\n#sk-container-id-2 div.sk-estimator input.sk-toggleable__control:checked~label.sk-toggleable__label {\n  /* unfitted */\n  background-color: var(--sklearn-color-unfitted-level-2);\n}\n\n#sk-container-id-2 div.sk-estimator.fitted input.sk-toggleable__control:checked~label.sk-toggleable__label {\n  /* fitted */\n  background-color: var(--sklearn-color-fitted-level-2);\n}\n\n#sk-container-id-2 div.sk-label label.sk-toggleable__label,\n#sk-container-id-2 div.sk-label label {\n  /* The background is the default theme color */\n  color: var(--sklearn-color-text-on-default-background);\n}\n\n/* On hover, darken the color of the background */\n#sk-container-id-2 div.sk-label:hover label.sk-toggleable__label {\n  color: var(--sklearn-color-text);\n  background-color: var(--sklearn-color-unfitted-level-2);\n}\n\n/* Label box, darken color on hover, fitted */\n#sk-container-id-2 div.sk-label.fitted:hover label.sk-toggleable__label.fitted {\n  color: var(--sklearn-color-text);\n  background-color: var(--sklearn-color-fitted-level-2);\n}\n\n/* Estimator label */\n\n#sk-container-id-2 div.sk-label label {\n  font-family: monospace;\n  font-weight: bold;\n  display: inline-block;\n  line-height: 1.2em;\n}\n\n#sk-container-id-2 div.sk-label-container {\n  text-align: center;\n}\n\n/* Estimator-specific */\n#sk-container-id-2 div.sk-estimator {\n  font-family: monospace;\n  border: 1px dotted var(--sklearn-color-border-box);\n  border-radius: 0.25em;\n  box-sizing: border-box;\n  margin-bottom: 0.5em;\n  /* unfitted */\n  background-color: var(--sklearn-color-unfitted-level-0);\n}\n\n#sk-container-id-2 div.sk-estimator.fitted {\n  /* fitted */\n  background-color: var(--sklearn-color-fitted-level-0);\n}\n\n/* on hover */\n#sk-container-id-2 div.sk-estimator:hover {\n  /* unfitted */\n  background-color: var(--sklearn-color-unfitted-level-2);\n}\n\n#sk-container-id-2 div.sk-estimator.fitted:hover {\n  /* fitted */\n  background-color: var(--sklearn-color-fitted-level-2);\n}\n\n/* Specification for estimator info (e.g. \"i\" and \"?\") */\n\n/* Common style for \"i\" and \"?\" */\n\n.sk-estimator-doc-link,\na:link.sk-estimator-doc-link,\na:visited.sk-estimator-doc-link {\n  float: right;\n  font-size: smaller;\n  line-height: 1em;\n  font-family: monospace;\n  background-color: var(--sklearn-color-background);\n  border-radius: 1em;\n  height: 1em;\n  width: 1em;\n  text-decoration: none !important;\n  margin-left: 1ex;\n  /* unfitted */\n  border: var(--sklearn-color-unfitted-level-1) 1pt solid;\n  color: var(--sklearn-color-unfitted-level-1);\n}\n\n.sk-estimator-doc-link.fitted,\na:link.sk-estimator-doc-link.fitted,\na:visited.sk-estimator-doc-link.fitted {\n  /* fitted */\n  border: var(--sklearn-color-fitted-level-1) 1pt solid;\n  color: var(--sklearn-color-fitted-level-1);\n}\n\n/* On hover */\ndiv.sk-estimator:hover .sk-estimator-doc-link:hover,\n.sk-estimator-doc-link:hover,\ndiv.sk-label-container:hover .sk-estimator-doc-link:hover,\n.sk-estimator-doc-link:hover {\n  /* unfitted */\n  background-color: var(--sklearn-color-unfitted-level-3);\n  color: var(--sklearn-color-background);\n  text-decoration: none;\n}\n\ndiv.sk-estimator.fitted:hover .sk-estimator-doc-link.fitted:hover,\n.sk-estimator-doc-link.fitted:hover,\ndiv.sk-label-container:hover .sk-estimator-doc-link.fitted:hover,\n.sk-estimator-doc-link.fitted:hover {\n  /* fitted */\n  background-color: var(--sklearn-color-fitted-level-3);\n  color: var(--sklearn-color-background);\n  text-decoration: none;\n}\n\n/* Span, style for the box shown on hovering the info icon */\n.sk-estimator-doc-link span {\n  display: none;\n  z-index: 9999;\n  position: relative;\n  font-weight: normal;\n  right: .2ex;\n  padding: .5ex;\n  margin: .5ex;\n  width: min-content;\n  min-width: 20ex;\n  max-width: 50ex;\n  color: var(--sklearn-color-text);\n  box-shadow: 2pt 2pt 4pt #999;\n  /* unfitted */\n  background: var(--sklearn-color-unfitted-level-0);\n  border: .5pt solid var(--sklearn-color-unfitted-level-3);\n}\n\n.sk-estimator-doc-link.fitted span {\n  /* fitted */\n  background: var(--sklearn-color-fitted-level-0);\n  border: var(--sklearn-color-fitted-level-3);\n}\n\n.sk-estimator-doc-link:hover span {\n  display: block;\n}\n\n/* \"?\"-specific style due to the `<a>` HTML tag */\n\n#sk-container-id-2 a.estimator_doc_link {\n  float: right;\n  font-size: 1rem;\n  line-height: 1em;\n  font-family: monospace;\n  background-color: var(--sklearn-color-background);\n  border-radius: 1rem;\n  height: 1rem;\n  width: 1rem;\n  text-decoration: none;\n  /* unfitted */\n  color: var(--sklearn-color-unfitted-level-1);\n  border: var(--sklearn-color-unfitted-level-1) 1pt solid;\n}\n\n#sk-container-id-2 a.estimator_doc_link.fitted {\n  /* fitted */\n  border: var(--sklearn-color-fitted-level-1) 1pt solid;\n  color: var(--sklearn-color-fitted-level-1);\n}\n\n/* On hover */\n#sk-container-id-2 a.estimator_doc_link:hover {\n  /* unfitted */\n  background-color: var(--sklearn-color-unfitted-level-3);\n  color: var(--sklearn-color-background);\n  text-decoration: none;\n}\n\n#sk-container-id-2 a.estimator_doc_link.fitted:hover {\n  /* fitted */\n  background-color: var(--sklearn-color-fitted-level-3);\n}\n</style><div id=\"sk-container-id-2\" class=\"sk-top-container\"><div class=\"sk-text-repr-fallback\"><pre>HistGradientBoostingRegressor()</pre><b>In a Jupyter environment, please rerun this cell to show the HTML representation or trust the notebook. <br />On GitHub, the HTML representation is unable to render, please try loading this page with nbviewer.org.</b></div><div class=\"sk-container\" hidden><div class=\"sk-item\"><div class=\"sk-estimator fitted sk-toggleable\"><input class=\"sk-toggleable__control sk-hidden--visually\" id=\"sk-estimator-id-2\" type=\"checkbox\" checked><label for=\"sk-estimator-id-2\" class=\"sk-toggleable__label fitted sk-toggleable__label-arrow fitted\">&nbsp;&nbsp;HistGradientBoostingRegressor<a class=\"sk-estimator-doc-link fitted\" rel=\"noreferrer\" target=\"_blank\" href=\"https://scikit-learn.org/1.5/modules/generated/sklearn.ensemble.HistGradientBoostingRegressor.html\">?<span>Documentation for HistGradientBoostingRegressor</span></a><span class=\"sk-estimator-doc-link fitted\">i<span>Fitted</span></span></label><div class=\"sk-toggleable__content fitted\"><pre>HistGradientBoostingRegressor()</pre></div> </div></div></div></div>"
     },
     "execution_count": 53,
     "metadata": {},
     "output_type": "execute_result"
    }
   ],
   "source": [
    "HGBR = HistGradientBoostingRegressor()\n",
    "HGBR.fit(X,y)"
   ],
   "metadata": {
    "collapsed": false,
    "ExecuteTime": {
     "end_time": "2024-09-13T23:00:30.788434Z",
     "start_time": "2024-09-13T23:00:30.200241Z"
    }
   },
   "id": "1f37dae6f6ddd1fa",
   "execution_count": 53
  },
  {
   "cell_type": "code",
   "outputs": [],
   "source": [
    "predhgbr = HGBR.predict(new.drop(\"id\",axis=1))"
   ],
   "metadata": {
    "collapsed": false,
    "ExecuteTime": {
     "end_time": "2024-09-13T23:01:08.137715Z",
     "start_time": "2024-09-13T23:01:08.089840Z"
    }
   },
   "id": "76eee404c301c893",
   "execution_count": 55
  },
  {
   "cell_type": "code",
   "outputs": [],
   "source": [
    "predict_hgbr = pd.DataFrame(predhgbr)"
   ],
   "metadata": {
    "collapsed": false,
    "ExecuteTime": {
     "end_time": "2024-09-13T23:02:42.794890Z",
     "start_time": "2024-09-13T23:02:42.789826Z"
    }
   },
   "id": "c8acf68725424ae9",
   "execution_count": 56
  },
  {
   "cell_type": "code",
   "outputs": [
    {
     "data": {
      "text/plain": "               0\n0      34.617138\n1      18.005717\n2       5.925336\n3      18.866611\n4      32.749717\n...          ...\n11044  30.383959\n11045  29.741645\n11046  40.281866\n11047  53.323635\n11048  24.332460\n\n[11049 rows x 1 columns]",
      "text/html": "<div>\n<style scoped>\n    .dataframe tbody tr th:only-of-type {\n        vertical-align: middle;\n    }\n\n    .dataframe tbody tr th {\n        vertical-align: top;\n    }\n\n    .dataframe thead th {\n        text-align: right;\n    }\n</style>\n<table border=\"1\" class=\"dataframe\">\n  <thead>\n    <tr style=\"text-align: right;\">\n      <th></th>\n      <th>0</th>\n    </tr>\n  </thead>\n  <tbody>\n    <tr>\n      <th>0</th>\n      <td>34.617138</td>\n    </tr>\n    <tr>\n      <th>1</th>\n      <td>18.005717</td>\n    </tr>\n    <tr>\n      <th>2</th>\n      <td>5.925336</td>\n    </tr>\n    <tr>\n      <th>3</th>\n      <td>18.866611</td>\n    </tr>\n    <tr>\n      <th>4</th>\n      <td>32.749717</td>\n    </tr>\n    <tr>\n      <th>...</th>\n      <td>...</td>\n    </tr>\n    <tr>\n      <th>11044</th>\n      <td>30.383959</td>\n    </tr>\n    <tr>\n      <th>11045</th>\n      <td>29.741645</td>\n    </tr>\n    <tr>\n      <th>11046</th>\n      <td>40.281866</td>\n    </tr>\n    <tr>\n      <th>11047</th>\n      <td>53.323635</td>\n    </tr>\n    <tr>\n      <th>11048</th>\n      <td>24.332460</td>\n    </tr>\n  </tbody>\n</table>\n<p>11049 rows × 1 columns</p>\n</div>"
     },
     "execution_count": 57,
     "metadata": {},
     "output_type": "execute_result"
    }
   ],
   "source": [
    "predict_hgbr"
   ],
   "metadata": {
    "collapsed": false,
    "ExecuteTime": {
     "end_time": "2024-09-13T23:02:48.434619Z",
     "start_time": "2024-09-13T23:02:48.425758Z"
    }
   },
   "id": "c8038ce2d950f371",
   "execution_count": 57
  },
  {
   "cell_type": "code",
   "outputs": [],
   "source": [
    "predict_hgbr.columns = [\"Degerlendirme Puani\"]"
   ],
   "metadata": {
    "collapsed": false
   },
   "id": "6335d6491ecf0885"
  },
  {
   "cell_type": "code",
   "outputs": [],
   "source": [
    "predict_hgbr[\"id\"] = new[\"id\"]\n",
    "predict_hgbr.set_index(\"id\", inplace=True)"
   ],
   "metadata": {
    "collapsed": false,
    "ExecuteTime": {
     "end_time": "2024-09-13T23:06:33.800904Z",
     "start_time": "2024-09-13T23:06:33.795086Z"
    }
   },
   "id": "b0c12c06df1bb7bc",
   "execution_count": 63
  },
  {
   "cell_type": "code",
   "outputs": [],
   "source": [
    "predict_hgbr.to_csv(\"prediction_4.csv\")"
   ],
   "metadata": {
    "collapsed": false,
    "ExecuteTime": {
     "end_time": "2024-09-13T23:10:03.626326Z",
     "start_time": "2024-09-13T23:10:03.592536Z"
    }
   },
   "id": "5d64e061d85a4df0",
   "execution_count": 68
  },
  {
   "cell_type": "code",
   "outputs": [],
   "source": [],
   "metadata": {
    "collapsed": false
   },
   "id": "1c53442b4bd89844"
  }
 ],
 "metadata": {
  "kernelspec": {
   "display_name": "Python 3",
   "language": "python",
   "name": "python3"
  },
  "language_info": {
   "codemirror_mode": {
    "name": "ipython",
    "version": 2
   },
   "file_extension": ".py",
   "mimetype": "text/x-python",
   "name": "python",
   "nbconvert_exporter": "python",
   "pygments_lexer": "ipython2",
   "version": "2.7.6"
  }
 },
 "nbformat": 4,
 "nbformat_minor": 5
}
