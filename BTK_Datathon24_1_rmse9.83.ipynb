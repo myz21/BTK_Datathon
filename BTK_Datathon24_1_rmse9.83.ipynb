{
 "cells": [
  {
   "cell_type": "code",
   "execution_count": 26,
   "id": "initial_id",
   "metadata": {
    "collapsed": true,
    "ExecuteTime": {
     "end_time": "2024-09-10T11:50:24.562872Z",
     "start_time": "2024-09-10T11:50:24.559621Z"
    }
   },
   "outputs": [],
   "source": [
    "import pandas as pd"
   ]
  },
  {
   "cell_type": "code",
   "outputs": [
    {
     "data": {
      "text/plain": "       Basvuru Yili  Degerlendirme Puani Cinsiyet      Dogum Tarihi  \\\n0              2014                 52.0    Erkek          4/6/1994   \n1              2014                 30.0    Erkek         6/11/1993   \n2              2014                 18.0    Erkek         1/15/1986   \n3              2014                 40.0    Erkek          6/4/1991   \n4              2014                 24.0    Erkek      2 Kasim 1992   \n...             ...                  ...      ...               ...   \n65120          2022                  0.0    Erkek  18.06.2003 00:00   \n65121          2022                  0.0    Erkek  18.04.2002 00:00   \n65122          2022                  0.0    Erkek  23.10.1999 00:00   \n65123          2022                  0.0    Erkek  17.11.2000 00:00   \n65124          2022                  NaN    Kadın  27.04.2000 00:00   \n\n             Dogum Yeri Ikametgah Sehri                    Universite Adi  \\\n0      Altindag, Ankara          Ankara           İHSAN DOĞRAMACI BİLKENT   \n1               Üsküdar        İstanbul           İHSAN DOĞRAMACI BİLKENT   \n2                Samsun        İstanbul  ULUSLARARASI KIBRIS ÜNİVERSİTESİ   \n3            Diyarbakır        İstanbul       İSTANBUL ŞEHİR ÜNİVERSİTESİ   \n4       Ankara/Altındağ          Ankara          TURGUT ÖZAL ÜNİVERSİTESİ   \n...                 ...             ...                               ...   \n65120          İstanbul        İstanbul       İstanbul Aydın Üniversitesi   \n65121             Hatay           Muğla   Muğla Sıtkı Koçman Üniversitesi   \n65122            Mersin          Mersin     Süleyman Demirel Üniversitesi   \n65123            Samsun          Samsun              Karabük Üniversitesi   \n65124             Hatay           Hatay            Gaziantep Üniversitesi   \n\n      Universite Turu  Burslu ise Burs Yuzdesi Burs Aliyor mu?  ...  \\\n0                Özel                    100.0            Evet  ...   \n1                Özel                    100.0           Hayır  ...   \n2                Özel                    100.0           Hayır  ...   \n3                Özel                    100.0            Evet  ...   \n4                Özel                    100.0            Evet  ...   \n...               ...                      ...             ...  ...   \n65120            Özel                      NaN            Evet  ...   \n65121          Devlet                      NaN           Hayır  ...   \n65122          Devlet                      NaN           Hayır  ...   \n65123          Devlet                      NaN           Hayır  ...   \n65124          Devlet                      NaN           Hayır  ...   \n\n      Spor Dalindaki Rolunuz Nedir? Aktif olarak bir STK üyesi misiniz?  \\\n0                             Diğer                               Hayır   \n1                                 0                               Hayır   \n2                                 0                               Hayır   \n3                                 0                               Hayır   \n4                                 0                               Hayır   \n...                             ...                                 ...   \n65120                             -                               Hayır   \n65121                             -                               Hayır   \n65122                             -                               Hayır   \n65123                             -                               Hayır   \n65124                Takım Oyuncusu                                Evet   \n\n                               Hangi STK'nin Uyesisiniz?  \\\n0                                                    NaN   \n1                                                    NaN   \n2                                                    NaN   \n3                                                    NaN   \n4                                                    NaN   \n...                                                  ...   \n65120                                                  -   \n65121                                                  -   \n65122                                                  -   \n65123                                                  -   \n65124  Genç Kızılay Topluluğu'nda 3 yıldır gönüllüyüm...   \n\n      Stk Projesine Katildiniz Mi? Girisimcilikle Ilgili Deneyiminiz Var Mi?  \\\n0                             Evet                                     Hayır   \n1                             Evet                                      Evet   \n2                            Hayır                                     Hayır   \n3                             Evet                                     Hayır   \n4                            Hayır                                     Hayır   \n...                            ...                                       ...   \n65120                          NaN                                     Hayır   \n65121                          NaN                                     Hayır   \n65122                          NaN                                     Hayır   \n65123                          NaN                                     Hayır   \n65124                          NaN                                      Evet   \n\n      Girisimcilikle Ilgili Deneyiminizi Aciklayabilir misiniz?  \\\n0                                                    NaN          \n1      Bilkent Cyberparkta bir şirkette Türkiye nin i...          \n2                                                    NaN          \n3                                                    NaN          \n4                                                    NaN          \n...                                                  ...          \n65120                                                  -          \n65121                                                  -          \n65122                                                  -          \n65123                                                  -          \n65124  Aile desteğiyle yemek sektöründe küçük bir işl...          \n\n      Ingilizce Biliyor musunuz? Ingilizce Seviyeniz?  \\\n0                            NaN                  NaN   \n1                            NaN                  NaN   \n2                            NaN                  NaN   \n3                            NaN                  NaN   \n4                            NaN                  NaN   \n...                          ...                  ...   \n65120                      Hayır                  NaN   \n65121                      Hayır                  NaN   \n65122                      Hayır                  NaN   \n65123                      Hayır                  NaN   \n65124                       Evet                  NaN   \n\n      Daha Önceden Mezun Olunduysa, Mezun Olunan Üniversite     id  \n0                                                    NaN         0  \n1                                                    NaN         1  \n2                                                    NaN         2  \n3                                                    NaN         3  \n4                                                    NaN         4  \n...                                                  ...       ...  \n65120                                                NaN     65120  \n65121                                                NaN     65121  \n65122                                                NaN     65122  \n65123                                                NaN     65123  \n65124                                                NaN     65124  \n\n[65125 rows x 44 columns]",
      "text/html": "<div>\n<style scoped>\n    .dataframe tbody tr th:only-of-type {\n        vertical-align: middle;\n    }\n\n    .dataframe tbody tr th {\n        vertical-align: top;\n    }\n\n    .dataframe thead th {\n        text-align: right;\n    }\n</style>\n<table border=\"1\" class=\"dataframe\">\n  <thead>\n    <tr style=\"text-align: right;\">\n      <th></th>\n      <th>Basvuru Yili</th>\n      <th>Degerlendirme Puani</th>\n      <th>Cinsiyet</th>\n      <th>Dogum Tarihi</th>\n      <th>Dogum Yeri</th>\n      <th>Ikametgah Sehri</th>\n      <th>Universite Adi</th>\n      <th>Universite Turu</th>\n      <th>Burslu ise Burs Yuzdesi</th>\n      <th>Burs Aliyor mu?</th>\n      <th>...</th>\n      <th>Spor Dalindaki Rolunuz Nedir?</th>\n      <th>Aktif olarak bir STK üyesi misiniz?</th>\n      <th>Hangi STK'nin Uyesisiniz?</th>\n      <th>Stk Projesine Katildiniz Mi?</th>\n      <th>Girisimcilikle Ilgili Deneyiminiz Var Mi?</th>\n      <th>Girisimcilikle Ilgili Deneyiminizi Aciklayabilir misiniz?</th>\n      <th>Ingilizce Biliyor musunuz?</th>\n      <th>Ingilizce Seviyeniz?</th>\n      <th>Daha Önceden Mezun Olunduysa, Mezun Olunan Üniversite</th>\n      <th>id</th>\n    </tr>\n  </thead>\n  <tbody>\n    <tr>\n      <th>0</th>\n      <td>2014</td>\n      <td>52.0</td>\n      <td>Erkek</td>\n      <td>4/6/1994</td>\n      <td>Altindag, Ankara</td>\n      <td>Ankara</td>\n      <td>İHSAN DOĞRAMACI BİLKENT</td>\n      <td>Özel</td>\n      <td>100.0</td>\n      <td>Evet</td>\n      <td>...</td>\n      <td>Diğer</td>\n      <td>Hayır</td>\n      <td>NaN</td>\n      <td>Evet</td>\n      <td>Hayır</td>\n      <td>NaN</td>\n      <td>NaN</td>\n      <td>NaN</td>\n      <td>NaN</td>\n      <td>0</td>\n    </tr>\n    <tr>\n      <th>1</th>\n      <td>2014</td>\n      <td>30.0</td>\n      <td>Erkek</td>\n      <td>6/11/1993</td>\n      <td>Üsküdar</td>\n      <td>İstanbul</td>\n      <td>İHSAN DOĞRAMACI BİLKENT</td>\n      <td>Özel</td>\n      <td>100.0</td>\n      <td>Hayır</td>\n      <td>...</td>\n      <td>0</td>\n      <td>Hayır</td>\n      <td>NaN</td>\n      <td>Evet</td>\n      <td>Evet</td>\n      <td>Bilkent Cyberparkta bir şirkette Türkiye nin i...</td>\n      <td>NaN</td>\n      <td>NaN</td>\n      <td>NaN</td>\n      <td>1</td>\n    </tr>\n    <tr>\n      <th>2</th>\n      <td>2014</td>\n      <td>18.0</td>\n      <td>Erkek</td>\n      <td>1/15/1986</td>\n      <td>Samsun</td>\n      <td>İstanbul</td>\n      <td>ULUSLARARASI KIBRIS ÜNİVERSİTESİ</td>\n      <td>Özel</td>\n      <td>100.0</td>\n      <td>Hayır</td>\n      <td>...</td>\n      <td>0</td>\n      <td>Hayır</td>\n      <td>NaN</td>\n      <td>Hayır</td>\n      <td>Hayır</td>\n      <td>NaN</td>\n      <td>NaN</td>\n      <td>NaN</td>\n      <td>NaN</td>\n      <td>2</td>\n    </tr>\n    <tr>\n      <th>3</th>\n      <td>2014</td>\n      <td>40.0</td>\n      <td>Erkek</td>\n      <td>6/4/1991</td>\n      <td>Diyarbakır</td>\n      <td>İstanbul</td>\n      <td>İSTANBUL ŞEHİR ÜNİVERSİTESİ</td>\n      <td>Özel</td>\n      <td>100.0</td>\n      <td>Evet</td>\n      <td>...</td>\n      <td>0</td>\n      <td>Hayır</td>\n      <td>NaN</td>\n      <td>Evet</td>\n      <td>Hayır</td>\n      <td>NaN</td>\n      <td>NaN</td>\n      <td>NaN</td>\n      <td>NaN</td>\n      <td>3</td>\n    </tr>\n    <tr>\n      <th>4</th>\n      <td>2014</td>\n      <td>24.0</td>\n      <td>Erkek</td>\n      <td>2 Kasim 1992</td>\n      <td>Ankara/Altındağ</td>\n      <td>Ankara</td>\n      <td>TURGUT ÖZAL ÜNİVERSİTESİ</td>\n      <td>Özel</td>\n      <td>100.0</td>\n      <td>Evet</td>\n      <td>...</td>\n      <td>0</td>\n      <td>Hayır</td>\n      <td>NaN</td>\n      <td>Hayır</td>\n      <td>Hayır</td>\n      <td>NaN</td>\n      <td>NaN</td>\n      <td>NaN</td>\n      <td>NaN</td>\n      <td>4</td>\n    </tr>\n    <tr>\n      <th>...</th>\n      <td>...</td>\n      <td>...</td>\n      <td>...</td>\n      <td>...</td>\n      <td>...</td>\n      <td>...</td>\n      <td>...</td>\n      <td>...</td>\n      <td>...</td>\n      <td>...</td>\n      <td>...</td>\n      <td>...</td>\n      <td>...</td>\n      <td>...</td>\n      <td>...</td>\n      <td>...</td>\n      <td>...</td>\n      <td>...</td>\n      <td>...</td>\n      <td>...</td>\n      <td>...</td>\n    </tr>\n    <tr>\n      <th>65120</th>\n      <td>2022</td>\n      <td>0.0</td>\n      <td>Erkek</td>\n      <td>18.06.2003 00:00</td>\n      <td>İstanbul</td>\n      <td>İstanbul</td>\n      <td>İstanbul Aydın Üniversitesi</td>\n      <td>Özel</td>\n      <td>NaN</td>\n      <td>Evet</td>\n      <td>...</td>\n      <td>-</td>\n      <td>Hayır</td>\n      <td>-</td>\n      <td>NaN</td>\n      <td>Hayır</td>\n      <td>-</td>\n      <td>Hayır</td>\n      <td>NaN</td>\n      <td>NaN</td>\n      <td>65120</td>\n    </tr>\n    <tr>\n      <th>65121</th>\n      <td>2022</td>\n      <td>0.0</td>\n      <td>Erkek</td>\n      <td>18.04.2002 00:00</td>\n      <td>Hatay</td>\n      <td>Muğla</td>\n      <td>Muğla Sıtkı Koçman Üniversitesi</td>\n      <td>Devlet</td>\n      <td>NaN</td>\n      <td>Hayır</td>\n      <td>...</td>\n      <td>-</td>\n      <td>Hayır</td>\n      <td>-</td>\n      <td>NaN</td>\n      <td>Hayır</td>\n      <td>-</td>\n      <td>Hayır</td>\n      <td>NaN</td>\n      <td>NaN</td>\n      <td>65121</td>\n    </tr>\n    <tr>\n      <th>65122</th>\n      <td>2022</td>\n      <td>0.0</td>\n      <td>Erkek</td>\n      <td>23.10.1999 00:00</td>\n      <td>Mersin</td>\n      <td>Mersin</td>\n      <td>Süleyman Demirel Üniversitesi</td>\n      <td>Devlet</td>\n      <td>NaN</td>\n      <td>Hayır</td>\n      <td>...</td>\n      <td>-</td>\n      <td>Hayır</td>\n      <td>-</td>\n      <td>NaN</td>\n      <td>Hayır</td>\n      <td>-</td>\n      <td>Hayır</td>\n      <td>NaN</td>\n      <td>NaN</td>\n      <td>65122</td>\n    </tr>\n    <tr>\n      <th>65123</th>\n      <td>2022</td>\n      <td>0.0</td>\n      <td>Erkek</td>\n      <td>17.11.2000 00:00</td>\n      <td>Samsun</td>\n      <td>Samsun</td>\n      <td>Karabük Üniversitesi</td>\n      <td>Devlet</td>\n      <td>NaN</td>\n      <td>Hayır</td>\n      <td>...</td>\n      <td>-</td>\n      <td>Hayır</td>\n      <td>-</td>\n      <td>NaN</td>\n      <td>Hayır</td>\n      <td>-</td>\n      <td>Hayır</td>\n      <td>NaN</td>\n      <td>NaN</td>\n      <td>65123</td>\n    </tr>\n    <tr>\n      <th>65124</th>\n      <td>2022</td>\n      <td>NaN</td>\n      <td>Kadın</td>\n      <td>27.04.2000 00:00</td>\n      <td>Hatay</td>\n      <td>Hatay</td>\n      <td>Gaziantep Üniversitesi</td>\n      <td>Devlet</td>\n      <td>NaN</td>\n      <td>Hayır</td>\n      <td>...</td>\n      <td>Takım Oyuncusu</td>\n      <td>Evet</td>\n      <td>Genç Kızılay Topluluğu'nda 3 yıldır gönüllüyüm...</td>\n      <td>NaN</td>\n      <td>Evet</td>\n      <td>Aile desteğiyle yemek sektöründe küçük bir işl...</td>\n      <td>Evet</td>\n      <td>NaN</td>\n      <td>NaN</td>\n      <td>65124</td>\n    </tr>\n  </tbody>\n</table>\n<p>65125 rows × 44 columns</p>\n</div>"
     },
     "execution_count": 27,
     "metadata": {},
     "output_type": "execute_result"
    }
   ],
   "source": [
    "df = pd.read_csv('train.csv', low_memory=False)\n",
    "df"
   ],
   "metadata": {
    "collapsed": false,
    "ExecuteTime": {
     "end_time": "2024-09-10T11:50:25.521204Z",
     "start_time": "2024-09-10T11:50:24.936412Z"
    }
   },
   "id": "15f62a82599ad347",
   "execution_count": 27
  },
  {
   "cell_type": "code",
   "outputs": [
    {
     "data": {
      "text/plain": "                           count          mean           std     min      25%  \\\nBasvuru Yili             65125.0   2018.277298      2.669979  2014.0   2016.0   \nDegerlendirme Puani      65124.0     32.086466     18.139239     0.0     18.0   \nBurslu ise Burs Yuzdesi  22440.0     34.226181     41.632412     0.0      0.0   \nid                       65125.0  32562.000000  18800.112478     0.0  16281.0   \n\n                             50%      75%      max  \nBasvuru Yili              2019.0   2021.0   2022.0  \nDegerlendirme Puani         29.0     44.0    102.0  \nBurslu ise Burs Yuzdesi      0.0     75.0    100.0  \nid                       32562.0  48843.0  65124.0  ",
      "text/html": "<div>\n<style scoped>\n    .dataframe tbody tr th:only-of-type {\n        vertical-align: middle;\n    }\n\n    .dataframe tbody tr th {\n        vertical-align: top;\n    }\n\n    .dataframe thead th {\n        text-align: right;\n    }\n</style>\n<table border=\"1\" class=\"dataframe\">\n  <thead>\n    <tr style=\"text-align: right;\">\n      <th></th>\n      <th>count</th>\n      <th>mean</th>\n      <th>std</th>\n      <th>min</th>\n      <th>25%</th>\n      <th>50%</th>\n      <th>75%</th>\n      <th>max</th>\n    </tr>\n  </thead>\n  <tbody>\n    <tr>\n      <th>Basvuru Yili</th>\n      <td>65125.0</td>\n      <td>2018.277298</td>\n      <td>2.669979</td>\n      <td>2014.0</td>\n      <td>2016.0</td>\n      <td>2019.0</td>\n      <td>2021.0</td>\n      <td>2022.0</td>\n    </tr>\n    <tr>\n      <th>Degerlendirme Puani</th>\n      <td>65124.0</td>\n      <td>32.086466</td>\n      <td>18.139239</td>\n      <td>0.0</td>\n      <td>18.0</td>\n      <td>29.0</td>\n      <td>44.0</td>\n      <td>102.0</td>\n    </tr>\n    <tr>\n      <th>Burslu ise Burs Yuzdesi</th>\n      <td>22440.0</td>\n      <td>34.226181</td>\n      <td>41.632412</td>\n      <td>0.0</td>\n      <td>0.0</td>\n      <td>0.0</td>\n      <td>75.0</td>\n      <td>100.0</td>\n    </tr>\n    <tr>\n      <th>id</th>\n      <td>65125.0</td>\n      <td>32562.000000</td>\n      <td>18800.112478</td>\n      <td>0.0</td>\n      <td>16281.0</td>\n      <td>32562.0</td>\n      <td>48843.0</td>\n      <td>65124.0</td>\n    </tr>\n  </tbody>\n</table>\n</div>"
     },
     "execution_count": 28,
     "metadata": {},
     "output_type": "execute_result"
    }
   ],
   "source": [
    "df.describe().T"
   ],
   "metadata": {
    "collapsed": false,
    "ExecuteTime": {
     "end_time": "2024-09-10T11:50:25.551895Z",
     "start_time": "2024-09-10T11:50:25.522207Z"
    }
   },
   "id": "c3cd4182380e217d",
   "execution_count": 28
  },
  {
   "cell_type": "code",
   "outputs": [
    {
     "name": "stdout",
     "output_type": "stream",
     "text": [
      "<class 'pandas.core.frame.DataFrame'>\n",
      "RangeIndex: 65125 entries, 0 to 65124\n",
      "Data columns (total 44 columns):\n",
      " #   Column                                                     Non-Null Count  Dtype  \n",
      "---  ------                                                     --------------  -----  \n",
      " 0   Basvuru Yili                                               65125 non-null  int64  \n",
      " 1   Degerlendirme Puani                                        65124 non-null  float64\n",
      " 2   Cinsiyet                                                   64956 non-null  object \n",
      " 3   Dogum Tarihi                                               64948 non-null  object \n",
      " 4   Dogum Yeri                                                 64334 non-null  object \n",
      " 5   Ikametgah Sehri                                            63088 non-null  object \n",
      " 6   Universite Adi                                             64993 non-null  object \n",
      " 7   Universite Turu                                            64870 non-null  object \n",
      " 8   Burslu ise Burs Yuzdesi                                    22440 non-null  float64\n",
      " 9   Burs Aliyor mu?                                            65125 non-null  object \n",
      " 10  Bölüm                                                      64894 non-null  object \n",
      " 11  Universite Kacinci Sinif                                   64751 non-null  object \n",
      " 12  Universite Not Ortalamasi                                  62372 non-null  object \n",
      " 13  Daha Once Baska Bir Universiteden Mezun Olmus              27780 non-null  object \n",
      " 14  Lise Adi                                                   64741 non-null  object \n",
      " 15  Lise Adi Diger                                             4733 non-null   object \n",
      " 16  Lise Sehir                                                 64071 non-null  object \n",
      " 17  Lise Turu                                                  64278 non-null  object \n",
      " 18  Lise Bolumu                                                64116 non-null  object \n",
      " 19  Lise Bolum Diger                                           1526 non-null   object \n",
      " 20  Lise Mezuniyet Notu                                        59208 non-null  object \n",
      " 21  Baska Bir Kurumdan Burs Aliyor mu?                         64894 non-null  object \n",
      " 22  Burs Aldigi Baska Kurum                                    21148 non-null  object \n",
      " 23  Baska Kurumdan Aldigi Burs Miktari                         20963 non-null  object \n",
      " 24  Anne Egitim Durumu                                         64719 non-null  object \n",
      " 25  Anne Calisma Durumu                                        53229 non-null  object \n",
      " 26  Anne Sektor                                                30588 non-null  object \n",
      " 27  Baba Egitim Durumu                                         64118 non-null  object \n",
      " 28  Baba Calisma Durumu                                        52507 non-null  object \n",
      " 29  Baba Sektor                                                44747 non-null  object \n",
      " 30  Kardes Sayisi                                              63993 non-null  object \n",
      " 31  Girisimcilik Kulupleri Tarzi Bir Kulube Uye misiniz?       63296 non-null  object \n",
      " 32  Uye Oldugunuz Kulubun Ismi                                 16434 non-null  object \n",
      " 33  Profesyonel Bir Spor Daliyla Mesgul musunuz?               64010 non-null  object \n",
      " 34  Spor Dalindaki Rolunuz Nedir?                              32850 non-null  object \n",
      " 35  Aktif olarak bir STK üyesi misiniz?                        52283 non-null  object \n",
      " 36  Hangi STK'nin Uyesisiniz?                                  15607 non-null  object \n",
      " 37  Stk Projesine Katildiniz Mi?                               36817 non-null  object \n",
      " 38  Girisimcilikle Ilgili Deneyiminiz Var Mi?                  52285 non-null  object \n",
      " 39  Girisimcilikle Ilgili Deneyiminizi Aciklayabilir misiniz?  14599 non-null  object \n",
      " 40  Ingilizce Biliyor musunuz?                                 58671 non-null  object \n",
      " 41  Ingilizce Seviyeniz?                                       28592 non-null  object \n",
      " 42  Daha Önceden Mezun Olunduysa, Mezun Olunan Üniversite      419 non-null    object \n",
      " 43  id                                                         65125 non-null  int64  \n",
      "dtypes: float64(2), int64(2), object(40)\n",
      "memory usage: 21.9+ MB\n"
     ]
    }
   ],
   "source": [
    "df.info()"
   ],
   "metadata": {
    "collapsed": false,
    "ExecuteTime": {
     "end_time": "2024-09-10T11:50:26.304626Z",
     "start_time": "2024-09-10T11:50:26.229633Z"
    }
   },
   "id": "4b3a2d8aceb86635",
   "execution_count": 29
  },
  {
   "cell_type": "code",
   "outputs": [
    {
     "data": {
      "text/plain": "Basvuru Yili                                                     0\nDegerlendirme Puani                                              1\nCinsiyet                                                       169\nDogum Tarihi                                                   177\nDogum Yeri                                                     791\nIkametgah Sehri                                               2037\nUniversite Adi                                                 132\nUniversite Turu                                                255\nBurslu ise Burs Yuzdesi                                      42685\nBurs Aliyor mu?                                                  0\nBölüm                                                          231\nUniversite Kacinci Sinif                                       374\nUniversite Not Ortalamasi                                     2753\nDaha Once Baska Bir Universiteden Mezun Olmus                37345\nLise Adi                                                       384\nLise Adi Diger                                               60392\nLise Sehir                                                    1054\nLise Turu                                                      847\nLise Bolumu                                                   1009\nLise Bolum Diger                                             63599\nLise Mezuniyet Notu                                           5917\nBaska Bir Kurumdan Burs Aliyor mu?                             231\nBurs Aldigi Baska Kurum                                      43977\nBaska Kurumdan Aldigi Burs Miktari                           44162\nAnne Egitim Durumu                                             406\nAnne Calisma Durumu                                          11896\nAnne Sektor                                                  34537\nBaba Egitim Durumu                                            1007\nBaba Calisma Durumu                                          12618\nBaba Sektor                                                  20378\nKardes Sayisi                                                 1132\nGirisimcilik Kulupleri Tarzi Bir Kulube Uye misiniz?          1829\nUye Oldugunuz Kulubun Ismi                                   48691\nProfesyonel Bir Spor Daliyla Mesgul musunuz?                  1115\nSpor Dalindaki Rolunuz Nedir?                                32275\nAktif olarak bir STK üyesi misiniz?                          12842\nHangi STK'nin Uyesisiniz?                                    49518\nStk Projesine Katildiniz Mi?                                 28308\nGirisimcilikle Ilgili Deneyiminiz Var Mi?                    12840\nGirisimcilikle Ilgili Deneyiminizi Aciklayabilir misiniz?    50526\nIngilizce Biliyor musunuz?                                    6454\nIngilizce Seviyeniz?                                         36533\nDaha Önceden Mezun Olunduysa, Mezun Olunan Üniversite        64706\nid                                                               0\ndtype: int64"
     },
     "execution_count": 30,
     "metadata": {},
     "output_type": "execute_result"
    }
   ],
   "source": [
    "df.isnull().sum()"
   ],
   "metadata": {
    "collapsed": false,
    "ExecuteTime": {
     "end_time": "2024-09-10T11:50:26.698680Z",
     "start_time": "2024-09-10T11:50:26.626117Z"
    }
   },
   "id": "5813104c01e902d5",
   "execution_count": 30
  },
  {
   "cell_type": "code",
   "outputs": [
    {
     "data": {
      "text/plain": "Index(['Basvuru Yili', 'Degerlendirme Puani', 'Cinsiyet', 'Dogum Tarihi',\n       'Dogum Yeri', 'Ikametgah Sehri', 'Universite Adi', 'Universite Turu',\n       'Burslu ise Burs Yuzdesi', 'Burs Aliyor mu?', 'Bölüm',\n       'Universite Kacinci Sinif', 'Universite Not Ortalamasi',\n       'Daha Once Baska Bir Universiteden Mezun Olmus', 'Lise Adi',\n       'Lise Adi Diger', 'Lise Sehir', 'Lise Turu', 'Lise Bolumu',\n       'Lise Bolum Diger', 'Lise Mezuniyet Notu',\n       'Baska Bir Kurumdan Burs Aliyor mu?', 'Burs Aldigi Baska Kurum',\n       'Baska Kurumdan Aldigi Burs Miktari', 'Anne Egitim Durumu',\n       'Anne Calisma Durumu', 'Anne Sektor', 'Baba Egitim Durumu',\n       'Baba Calisma Durumu', 'Baba Sektor', 'Kardes Sayisi',\n       'Girisimcilik Kulupleri Tarzi Bir Kulube Uye misiniz?',\n       'Uye Oldugunuz Kulubun Ismi',\n       'Profesyonel Bir Spor Daliyla Mesgul musunuz?',\n       'Spor Dalindaki Rolunuz Nedir?', 'Aktif olarak bir STK üyesi misiniz?',\n       'Hangi STK'nin Uyesisiniz?', 'Stk Projesine Katildiniz Mi?',\n       'Girisimcilikle Ilgili Deneyiminiz Var Mi?',\n       'Girisimcilikle Ilgili Deneyiminizi Aciklayabilir misiniz?',\n       'Ingilizce Biliyor musunuz?', 'Ingilizce Seviyeniz?',\n       'Daha Önceden Mezun Olunduysa, Mezun Olunan Üniversite', 'id'],\n      dtype='object')"
     },
     "execution_count": 31,
     "metadata": {},
     "output_type": "execute_result"
    }
   ],
   "source": [
    "df.keys()"
   ],
   "metadata": {
    "collapsed": false,
    "ExecuteTime": {
     "end_time": "2024-09-10T11:50:26.934133Z",
     "start_time": "2024-09-10T11:50:26.930547Z"
    }
   },
   "id": "4302e8184299407a",
   "execution_count": 31
  },
  {
   "cell_type": "code",
   "outputs": [
    {
     "data": {
      "text/plain": "       Basvuru Yili  Degerlendirme Puani Cinsiyet Universite Turu  \\\n0              2014                 52.0    Erkek            Özel   \n1              2014                 30.0    Erkek            Özel   \n2              2014                 18.0    Erkek            Özel   \n3              2014                 40.0    Erkek            Özel   \n4              2014                 24.0    Erkek            Özel   \n...             ...                  ...      ...             ...   \n65120          2022                  0.0    Erkek            Özel   \n65121          2022                  0.0    Erkek          Devlet   \n65122          2022                  0.0    Erkek          Devlet   \n65123          2022                  0.0    Erkek          Devlet   \n65124          2022                  NaN    Kadın          Devlet   \n\n       Burslu ise Burs Yuzdesi Burs Aliyor mu?  \\\n0                        100.0            Evet   \n1                        100.0           Hayır   \n2                        100.0           Hayır   \n3                        100.0            Evet   \n4                        100.0            Evet   \n...                        ...             ...   \n65120                      NaN            Evet   \n65121                      NaN           Hayır   \n65122                      NaN           Hayır   \n65123                      NaN           Hayır   \n65124                      NaN           Hayır   \n\n                                          Bölüm Universite Kacinci Sinif  \\\n0                       Bilgisayar Muhendisligi                        3   \n1              Elektrik Elektronik Mühendisliği                        3   \n2                  Finans Yönetimi ve Pazarlama                        1   \n3                       Bilgisayar Mühendisliği                        3   \n4      Siyaset Bilimi ve Uluslararası ilişkiler                      NaN   \n...                                         ...                      ...   \n65120                                  Muhasebe                        2   \n65121                      Turizm İşletmeciliği                        1   \n65122                     Otomotiv Mühendisliği                        4   \n65123                              Sanat Tarihi                        3   \n65124                 İngiliz Dili ve Edebiyatı                        4   \n\n      Universite Not Ortalamasi Daha Once Baska Bir Universiteden Mezun Olmus  \\\n0                        3.50-3                                         Hayır   \n1                     3.00-2.50                                         Hayır   \n2                           NaN                                         Hayır   \n3                     3.00-2.50                                         Hayır   \n4                     3.00-2.50                                         Hayır   \n...                         ...                                           ...   \n65120                  0 - 1.79                                           NaN   \n65121                Hazırlığım                                           NaN   \n65122                  0 - 1.79                                           NaN   \n65123                  0 - 1.79                                           NaN   \n65124               2.50 - 2.99                                           NaN   \n\n       ... Girisimcilik Kulupleri Tarzi Bir Kulube Uye misiniz?  \\\n0      ...                                               Evet     \n1      ...                                              Hayır     \n2      ...                                               Evet     \n3      ...                                               Evet     \n4      ...                                              Hayır     \n...    ...                                                ...     \n65120  ...                                              Hayır     \n65121  ...                                              Hayır     \n65122  ...                                              Hayır     \n65123  ...                                              Hayır     \n65124  ...                                              Hayır     \n\n      Profesyonel Bir Spor Daliyla Mesgul musunuz?  \\\n0                                             Evet   \n1                                            Hayır   \n2                                            Hayır   \n3                                            Hayır   \n4                                            Hayır   \n...                                            ...   \n65120                                        Hayır   \n65121                                        Hayır   \n65122                                        Hayır   \n65123                                        Hayır   \n65124                                         Evet   \n\n      Spor Dalindaki Rolunuz Nedir? Aktif olarak bir STK üyesi misiniz?  \\\n0                             Diğer                               Hayır   \n1                                 0                               Hayır   \n2                                 0                               Hayır   \n3                                 0                               Hayır   \n4                                 0                               Hayır   \n...                             ...                                 ...   \n65120                             -                               Hayır   \n65121                             -                               Hayır   \n65122                             -                               Hayır   \n65123                             -                               Hayır   \n65124                Takım Oyuncusu                                Evet   \n\n      Stk Projesine Katildiniz Mi? Girisimcilikle Ilgili Deneyiminiz Var Mi?  \\\n0                             Evet                                     Hayır   \n1                             Evet                                      Evet   \n2                            Hayır                                     Hayır   \n3                             Evet                                     Hayır   \n4                            Hayır                                     Hayır   \n...                            ...                                       ...   \n65120                          NaN                                     Hayır   \n65121                          NaN                                     Hayır   \n65122                          NaN                                     Hayır   \n65123                          NaN                                     Hayır   \n65124                          NaN                                      Evet   \n\n      Ingilizce Biliyor musunuz? Ingilizce Seviyeniz?  \\\n0                            NaN                  NaN   \n1                            NaN                  NaN   \n2                            NaN                  NaN   \n3                            NaN                  NaN   \n4                            NaN                  NaN   \n...                          ...                  ...   \n65120                      Hayır                  NaN   \n65121                      Hayır                  NaN   \n65122                      Hayır                  NaN   \n65123                      Hayır                  NaN   \n65124                       Evet                  NaN   \n\n      Daha Önceden Mezun Olunduysa, Mezun Olunan Üniversite     id  \n0                                                    NaN         0  \n1                                                    NaN         1  \n2                                                    NaN         2  \n3                                                    NaN         3  \n4                                                    NaN         4  \n...                                                  ...       ...  \n65120                                                NaN     65120  \n65121                                                NaN     65121  \n65122                                                NaN     65122  \n65123                                                NaN     65123  \n65124                                                NaN     65124  \n\n[65125 rows x 32 columns]",
      "text/html": "<div>\n<style scoped>\n    .dataframe tbody tr th:only-of-type {\n        vertical-align: middle;\n    }\n\n    .dataframe tbody tr th {\n        vertical-align: top;\n    }\n\n    .dataframe thead th {\n        text-align: right;\n    }\n</style>\n<table border=\"1\" class=\"dataframe\">\n  <thead>\n    <tr style=\"text-align: right;\">\n      <th></th>\n      <th>Basvuru Yili</th>\n      <th>Degerlendirme Puani</th>\n      <th>Cinsiyet</th>\n      <th>Universite Turu</th>\n      <th>Burslu ise Burs Yuzdesi</th>\n      <th>Burs Aliyor mu?</th>\n      <th>Bölüm</th>\n      <th>Universite Kacinci Sinif</th>\n      <th>Universite Not Ortalamasi</th>\n      <th>Daha Once Baska Bir Universiteden Mezun Olmus</th>\n      <th>...</th>\n      <th>Girisimcilik Kulupleri Tarzi Bir Kulube Uye misiniz?</th>\n      <th>Profesyonel Bir Spor Daliyla Mesgul musunuz?</th>\n      <th>Spor Dalindaki Rolunuz Nedir?</th>\n      <th>Aktif olarak bir STK üyesi misiniz?</th>\n      <th>Stk Projesine Katildiniz Mi?</th>\n      <th>Girisimcilikle Ilgili Deneyiminiz Var Mi?</th>\n      <th>Ingilizce Biliyor musunuz?</th>\n      <th>Ingilizce Seviyeniz?</th>\n      <th>Daha Önceden Mezun Olunduysa, Mezun Olunan Üniversite</th>\n      <th>id</th>\n    </tr>\n  </thead>\n  <tbody>\n    <tr>\n      <th>0</th>\n      <td>2014</td>\n      <td>52.0</td>\n      <td>Erkek</td>\n      <td>Özel</td>\n      <td>100.0</td>\n      <td>Evet</td>\n      <td>Bilgisayar Muhendisligi</td>\n      <td>3</td>\n      <td>3.50-3</td>\n      <td>Hayır</td>\n      <td>...</td>\n      <td>Evet</td>\n      <td>Evet</td>\n      <td>Diğer</td>\n      <td>Hayır</td>\n      <td>Evet</td>\n      <td>Hayır</td>\n      <td>NaN</td>\n      <td>NaN</td>\n      <td>NaN</td>\n      <td>0</td>\n    </tr>\n    <tr>\n      <th>1</th>\n      <td>2014</td>\n      <td>30.0</td>\n      <td>Erkek</td>\n      <td>Özel</td>\n      <td>100.0</td>\n      <td>Hayır</td>\n      <td>Elektrik Elektronik Mühendisliği</td>\n      <td>3</td>\n      <td>3.00-2.50</td>\n      <td>Hayır</td>\n      <td>...</td>\n      <td>Hayır</td>\n      <td>Hayır</td>\n      <td>0</td>\n      <td>Hayır</td>\n      <td>Evet</td>\n      <td>Evet</td>\n      <td>NaN</td>\n      <td>NaN</td>\n      <td>NaN</td>\n      <td>1</td>\n    </tr>\n    <tr>\n      <th>2</th>\n      <td>2014</td>\n      <td>18.0</td>\n      <td>Erkek</td>\n      <td>Özel</td>\n      <td>100.0</td>\n      <td>Hayır</td>\n      <td>Finans Yönetimi ve Pazarlama</td>\n      <td>1</td>\n      <td>NaN</td>\n      <td>Hayır</td>\n      <td>...</td>\n      <td>Evet</td>\n      <td>Hayır</td>\n      <td>0</td>\n      <td>Hayır</td>\n      <td>Hayır</td>\n      <td>Hayır</td>\n      <td>NaN</td>\n      <td>NaN</td>\n      <td>NaN</td>\n      <td>2</td>\n    </tr>\n    <tr>\n      <th>3</th>\n      <td>2014</td>\n      <td>40.0</td>\n      <td>Erkek</td>\n      <td>Özel</td>\n      <td>100.0</td>\n      <td>Evet</td>\n      <td>Bilgisayar Mühendisliği</td>\n      <td>3</td>\n      <td>3.00-2.50</td>\n      <td>Hayır</td>\n      <td>...</td>\n      <td>Evet</td>\n      <td>Hayır</td>\n      <td>0</td>\n      <td>Hayır</td>\n      <td>Evet</td>\n      <td>Hayır</td>\n      <td>NaN</td>\n      <td>NaN</td>\n      <td>NaN</td>\n      <td>3</td>\n    </tr>\n    <tr>\n      <th>4</th>\n      <td>2014</td>\n      <td>24.0</td>\n      <td>Erkek</td>\n      <td>Özel</td>\n      <td>100.0</td>\n      <td>Evet</td>\n      <td>Siyaset Bilimi ve Uluslararası ilişkiler</td>\n      <td>NaN</td>\n      <td>3.00-2.50</td>\n      <td>Hayır</td>\n      <td>...</td>\n      <td>Hayır</td>\n      <td>Hayır</td>\n      <td>0</td>\n      <td>Hayır</td>\n      <td>Hayır</td>\n      <td>Hayır</td>\n      <td>NaN</td>\n      <td>NaN</td>\n      <td>NaN</td>\n      <td>4</td>\n    </tr>\n    <tr>\n      <th>...</th>\n      <td>...</td>\n      <td>...</td>\n      <td>...</td>\n      <td>...</td>\n      <td>...</td>\n      <td>...</td>\n      <td>...</td>\n      <td>...</td>\n      <td>...</td>\n      <td>...</td>\n      <td>...</td>\n      <td>...</td>\n      <td>...</td>\n      <td>...</td>\n      <td>...</td>\n      <td>...</td>\n      <td>...</td>\n      <td>...</td>\n      <td>...</td>\n      <td>...</td>\n      <td>...</td>\n    </tr>\n    <tr>\n      <th>65120</th>\n      <td>2022</td>\n      <td>0.0</td>\n      <td>Erkek</td>\n      <td>Özel</td>\n      <td>NaN</td>\n      <td>Evet</td>\n      <td>Muhasebe</td>\n      <td>2</td>\n      <td>0 - 1.79</td>\n      <td>NaN</td>\n      <td>...</td>\n      <td>Hayır</td>\n      <td>Hayır</td>\n      <td>-</td>\n      <td>Hayır</td>\n      <td>NaN</td>\n      <td>Hayır</td>\n      <td>Hayır</td>\n      <td>NaN</td>\n      <td>NaN</td>\n      <td>65120</td>\n    </tr>\n    <tr>\n      <th>65121</th>\n      <td>2022</td>\n      <td>0.0</td>\n      <td>Erkek</td>\n      <td>Devlet</td>\n      <td>NaN</td>\n      <td>Hayır</td>\n      <td>Turizm İşletmeciliği</td>\n      <td>1</td>\n      <td>Hazırlığım</td>\n      <td>NaN</td>\n      <td>...</td>\n      <td>Hayır</td>\n      <td>Hayır</td>\n      <td>-</td>\n      <td>Hayır</td>\n      <td>NaN</td>\n      <td>Hayır</td>\n      <td>Hayır</td>\n      <td>NaN</td>\n      <td>NaN</td>\n      <td>65121</td>\n    </tr>\n    <tr>\n      <th>65122</th>\n      <td>2022</td>\n      <td>0.0</td>\n      <td>Erkek</td>\n      <td>Devlet</td>\n      <td>NaN</td>\n      <td>Hayır</td>\n      <td>Otomotiv Mühendisliği</td>\n      <td>4</td>\n      <td>0 - 1.79</td>\n      <td>NaN</td>\n      <td>...</td>\n      <td>Hayır</td>\n      <td>Hayır</td>\n      <td>-</td>\n      <td>Hayır</td>\n      <td>NaN</td>\n      <td>Hayır</td>\n      <td>Hayır</td>\n      <td>NaN</td>\n      <td>NaN</td>\n      <td>65122</td>\n    </tr>\n    <tr>\n      <th>65123</th>\n      <td>2022</td>\n      <td>0.0</td>\n      <td>Erkek</td>\n      <td>Devlet</td>\n      <td>NaN</td>\n      <td>Hayır</td>\n      <td>Sanat Tarihi</td>\n      <td>3</td>\n      <td>0 - 1.79</td>\n      <td>NaN</td>\n      <td>...</td>\n      <td>Hayır</td>\n      <td>Hayır</td>\n      <td>-</td>\n      <td>Hayır</td>\n      <td>NaN</td>\n      <td>Hayır</td>\n      <td>Hayır</td>\n      <td>NaN</td>\n      <td>NaN</td>\n      <td>65123</td>\n    </tr>\n    <tr>\n      <th>65124</th>\n      <td>2022</td>\n      <td>NaN</td>\n      <td>Kadın</td>\n      <td>Devlet</td>\n      <td>NaN</td>\n      <td>Hayır</td>\n      <td>İngiliz Dili ve Edebiyatı</td>\n      <td>4</td>\n      <td>2.50 - 2.99</td>\n      <td>NaN</td>\n      <td>...</td>\n      <td>Hayır</td>\n      <td>Evet</td>\n      <td>Takım Oyuncusu</td>\n      <td>Evet</td>\n      <td>NaN</td>\n      <td>Evet</td>\n      <td>Evet</td>\n      <td>NaN</td>\n      <td>NaN</td>\n      <td>65124</td>\n    </tr>\n  </tbody>\n</table>\n<p>65125 rows × 32 columns</p>\n</div>"
     },
     "execution_count": 32,
     "metadata": {},
     "output_type": "execute_result"
    }
   ],
   "source": [
    "df.drop(columns=[\"Dogum Tarihi\", \"Ikametgah Sehri\", \"Universite Adi\", \"Dogum Yeri\", \"Lise Adi\", \"Lise Adi Diger\", \"Lise Sehir\", \"Burs Aldigi Baska Kurum\", \"Baska Kurumdan Aldigi Burs Miktari\", \"Uye Oldugunuz Kulubun Ismi\", \"Hangi STK'nin Uyesisiniz?\", \"Girisimcilikle Ilgili Deneyiminizi Aciklayabilir misiniz?\"], inplace=True)\n",
    "df"
   ],
   "metadata": {
    "collapsed": false,
    "ExecuteTime": {
     "end_time": "2024-09-10T11:50:27.305478Z",
     "start_time": "2024-09-10T11:50:27.230434Z"
    }
   },
   "id": "fd74b848f33fe9cd",
   "execution_count": 32
  },
  {
   "cell_type": "code",
   "outputs": [
    {
     "data": {
      "text/plain": "array(['Anadolu lisesi', 'Meslek lisesi', 'Fen lisesi', 'Özel lisesi',\n       'Düz lise', 'İmam Hatip Lisesi', 'Meslek Lisesi', 'Fen Lisesi',\n       'Düz Lise', 'Anadolu Lisesi', 'Özel Lise', nan, 'Özel Lisesi',\n       'Diğer', 'Özel', 'Meslek', 'Devlet'], dtype=object)"
     },
     "execution_count": 33,
     "metadata": {},
     "output_type": "execute_result"
    }
   ],
   "source": [
    "df[\"Lise Turu\"].unique()"
   ],
   "metadata": {
    "collapsed": false,
    "ExecuteTime": {
     "end_time": "2024-09-10T11:50:27.709949Z",
     "start_time": "2024-09-10T11:50:27.705032Z"
    }
   },
   "id": "3a4ca9c08a15a0b6",
   "execution_count": 33
  },
  {
   "cell_type": "code",
   "outputs": [],
   "source": [
    "from sklearn.impute import SimpleImputer\n",
    "for col in df.columns:\n",
    "    if df[col].dtype == object:\n",
    "        strategy = \"most_frequent\"\n",
    "    else:\n",
    "        strategy = \"mean\"\n",
    "        \n",
    "    imp = SimpleImputer(strategy = strategy)\n",
    "    df[[col]] = imp.fit_transform(df[[col]])"
   ],
   "metadata": {
    "collapsed": false,
    "ExecuteTime": {
     "end_time": "2024-09-10T11:50:28.419452Z",
     "start_time": "2024-09-10T11:50:28.223167Z"
    }
   },
   "id": "4142a746a7d4c887",
   "execution_count": 34
  },
  {
   "cell_type": "code",
   "outputs": [
    {
     "data": {
      "text/plain": "Basvuru Yili                                             0\nDegerlendirme Puani                                      0\nCinsiyet                                                 0\nUniversite Turu                                          0\nBurslu ise Burs Yuzdesi                                  0\nBurs Aliyor mu?                                          0\nBölüm                                                    0\nUniversite Kacinci Sinif                                 0\nUniversite Not Ortalamasi                                0\nDaha Once Baska Bir Universiteden Mezun Olmus            0\nLise Turu                                                0\nLise Bolumu                                              0\nLise Bolum Diger                                         0\nLise Mezuniyet Notu                                      0\nBaska Bir Kurumdan Burs Aliyor mu?                       0\nAnne Egitim Durumu                                       0\nAnne Calisma Durumu                                      0\nAnne Sektor                                              0\nBaba Egitim Durumu                                       0\nBaba Calisma Durumu                                      0\nBaba Sektor                                              0\nKardes Sayisi                                            0\nGirisimcilik Kulupleri Tarzi Bir Kulube Uye misiniz?     0\nProfesyonel Bir Spor Daliyla Mesgul musunuz?             0\nSpor Dalindaki Rolunuz Nedir?                            0\nAktif olarak bir STK üyesi misiniz?                      0\nStk Projesine Katildiniz Mi?                             0\nGirisimcilikle Ilgili Deneyiminiz Var Mi?                0\nIngilizce Biliyor musunuz?                               0\nIngilizce Seviyeniz?                                     0\nDaha Önceden Mezun Olunduysa, Mezun Olunan Üniversite    0\nid                                                       0\ndtype: int64"
     },
     "execution_count": 35,
     "metadata": {},
     "output_type": "execute_result"
    }
   ],
   "source": [
    "df.isnull().sum()"
   ],
   "metadata": {
    "collapsed": false,
    "ExecuteTime": {
     "end_time": "2024-09-10T11:50:28.690152Z",
     "start_time": "2024-09-10T11:50:28.628187Z"
    }
   },
   "id": "a3cd6117bd4d8423",
   "execution_count": 35
  },
  {
   "cell_type": "code",
   "outputs": [],
   "source": [
    "from sklearn.preprocessing import LabelEncoder\n",
    "encoder = LabelEncoder()\n",
    "for col in df.columns:\n",
    "    if df[col].dtype == object:\n",
    "        df[col] = encoder.fit_transform(df[col])\n"
   ],
   "metadata": {
    "collapsed": false,
    "ExecuteTime": {
     "end_time": "2024-09-10T11:50:29.459611Z",
     "start_time": "2024-09-10T11:50:29.278111Z"
    }
   },
   "id": "eec536a1f86fcf74",
   "execution_count": 36
  },
  {
   "cell_type": "code",
   "outputs": [
    {
     "data": {
      "text/plain": "       Basvuru Yili  Degerlendirme Puani  Cinsiyet  Universite Turu  \\\n0            2014.0            52.000000         2                3   \n1            2014.0            30.000000         2                3   \n2            2014.0            18.000000         2                3   \n3            2014.0            40.000000         2                3   \n4            2014.0            24.000000         2                3   \n...             ...                  ...       ...              ...   \n65120        2022.0             0.000000         2                3   \n65121        2022.0             0.000000         2                1   \n65122        2022.0             0.000000         2                1   \n65123        2022.0             0.000000         2                1   \n65124        2022.0            32.086466         3                1   \n\n       Burslu ise Burs Yuzdesi  Burs Aliyor mu?  Bölüm  \\\n0                   100.000000                1    456   \n1                   100.000000                2   1247   \n2                   100.000000                2   1773   \n3                   100.000000                1    476   \n4                   100.000000                1   4090   \n...                        ...              ...    ...   \n65120                34.226181                1   3203   \n65121                34.226181                2   4614   \n65122                34.226181                2   3470   \n65123                34.226181                2   3883   \n65124                34.226181                2   7234   \n\n       Universite Kacinci Sinif  Universite Not Ortalamasi  \\\n0                             3                         13   \n1                             3                         11   \n2                             1                         11   \n3                             3                         11   \n4                             2                         11   \n...                         ...                        ...   \n65120                         2                          0   \n65121                         1                         16   \n65122                         4                          0   \n65123                         3                          0   \n65124                         4                          4   \n\n       Daha Once Baska Bir Universiteden Mezun Olmus  ...  \\\n0                                                  1  ...   \n1                                                  1  ...   \n2                                                  1  ...   \n3                                                  1  ...   \n4                                                  1  ...   \n...                                              ...  ...   \n65120                                              1  ...   \n65121                                              1  ...   \n65122                                              1  ...   \n65123                                              1  ...   \n65124                                              1  ...   \n\n       Girisimcilik Kulupleri Tarzi Bir Kulube Uye misiniz?  \\\n0                                                      0      \n1                                                      1      \n2                                                      0      \n3                                                      0      \n4                                                      1      \n...                                                  ...      \n65120                                                  1      \n65121                                                  1      \n65122                                                  1      \n65123                                                  1      \n65124                                                  1      \n\n       Profesyonel Bir Spor Daliyla Mesgul musunuz?  \\\n0                                                 0   \n1                                                 1   \n2                                                 1   \n3                                                 1   \n4                                                 1   \n...                                             ...   \n65120                                             1   \n65121                                             1   \n65122                                             1   \n65123                                             1   \n65124                                             0   \n\n       Spor Dalindaki Rolunuz Nedir?  Aktif olarak bir STK üyesi misiniz?  \\\n0                                  3                                    1   \n1                                  1                                    1   \n2                                  1                                    1   \n3                                  1                                    1   \n4                                  1                                    1   \n...                              ...                                  ...   \n65120                              0                                    1   \n65121                              0                                    1   \n65122                              0                                    1   \n65123                              0                                    1   \n65124                              8                                    0   \n\n       Stk Projesine Katildiniz Mi?  \\\n0                                 0   \n1                                 0   \n2                                 1   \n3                                 0   \n4                                 1   \n...                             ...   \n65120                             1   \n65121                             1   \n65122                             1   \n65123                             1   \n65124                             1   \n\n       Girisimcilikle Ilgili Deneyiminiz Var Mi?  Ingilizce Biliyor musunuz?  \\\n0                                              1                           0   \n1                                              0                           0   \n2                                              1                           0   \n3                                              1                           0   \n4                                              1                           0   \n...                                          ...                         ...   \n65120                                          1                           1   \n65121                                          1                           1   \n65122                                          1                           1   \n65123                                          1                           1   \n65124                                          0                           0   \n\n       Ingilizce Seviyeniz?  \\\n0                         2   \n1                         2   \n2                         2   \n3                         2   \n4                         2   \n...                     ...   \n65120                     2   \n65121                     2   \n65122                     2   \n65123                     2   \n65124                     2   \n\n       Daha Önceden Mezun Olunduysa, Mezun Olunan Üniversite       id  \n0                                                     17          0.0  \n1                                                     17          1.0  \n2                                                     17          2.0  \n3                                                     17          3.0  \n4                                                     17          4.0  \n...                                                  ...          ...  \n65120                                                 17      65120.0  \n65121                                                 17      65121.0  \n65122                                                 17      65122.0  \n65123                                                 17      65123.0  \n65124                                                 17      65124.0  \n\n[65125 rows x 32 columns]",
      "text/html": "<div>\n<style scoped>\n    .dataframe tbody tr th:only-of-type {\n        vertical-align: middle;\n    }\n\n    .dataframe tbody tr th {\n        vertical-align: top;\n    }\n\n    .dataframe thead th {\n        text-align: right;\n    }\n</style>\n<table border=\"1\" class=\"dataframe\">\n  <thead>\n    <tr style=\"text-align: right;\">\n      <th></th>\n      <th>Basvuru Yili</th>\n      <th>Degerlendirme Puani</th>\n      <th>Cinsiyet</th>\n      <th>Universite Turu</th>\n      <th>Burslu ise Burs Yuzdesi</th>\n      <th>Burs Aliyor mu?</th>\n      <th>Bölüm</th>\n      <th>Universite Kacinci Sinif</th>\n      <th>Universite Not Ortalamasi</th>\n      <th>Daha Once Baska Bir Universiteden Mezun Olmus</th>\n      <th>...</th>\n      <th>Girisimcilik Kulupleri Tarzi Bir Kulube Uye misiniz?</th>\n      <th>Profesyonel Bir Spor Daliyla Mesgul musunuz?</th>\n      <th>Spor Dalindaki Rolunuz Nedir?</th>\n      <th>Aktif olarak bir STK üyesi misiniz?</th>\n      <th>Stk Projesine Katildiniz Mi?</th>\n      <th>Girisimcilikle Ilgili Deneyiminiz Var Mi?</th>\n      <th>Ingilizce Biliyor musunuz?</th>\n      <th>Ingilizce Seviyeniz?</th>\n      <th>Daha Önceden Mezun Olunduysa, Mezun Olunan Üniversite</th>\n      <th>id</th>\n    </tr>\n  </thead>\n  <tbody>\n    <tr>\n      <th>0</th>\n      <td>2014.0</td>\n      <td>52.000000</td>\n      <td>2</td>\n      <td>3</td>\n      <td>100.000000</td>\n      <td>1</td>\n      <td>456</td>\n      <td>3</td>\n      <td>13</td>\n      <td>1</td>\n      <td>...</td>\n      <td>0</td>\n      <td>0</td>\n      <td>3</td>\n      <td>1</td>\n      <td>0</td>\n      <td>1</td>\n      <td>0</td>\n      <td>2</td>\n      <td>17</td>\n      <td>0.0</td>\n    </tr>\n    <tr>\n      <th>1</th>\n      <td>2014.0</td>\n      <td>30.000000</td>\n      <td>2</td>\n      <td>3</td>\n      <td>100.000000</td>\n      <td>2</td>\n      <td>1247</td>\n      <td>3</td>\n      <td>11</td>\n      <td>1</td>\n      <td>...</td>\n      <td>1</td>\n      <td>1</td>\n      <td>1</td>\n      <td>1</td>\n      <td>0</td>\n      <td>0</td>\n      <td>0</td>\n      <td>2</td>\n      <td>17</td>\n      <td>1.0</td>\n    </tr>\n    <tr>\n      <th>2</th>\n      <td>2014.0</td>\n      <td>18.000000</td>\n      <td>2</td>\n      <td>3</td>\n      <td>100.000000</td>\n      <td>2</td>\n      <td>1773</td>\n      <td>1</td>\n      <td>11</td>\n      <td>1</td>\n      <td>...</td>\n      <td>0</td>\n      <td>1</td>\n      <td>1</td>\n      <td>1</td>\n      <td>1</td>\n      <td>1</td>\n      <td>0</td>\n      <td>2</td>\n      <td>17</td>\n      <td>2.0</td>\n    </tr>\n    <tr>\n      <th>3</th>\n      <td>2014.0</td>\n      <td>40.000000</td>\n      <td>2</td>\n      <td>3</td>\n      <td>100.000000</td>\n      <td>1</td>\n      <td>476</td>\n      <td>3</td>\n      <td>11</td>\n      <td>1</td>\n      <td>...</td>\n      <td>0</td>\n      <td>1</td>\n      <td>1</td>\n      <td>1</td>\n      <td>0</td>\n      <td>1</td>\n      <td>0</td>\n      <td>2</td>\n      <td>17</td>\n      <td>3.0</td>\n    </tr>\n    <tr>\n      <th>4</th>\n      <td>2014.0</td>\n      <td>24.000000</td>\n      <td>2</td>\n      <td>3</td>\n      <td>100.000000</td>\n      <td>1</td>\n      <td>4090</td>\n      <td>2</td>\n      <td>11</td>\n      <td>1</td>\n      <td>...</td>\n      <td>1</td>\n      <td>1</td>\n      <td>1</td>\n      <td>1</td>\n      <td>1</td>\n      <td>1</td>\n      <td>0</td>\n      <td>2</td>\n      <td>17</td>\n      <td>4.0</td>\n    </tr>\n    <tr>\n      <th>...</th>\n      <td>...</td>\n      <td>...</td>\n      <td>...</td>\n      <td>...</td>\n      <td>...</td>\n      <td>...</td>\n      <td>...</td>\n      <td>...</td>\n      <td>...</td>\n      <td>...</td>\n      <td>...</td>\n      <td>...</td>\n      <td>...</td>\n      <td>...</td>\n      <td>...</td>\n      <td>...</td>\n      <td>...</td>\n      <td>...</td>\n      <td>...</td>\n      <td>...</td>\n      <td>...</td>\n    </tr>\n    <tr>\n      <th>65120</th>\n      <td>2022.0</td>\n      <td>0.000000</td>\n      <td>2</td>\n      <td>3</td>\n      <td>34.226181</td>\n      <td>1</td>\n      <td>3203</td>\n      <td>2</td>\n      <td>0</td>\n      <td>1</td>\n      <td>...</td>\n      <td>1</td>\n      <td>1</td>\n      <td>0</td>\n      <td>1</td>\n      <td>1</td>\n      <td>1</td>\n      <td>1</td>\n      <td>2</td>\n      <td>17</td>\n      <td>65120.0</td>\n    </tr>\n    <tr>\n      <th>65121</th>\n      <td>2022.0</td>\n      <td>0.000000</td>\n      <td>2</td>\n      <td>1</td>\n      <td>34.226181</td>\n      <td>2</td>\n      <td>4614</td>\n      <td>1</td>\n      <td>16</td>\n      <td>1</td>\n      <td>...</td>\n      <td>1</td>\n      <td>1</td>\n      <td>0</td>\n      <td>1</td>\n      <td>1</td>\n      <td>1</td>\n      <td>1</td>\n      <td>2</td>\n      <td>17</td>\n      <td>65121.0</td>\n    </tr>\n    <tr>\n      <th>65122</th>\n      <td>2022.0</td>\n      <td>0.000000</td>\n      <td>2</td>\n      <td>1</td>\n      <td>34.226181</td>\n      <td>2</td>\n      <td>3470</td>\n      <td>4</td>\n      <td>0</td>\n      <td>1</td>\n      <td>...</td>\n      <td>1</td>\n      <td>1</td>\n      <td>0</td>\n      <td>1</td>\n      <td>1</td>\n      <td>1</td>\n      <td>1</td>\n      <td>2</td>\n      <td>17</td>\n      <td>65122.0</td>\n    </tr>\n    <tr>\n      <th>65123</th>\n      <td>2022.0</td>\n      <td>0.000000</td>\n      <td>2</td>\n      <td>1</td>\n      <td>34.226181</td>\n      <td>2</td>\n      <td>3883</td>\n      <td>3</td>\n      <td>0</td>\n      <td>1</td>\n      <td>...</td>\n      <td>1</td>\n      <td>1</td>\n      <td>0</td>\n      <td>1</td>\n      <td>1</td>\n      <td>1</td>\n      <td>1</td>\n      <td>2</td>\n      <td>17</td>\n      <td>65123.0</td>\n    </tr>\n    <tr>\n      <th>65124</th>\n      <td>2022.0</td>\n      <td>32.086466</td>\n      <td>3</td>\n      <td>1</td>\n      <td>34.226181</td>\n      <td>2</td>\n      <td>7234</td>\n      <td>4</td>\n      <td>4</td>\n      <td>1</td>\n      <td>...</td>\n      <td>1</td>\n      <td>0</td>\n      <td>8</td>\n      <td>0</td>\n      <td>1</td>\n      <td>0</td>\n      <td>0</td>\n      <td>2</td>\n      <td>17</td>\n      <td>65124.0</td>\n    </tr>\n  </tbody>\n</table>\n<p>65125 rows × 32 columns</p>\n</div>"
     },
     "execution_count": 37,
     "metadata": {},
     "output_type": "execute_result"
    }
   ],
   "source": [
    "df"
   ],
   "metadata": {
    "collapsed": false,
    "ExecuteTime": {
     "end_time": "2024-09-10T11:50:29.907098Z",
     "start_time": "2024-09-10T11:50:29.865764Z"
    }
   },
   "id": "3ced79f7997c9565",
   "execution_count": 37
  },
  {
   "cell_type": "code",
   "outputs": [],
   "source": [
    "X = df.drop(columns=[\"Degerlendirme Puani\"])\n",
    "y = df[\"Degerlendirme Puani\"]"
   ],
   "metadata": {
    "collapsed": false,
    "ExecuteTime": {
     "end_time": "2024-09-10T11:50:30.476682Z",
     "start_time": "2024-09-10T11:50:30.466203Z"
    }
   },
   "id": "48a890f55801a3b4",
   "execution_count": 38
  },
  {
   "cell_type": "code",
   "outputs": [
    {
     "data": {
      "text/plain": "RandomForestRegressor()",
      "text/html": "<style>#sk-container-id-2 {\n  /* Definition of color scheme common for light and dark mode */\n  --sklearn-color-text: black;\n  --sklearn-color-line: gray;\n  /* Definition of color scheme for unfitted estimators */\n  --sklearn-color-unfitted-level-0: #fff5e6;\n  --sklearn-color-unfitted-level-1: #f6e4d2;\n  --sklearn-color-unfitted-level-2: #ffe0b3;\n  --sklearn-color-unfitted-level-3: chocolate;\n  /* Definition of color scheme for fitted estimators */\n  --sklearn-color-fitted-level-0: #f0f8ff;\n  --sklearn-color-fitted-level-1: #d4ebff;\n  --sklearn-color-fitted-level-2: #b3dbfd;\n  --sklearn-color-fitted-level-3: cornflowerblue;\n\n  /* Specific color for light theme */\n  --sklearn-color-text-on-default-background: var(--sg-text-color, var(--theme-code-foreground, var(--jp-content-font-color1, black)));\n  --sklearn-color-background: var(--sg-background-color, var(--theme-background, var(--jp-layout-color0, white)));\n  --sklearn-color-border-box: var(--sg-text-color, var(--theme-code-foreground, var(--jp-content-font-color1, black)));\n  --sklearn-color-icon: #696969;\n\n  @media (prefers-color-scheme: dark) {\n    /* Redefinition of color scheme for dark theme */\n    --sklearn-color-text-on-default-background: var(--sg-text-color, var(--theme-code-foreground, var(--jp-content-font-color1, white)));\n    --sklearn-color-background: var(--sg-background-color, var(--theme-background, var(--jp-layout-color0, #111)));\n    --sklearn-color-border-box: var(--sg-text-color, var(--theme-code-foreground, var(--jp-content-font-color1, white)));\n    --sklearn-color-icon: #878787;\n  }\n}\n\n#sk-container-id-2 {\n  color: var(--sklearn-color-text);\n}\n\n#sk-container-id-2 pre {\n  padding: 0;\n}\n\n#sk-container-id-2 input.sk-hidden--visually {\n  border: 0;\n  clip: rect(1px 1px 1px 1px);\n  clip: rect(1px, 1px, 1px, 1px);\n  height: 1px;\n  margin: -1px;\n  overflow: hidden;\n  padding: 0;\n  position: absolute;\n  width: 1px;\n}\n\n#sk-container-id-2 div.sk-dashed-wrapped {\n  border: 1px dashed var(--sklearn-color-line);\n  margin: 0 0.4em 0.5em 0.4em;\n  box-sizing: border-box;\n  padding-bottom: 0.4em;\n  background-color: var(--sklearn-color-background);\n}\n\n#sk-container-id-2 div.sk-container {\n  /* jupyter's `normalize.less` sets `[hidden] { display: none; }`\n     but bootstrap.min.css set `[hidden] { display: none !important; }`\n     so we also need the `!important` here to be able to override the\n     default hidden behavior on the sphinx rendered scikit-learn.org.\n     See: https://github.com/scikit-learn/scikit-learn/issues/21755 */\n  display: inline-block !important;\n  position: relative;\n}\n\n#sk-container-id-2 div.sk-text-repr-fallback {\n  display: none;\n}\n\ndiv.sk-parallel-item,\ndiv.sk-serial,\ndiv.sk-item {\n  /* draw centered vertical line to link estimators */\n  background-image: linear-gradient(var(--sklearn-color-text-on-default-background), var(--sklearn-color-text-on-default-background));\n  background-size: 2px 100%;\n  background-repeat: no-repeat;\n  background-position: center center;\n}\n\n/* Parallel-specific style estimator block */\n\n#sk-container-id-2 div.sk-parallel-item::after {\n  content: \"\";\n  width: 100%;\n  border-bottom: 2px solid var(--sklearn-color-text-on-default-background);\n  flex-grow: 1;\n}\n\n#sk-container-id-2 div.sk-parallel {\n  display: flex;\n  align-items: stretch;\n  justify-content: center;\n  background-color: var(--sklearn-color-background);\n  position: relative;\n}\n\n#sk-container-id-2 div.sk-parallel-item {\n  display: flex;\n  flex-direction: column;\n}\n\n#sk-container-id-2 div.sk-parallel-item:first-child::after {\n  align-self: flex-end;\n  width: 50%;\n}\n\n#sk-container-id-2 div.sk-parallel-item:last-child::after {\n  align-self: flex-start;\n  width: 50%;\n}\n\n#sk-container-id-2 div.sk-parallel-item:only-child::after {\n  width: 0;\n}\n\n/* Serial-specific style estimator block */\n\n#sk-container-id-2 div.sk-serial {\n  display: flex;\n  flex-direction: column;\n  align-items: center;\n  background-color: var(--sklearn-color-background);\n  padding-right: 1em;\n  padding-left: 1em;\n}\n\n\n/* Toggleable style: style used for estimator/Pipeline/ColumnTransformer box that is\nclickable and can be expanded/collapsed.\n- Pipeline and ColumnTransformer use this feature and define the default style\n- Estimators will overwrite some part of the style using the `sk-estimator` class\n*/\n\n/* Pipeline and ColumnTransformer style (default) */\n\n#sk-container-id-2 div.sk-toggleable {\n  /* Default theme specific background. It is overwritten whether we have a\n  specific estimator or a Pipeline/ColumnTransformer */\n  background-color: var(--sklearn-color-background);\n}\n\n/* Toggleable label */\n#sk-container-id-2 label.sk-toggleable__label {\n  cursor: pointer;\n  display: block;\n  width: 100%;\n  margin-bottom: 0;\n  padding: 0.5em;\n  box-sizing: border-box;\n  text-align: center;\n}\n\n#sk-container-id-2 label.sk-toggleable__label-arrow:before {\n  /* Arrow on the left of the label */\n  content: \"▸\";\n  float: left;\n  margin-right: 0.25em;\n  color: var(--sklearn-color-icon);\n}\n\n#sk-container-id-2 label.sk-toggleable__label-arrow:hover:before {\n  color: var(--sklearn-color-text);\n}\n\n/* Toggleable content - dropdown */\n\n#sk-container-id-2 div.sk-toggleable__content {\n  max-height: 0;\n  max-width: 0;\n  overflow: hidden;\n  text-align: left;\n  /* unfitted */\n  background-color: var(--sklearn-color-unfitted-level-0);\n}\n\n#sk-container-id-2 div.sk-toggleable__content.fitted {\n  /* fitted */\n  background-color: var(--sklearn-color-fitted-level-0);\n}\n\n#sk-container-id-2 div.sk-toggleable__content pre {\n  margin: 0.2em;\n  border-radius: 0.25em;\n  color: var(--sklearn-color-text);\n  /* unfitted */\n  background-color: var(--sklearn-color-unfitted-level-0);\n}\n\n#sk-container-id-2 div.sk-toggleable__content.fitted pre {\n  /* unfitted */\n  background-color: var(--sklearn-color-fitted-level-0);\n}\n\n#sk-container-id-2 input.sk-toggleable__control:checked~div.sk-toggleable__content {\n  /* Expand drop-down */\n  max-height: 200px;\n  max-width: 100%;\n  overflow: auto;\n}\n\n#sk-container-id-2 input.sk-toggleable__control:checked~label.sk-toggleable__label-arrow:before {\n  content: \"▾\";\n}\n\n/* Pipeline/ColumnTransformer-specific style */\n\n#sk-container-id-2 div.sk-label input.sk-toggleable__control:checked~label.sk-toggleable__label {\n  color: var(--sklearn-color-text);\n  background-color: var(--sklearn-color-unfitted-level-2);\n}\n\n#sk-container-id-2 div.sk-label.fitted input.sk-toggleable__control:checked~label.sk-toggleable__label {\n  background-color: var(--sklearn-color-fitted-level-2);\n}\n\n/* Estimator-specific style */\n\n/* Colorize estimator box */\n#sk-container-id-2 div.sk-estimator input.sk-toggleable__control:checked~label.sk-toggleable__label {\n  /* unfitted */\n  background-color: var(--sklearn-color-unfitted-level-2);\n}\n\n#sk-container-id-2 div.sk-estimator.fitted input.sk-toggleable__control:checked~label.sk-toggleable__label {\n  /* fitted */\n  background-color: var(--sklearn-color-fitted-level-2);\n}\n\n#sk-container-id-2 div.sk-label label.sk-toggleable__label,\n#sk-container-id-2 div.sk-label label {\n  /* The background is the default theme color */\n  color: var(--sklearn-color-text-on-default-background);\n}\n\n/* On hover, darken the color of the background */\n#sk-container-id-2 div.sk-label:hover label.sk-toggleable__label {\n  color: var(--sklearn-color-text);\n  background-color: var(--sklearn-color-unfitted-level-2);\n}\n\n/* Label box, darken color on hover, fitted */\n#sk-container-id-2 div.sk-label.fitted:hover label.sk-toggleable__label.fitted {\n  color: var(--sklearn-color-text);\n  background-color: var(--sklearn-color-fitted-level-2);\n}\n\n/* Estimator label */\n\n#sk-container-id-2 div.sk-label label {\n  font-family: monospace;\n  font-weight: bold;\n  display: inline-block;\n  line-height: 1.2em;\n}\n\n#sk-container-id-2 div.sk-label-container {\n  text-align: center;\n}\n\n/* Estimator-specific */\n#sk-container-id-2 div.sk-estimator {\n  font-family: monospace;\n  border: 1px dotted var(--sklearn-color-border-box);\n  border-radius: 0.25em;\n  box-sizing: border-box;\n  margin-bottom: 0.5em;\n  /* unfitted */\n  background-color: var(--sklearn-color-unfitted-level-0);\n}\n\n#sk-container-id-2 div.sk-estimator.fitted {\n  /* fitted */\n  background-color: var(--sklearn-color-fitted-level-0);\n}\n\n/* on hover */\n#sk-container-id-2 div.sk-estimator:hover {\n  /* unfitted */\n  background-color: var(--sklearn-color-unfitted-level-2);\n}\n\n#sk-container-id-2 div.sk-estimator.fitted:hover {\n  /* fitted */\n  background-color: var(--sklearn-color-fitted-level-2);\n}\n\n/* Specification for estimator info (e.g. \"i\" and \"?\") */\n\n/* Common style for \"i\" and \"?\" */\n\n.sk-estimator-doc-link,\na:link.sk-estimator-doc-link,\na:visited.sk-estimator-doc-link {\n  float: right;\n  font-size: smaller;\n  line-height: 1em;\n  font-family: monospace;\n  background-color: var(--sklearn-color-background);\n  border-radius: 1em;\n  height: 1em;\n  width: 1em;\n  text-decoration: none !important;\n  margin-left: 1ex;\n  /* unfitted */\n  border: var(--sklearn-color-unfitted-level-1) 1pt solid;\n  color: var(--sklearn-color-unfitted-level-1);\n}\n\n.sk-estimator-doc-link.fitted,\na:link.sk-estimator-doc-link.fitted,\na:visited.sk-estimator-doc-link.fitted {\n  /* fitted */\n  border: var(--sklearn-color-fitted-level-1) 1pt solid;\n  color: var(--sklearn-color-fitted-level-1);\n}\n\n/* On hover */\ndiv.sk-estimator:hover .sk-estimator-doc-link:hover,\n.sk-estimator-doc-link:hover,\ndiv.sk-label-container:hover .sk-estimator-doc-link:hover,\n.sk-estimator-doc-link:hover {\n  /* unfitted */\n  background-color: var(--sklearn-color-unfitted-level-3);\n  color: var(--sklearn-color-background);\n  text-decoration: none;\n}\n\ndiv.sk-estimator.fitted:hover .sk-estimator-doc-link.fitted:hover,\n.sk-estimator-doc-link.fitted:hover,\ndiv.sk-label-container:hover .sk-estimator-doc-link.fitted:hover,\n.sk-estimator-doc-link.fitted:hover {\n  /* fitted */\n  background-color: var(--sklearn-color-fitted-level-3);\n  color: var(--sklearn-color-background);\n  text-decoration: none;\n}\n\n/* Span, style for the box shown on hovering the info icon */\n.sk-estimator-doc-link span {\n  display: none;\n  z-index: 9999;\n  position: relative;\n  font-weight: normal;\n  right: .2ex;\n  padding: .5ex;\n  margin: .5ex;\n  width: min-content;\n  min-width: 20ex;\n  max-width: 50ex;\n  color: var(--sklearn-color-text);\n  box-shadow: 2pt 2pt 4pt #999;\n  /* unfitted */\n  background: var(--sklearn-color-unfitted-level-0);\n  border: .5pt solid var(--sklearn-color-unfitted-level-3);\n}\n\n.sk-estimator-doc-link.fitted span {\n  /* fitted */\n  background: var(--sklearn-color-fitted-level-0);\n  border: var(--sklearn-color-fitted-level-3);\n}\n\n.sk-estimator-doc-link:hover span {\n  display: block;\n}\n\n/* \"?\"-specific style due to the `<a>` HTML tag */\n\n#sk-container-id-2 a.estimator_doc_link {\n  float: right;\n  font-size: 1rem;\n  line-height: 1em;\n  font-family: monospace;\n  background-color: var(--sklearn-color-background);\n  border-radius: 1rem;\n  height: 1rem;\n  width: 1rem;\n  text-decoration: none;\n  /* unfitted */\n  color: var(--sklearn-color-unfitted-level-1);\n  border: var(--sklearn-color-unfitted-level-1) 1pt solid;\n}\n\n#sk-container-id-2 a.estimator_doc_link.fitted {\n  /* fitted */\n  border: var(--sklearn-color-fitted-level-1) 1pt solid;\n  color: var(--sklearn-color-fitted-level-1);\n}\n\n/* On hover */\n#sk-container-id-2 a.estimator_doc_link:hover {\n  /* unfitted */\n  background-color: var(--sklearn-color-unfitted-level-3);\n  color: var(--sklearn-color-background);\n  text-decoration: none;\n}\n\n#sk-container-id-2 a.estimator_doc_link.fitted:hover {\n  /* fitted */\n  background-color: var(--sklearn-color-fitted-level-3);\n}\n</style><div id=\"sk-container-id-2\" class=\"sk-top-container\"><div class=\"sk-text-repr-fallback\"><pre>RandomForestRegressor()</pre><b>In a Jupyter environment, please rerun this cell to show the HTML representation or trust the notebook. <br />On GitHub, the HTML representation is unable to render, please try loading this page with nbviewer.org.</b></div><div class=\"sk-container\" hidden><div class=\"sk-item\"><div class=\"sk-estimator fitted sk-toggleable\"><input class=\"sk-toggleable__control sk-hidden--visually\" id=\"sk-estimator-id-2\" type=\"checkbox\" checked><label for=\"sk-estimator-id-2\" class=\"sk-toggleable__label fitted sk-toggleable__label-arrow fitted\">&nbsp;&nbsp;RandomForestRegressor<a class=\"sk-estimator-doc-link fitted\" rel=\"noreferrer\" target=\"_blank\" href=\"https://scikit-learn.org/1.5/modules/generated/sklearn.ensemble.RandomForestRegressor.html\">?<span>Documentation for RandomForestRegressor</span></a><span class=\"sk-estimator-doc-link fitted\">i<span>Fitted</span></span></label><div class=\"sk-toggleable__content fitted\"><pre>RandomForestRegressor()</pre></div> </div></div></div></div>"
     },
     "execution_count": 39,
     "metadata": {},
     "output_type": "execute_result"
    }
   ],
   "source": [
    "from sklearn.ensemble import RandomForestRegressor\n",
    "rfr = RandomForestRegressor()\n",
    "rfr.fit(X,y)"
   ],
   "metadata": {
    "collapsed": false,
    "ExecuteTime": {
     "end_time": "2024-09-10T11:51:05.540376Z",
     "start_time": "2024-09-10T11:50:30.979026Z"
    }
   },
   "id": "c065b3e98c7db729",
   "execution_count": 39
  },
  {
   "cell_type": "code",
   "outputs": [
    {
     "data": {
      "text/plain": "       Basvuru Yili Cinsiyet      Dogum Tarihi Dogum Yeri Ikametgah Sehri  \\\n0              2023    Kadın  21.06.2002 00:00     Amasya          Amasya   \n1              2023    Kadın  11.05.2004 00:00      Konya           Konya   \n2              2023    Erkek  24.04.2002 00:00   İstanbul        İstanbul   \n3              2023    Erkek  11.03.2003 00:00     Mardin          Mardin   \n4              2023    Erkek  26.01.2002 00:00     Samsun        İstanbul   \n...             ...      ...               ...        ...             ...   \n11044          2023    Kadın   3.01.2002 00:00     Yozgat          Ankara   \n11045          2023    Kadın   9.09.2001 00:00      Konya           Konya   \n11046          2023    Erkek   8.06.2004 00:00     Ankara          Ankara   \n11047          2023    Kadın  16.10.2001 00:00   Adıyaman        İstanbul   \n11048          2023    Kadın  22.09.1999 00:00      Niğde          Ankara   \n\n                           Universite Adi Universite Turu  \\\n0                     Munzur Üniversitesi          Devlet   \n1                  Hacettepe Üniversitesi          Devlet   \n2                  Kapadokya Üniversitesi            Özel   \n3             Mardin Artuklu Üniversitesi          Devlet   \n4                   Boğaziçi Üniversitesi          Devlet   \n...                                   ...             ...   \n11044                   Gazi Üniversitesi          Devlet   \n11045  Niğde Ömer Halisdemir Üniversitesi          Devlet   \n11046                Karabük Üniversitesi          Devlet   \n11047           Bursa Uludağ Üniversitesi          Devlet   \n11048              Hacettepe Üniversitesi          Devlet   \n\n       Burslu ise Burs Yuzdesi Burs Aliyor mu?  \\\n0                          NaN           Hayır   \n1                          NaN           Hayır   \n2                          NaN            Evet   \n3                          NaN           Hayır   \n4                          NaN           Hayır   \n...                        ...             ...   \n11044                      NaN           Hayır   \n11045                      NaN           Hayır   \n11046                      NaN           Hayır   \n11047                      NaN           Hayır   \n11048                      NaN           Hayır   \n\n                                                Bölüm  ...  \\\n0                                       Sosyal Hizmet  ...   \n1                              Uluslararası İlişkiler  ...   \n2                                               Diğer  ...   \n3                                      İslami İlimler  ...   \n4                                             İşletme  ...   \n...                                               ...  ...   \n11044                           Endüstri Mühendisliği  ...   \n11045                               Gıda Mühendisliği  ...   \n11046                Elektrik-Elektronik Mühendisliği  ...   \n11047  Moleküler Biyoloji, Genetik ve Biyomühendislik  ...   \n11048                           Endüstri Mühendisliği  ...   \n\n      Spor Dalindaki Rolunuz Nedir? Aktif olarak bir STK üyesi misiniz?  \\\n0                    Takım Oyuncusu                                Evet   \n1                     Bireysel Spor                               Hayır   \n2                     Bireysel Spor                               Hayır   \n3                                 -                                Evet   \n4                                 -                                Evet   \n...                             ...                                 ...   \n11044                             -                                Evet   \n11045                             -                                Evet   \n11046                Takım Oyuncusu                                Evet   \n11047                 Bireysel Spor                                Evet   \n11048                             -                                Evet   \n\n                               Hangi STK'nin Uyesisiniz?  \\\n0                             Kızılay da gönüllü dağıtım   \n1                                                      -   \n2                                                      -   \n3                     Lise gezilerde liderlik yapıyordum   \n4      Toplum Gönüllüleri Vakfı'nda \"Yol Arkadaşım\" P...   \n...                                                  ...   \n11044  TOG Vakfı'nda yaklaşık bir yıldır hem aktif gö...   \n11045  Konyada düzenlenen 5. İslami dayanışma oyunlar...   \n11046  Hayvanlara yardım adı altında hayvanlara yardı...   \n11047                     Ağaç dikme, huzur evi ziyareti   \n11048  YetGen, YGA vb. programlarda yer aldım. Hacett...   \n\n      Stk Projesine Katildiniz Mi?  Girisimcilikle Ilgili Deneyiminiz Var Mi?  \\\n0                              NaN                                      Hayır   \n1                              NaN                                      Hayır   \n2                              NaN                                      Hayır   \n3                              NaN                                      Hayır   \n4                              NaN                                       Evet   \n...                            ...                                        ...   \n11044                          NaN                                      Hayır   \n11045                          NaN                                      Hayır   \n11046                          NaN                                      Hayır   \n11047                          NaN                                       Evet   \n11048                          NaN                                      Hayır   \n\n      Girisimcilikle Ilgili Deneyiminizi Aciklayabilir misiniz?  \\\n0                                                      -          \n1                                                      -          \n2                                                      -          \n3                                                      -          \n4      12 aydır, yolculuğuna bir yıl önce başlamış ol...          \n...                                                  ...          \n11044                                                  -          \n11045                                                  -          \n11046                                                  -          \n11047  Eğitim olarak deneyimim var. Aynı zamanda “Asp...          \n11048                                                  -          \n\n      Ingilizce Biliyor musunuz? Ingilizce Seviyeniz?  \\\n0                           Evet                  NaN   \n1                           Evet                  NaN   \n2                           Evet                  NaN   \n3                          Hayır                  NaN   \n4                           Evet                  NaN   \n...                          ...                  ...   \n11044                       Evet                  NaN   \n11045                      Hayır                  NaN   \n11046                       Evet                  NaN   \n11047                       Evet                  NaN   \n11048                       Evet                  NaN   \n\n       Daha Önceden Mezun Olunduysa, Mezun Olunan Üniversite     id  \n0                                                    NaN          0  \n1                                                    NaN          1  \n2                                                    NaN          2  \n3                                                    NaN          3  \n4                                                    NaN          4  \n...                                                  ...        ...  \n11044                                                NaN      11044  \n11045                                                NaN      11045  \n11046                                                NaN      11046  \n11047                                                NaN      11047  \n11048                                                NaN      11048  \n\n[11049 rows x 43 columns]",
      "text/html": "<div>\n<style scoped>\n    .dataframe tbody tr th:only-of-type {\n        vertical-align: middle;\n    }\n\n    .dataframe tbody tr th {\n        vertical-align: top;\n    }\n\n    .dataframe thead th {\n        text-align: right;\n    }\n</style>\n<table border=\"1\" class=\"dataframe\">\n  <thead>\n    <tr style=\"text-align: right;\">\n      <th></th>\n      <th>Basvuru Yili</th>\n      <th>Cinsiyet</th>\n      <th>Dogum Tarihi</th>\n      <th>Dogum Yeri</th>\n      <th>Ikametgah Sehri</th>\n      <th>Universite Adi</th>\n      <th>Universite Turu</th>\n      <th>Burslu ise Burs Yuzdesi</th>\n      <th>Burs Aliyor mu?</th>\n      <th>Bölüm</th>\n      <th>...</th>\n      <th>Spor Dalindaki Rolunuz Nedir?</th>\n      <th>Aktif olarak bir STK üyesi misiniz?</th>\n      <th>Hangi STK'nin Uyesisiniz?</th>\n      <th>Stk Projesine Katildiniz Mi?</th>\n      <th>Girisimcilikle Ilgili Deneyiminiz Var Mi?</th>\n      <th>Girisimcilikle Ilgili Deneyiminizi Aciklayabilir misiniz?</th>\n      <th>Ingilizce Biliyor musunuz?</th>\n      <th>Ingilizce Seviyeniz?</th>\n      <th>Daha Önceden Mezun Olunduysa, Mezun Olunan Üniversite</th>\n      <th>id</th>\n    </tr>\n  </thead>\n  <tbody>\n    <tr>\n      <th>0</th>\n      <td>2023</td>\n      <td>Kadın</td>\n      <td>21.06.2002 00:00</td>\n      <td>Amasya</td>\n      <td>Amasya</td>\n      <td>Munzur Üniversitesi</td>\n      <td>Devlet</td>\n      <td>NaN</td>\n      <td>Hayır</td>\n      <td>Sosyal Hizmet</td>\n      <td>...</td>\n      <td>Takım Oyuncusu</td>\n      <td>Evet</td>\n      <td>Kızılay da gönüllü dağıtım</td>\n      <td>NaN</td>\n      <td>Hayır</td>\n      <td>-</td>\n      <td>Evet</td>\n      <td>NaN</td>\n      <td>NaN</td>\n      <td>0</td>\n    </tr>\n    <tr>\n      <th>1</th>\n      <td>2023</td>\n      <td>Kadın</td>\n      <td>11.05.2004 00:00</td>\n      <td>Konya</td>\n      <td>Konya</td>\n      <td>Hacettepe Üniversitesi</td>\n      <td>Devlet</td>\n      <td>NaN</td>\n      <td>Hayır</td>\n      <td>Uluslararası İlişkiler</td>\n      <td>...</td>\n      <td>Bireysel Spor</td>\n      <td>Hayır</td>\n      <td>-</td>\n      <td>NaN</td>\n      <td>Hayır</td>\n      <td>-</td>\n      <td>Evet</td>\n      <td>NaN</td>\n      <td>NaN</td>\n      <td>1</td>\n    </tr>\n    <tr>\n      <th>2</th>\n      <td>2023</td>\n      <td>Erkek</td>\n      <td>24.04.2002 00:00</td>\n      <td>İstanbul</td>\n      <td>İstanbul</td>\n      <td>Kapadokya Üniversitesi</td>\n      <td>Özel</td>\n      <td>NaN</td>\n      <td>Evet</td>\n      <td>Diğer</td>\n      <td>...</td>\n      <td>Bireysel Spor</td>\n      <td>Hayır</td>\n      <td>-</td>\n      <td>NaN</td>\n      <td>Hayır</td>\n      <td>-</td>\n      <td>Evet</td>\n      <td>NaN</td>\n      <td>NaN</td>\n      <td>2</td>\n    </tr>\n    <tr>\n      <th>3</th>\n      <td>2023</td>\n      <td>Erkek</td>\n      <td>11.03.2003 00:00</td>\n      <td>Mardin</td>\n      <td>Mardin</td>\n      <td>Mardin Artuklu Üniversitesi</td>\n      <td>Devlet</td>\n      <td>NaN</td>\n      <td>Hayır</td>\n      <td>İslami İlimler</td>\n      <td>...</td>\n      <td>-</td>\n      <td>Evet</td>\n      <td>Lise gezilerde liderlik yapıyordum</td>\n      <td>NaN</td>\n      <td>Hayır</td>\n      <td>-</td>\n      <td>Hayır</td>\n      <td>NaN</td>\n      <td>NaN</td>\n      <td>3</td>\n    </tr>\n    <tr>\n      <th>4</th>\n      <td>2023</td>\n      <td>Erkek</td>\n      <td>26.01.2002 00:00</td>\n      <td>Samsun</td>\n      <td>İstanbul</td>\n      <td>Boğaziçi Üniversitesi</td>\n      <td>Devlet</td>\n      <td>NaN</td>\n      <td>Hayır</td>\n      <td>İşletme</td>\n      <td>...</td>\n      <td>-</td>\n      <td>Evet</td>\n      <td>Toplum Gönüllüleri Vakfı'nda \"Yol Arkadaşım\" P...</td>\n      <td>NaN</td>\n      <td>Evet</td>\n      <td>12 aydır, yolculuğuna bir yıl önce başlamış ol...</td>\n      <td>Evet</td>\n      <td>NaN</td>\n      <td>NaN</td>\n      <td>4</td>\n    </tr>\n    <tr>\n      <th>...</th>\n      <td>...</td>\n      <td>...</td>\n      <td>...</td>\n      <td>...</td>\n      <td>...</td>\n      <td>...</td>\n      <td>...</td>\n      <td>...</td>\n      <td>...</td>\n      <td>...</td>\n      <td>...</td>\n      <td>...</td>\n      <td>...</td>\n      <td>...</td>\n      <td>...</td>\n      <td>...</td>\n      <td>...</td>\n      <td>...</td>\n      <td>...</td>\n      <td>...</td>\n      <td>...</td>\n    </tr>\n    <tr>\n      <th>11044</th>\n      <td>2023</td>\n      <td>Kadın</td>\n      <td>3.01.2002 00:00</td>\n      <td>Yozgat</td>\n      <td>Ankara</td>\n      <td>Gazi Üniversitesi</td>\n      <td>Devlet</td>\n      <td>NaN</td>\n      <td>Hayır</td>\n      <td>Endüstri Mühendisliği</td>\n      <td>...</td>\n      <td>-</td>\n      <td>Evet</td>\n      <td>TOG Vakfı'nda yaklaşık bir yıldır hem aktif gö...</td>\n      <td>NaN</td>\n      <td>Hayır</td>\n      <td>-</td>\n      <td>Evet</td>\n      <td>NaN</td>\n      <td>NaN</td>\n      <td>11044</td>\n    </tr>\n    <tr>\n      <th>11045</th>\n      <td>2023</td>\n      <td>Kadın</td>\n      <td>9.09.2001 00:00</td>\n      <td>Konya</td>\n      <td>Konya</td>\n      <td>Niğde Ömer Halisdemir Üniversitesi</td>\n      <td>Devlet</td>\n      <td>NaN</td>\n      <td>Hayır</td>\n      <td>Gıda Mühendisliği</td>\n      <td>...</td>\n      <td>-</td>\n      <td>Evet</td>\n      <td>Konyada düzenlenen 5. İslami dayanışma oyunlar...</td>\n      <td>NaN</td>\n      <td>Hayır</td>\n      <td>-</td>\n      <td>Hayır</td>\n      <td>NaN</td>\n      <td>NaN</td>\n      <td>11045</td>\n    </tr>\n    <tr>\n      <th>11046</th>\n      <td>2023</td>\n      <td>Erkek</td>\n      <td>8.06.2004 00:00</td>\n      <td>Ankara</td>\n      <td>Ankara</td>\n      <td>Karabük Üniversitesi</td>\n      <td>Devlet</td>\n      <td>NaN</td>\n      <td>Hayır</td>\n      <td>Elektrik-Elektronik Mühendisliği</td>\n      <td>...</td>\n      <td>Takım Oyuncusu</td>\n      <td>Evet</td>\n      <td>Hayvanlara yardım adı altında hayvanlara yardı...</td>\n      <td>NaN</td>\n      <td>Hayır</td>\n      <td>-</td>\n      <td>Evet</td>\n      <td>NaN</td>\n      <td>NaN</td>\n      <td>11046</td>\n    </tr>\n    <tr>\n      <th>11047</th>\n      <td>2023</td>\n      <td>Kadın</td>\n      <td>16.10.2001 00:00</td>\n      <td>Adıyaman</td>\n      <td>İstanbul</td>\n      <td>Bursa Uludağ Üniversitesi</td>\n      <td>Devlet</td>\n      <td>NaN</td>\n      <td>Hayır</td>\n      <td>Moleküler Biyoloji, Genetik ve Biyomühendislik</td>\n      <td>...</td>\n      <td>Bireysel Spor</td>\n      <td>Evet</td>\n      <td>Ağaç dikme, huzur evi ziyareti</td>\n      <td>NaN</td>\n      <td>Evet</td>\n      <td>Eğitim olarak deneyimim var. Aynı zamanda “Asp...</td>\n      <td>Evet</td>\n      <td>NaN</td>\n      <td>NaN</td>\n      <td>11047</td>\n    </tr>\n    <tr>\n      <th>11048</th>\n      <td>2023</td>\n      <td>Kadın</td>\n      <td>22.09.1999 00:00</td>\n      <td>Niğde</td>\n      <td>Ankara</td>\n      <td>Hacettepe Üniversitesi</td>\n      <td>Devlet</td>\n      <td>NaN</td>\n      <td>Hayır</td>\n      <td>Endüstri Mühendisliği</td>\n      <td>...</td>\n      <td>-</td>\n      <td>Evet</td>\n      <td>YetGen, YGA vb. programlarda yer aldım. Hacett...</td>\n      <td>NaN</td>\n      <td>Hayır</td>\n      <td>-</td>\n      <td>Evet</td>\n      <td>NaN</td>\n      <td>NaN</td>\n      <td>11048</td>\n    </tr>\n  </tbody>\n</table>\n<p>11049 rows × 43 columns</p>\n</div>"
     },
     "execution_count": 40,
     "metadata": {},
     "output_type": "execute_result"
    }
   ],
   "source": [
    "df_test = pd.read_csv(\"test_x.csv\")\n",
    "df_test"
   ],
   "metadata": {
    "collapsed": false,
    "ExecuteTime": {
     "end_time": "2024-09-10T11:51:07.092359Z",
     "start_time": "2024-09-10T11:51:06.977078Z"
    }
   },
   "id": "a8a1b4c627322ebb",
   "execution_count": 40
  },
  {
   "cell_type": "code",
   "outputs": [
    {
     "name": "stdout",
     "output_type": "stream",
     "text": [
      "<class 'pandas.core.frame.DataFrame'>\n",
      "RangeIndex: 11049 entries, 0 to 11048\n",
      "Data columns (total 43 columns):\n",
      " #   Column                                                     Non-Null Count  Dtype  \n",
      "---  ------                                                     --------------  -----  \n",
      " 0   Basvuru Yili                                               11049 non-null  int64  \n",
      " 1   Cinsiyet                                                   11049 non-null  object \n",
      " 2   Dogum Tarihi                                               11049 non-null  object \n",
      " 3   Dogum Yeri                                                 11049 non-null  object \n",
      " 4   Ikametgah Sehri                                            11049 non-null  object \n",
      " 5   Universite Adi                                             11049 non-null  object \n",
      " 6   Universite Turu                                            11049 non-null  object \n",
      " 7   Burslu ise Burs Yuzdesi                                    0 non-null      float64\n",
      " 8   Burs Aliyor mu?                                            11049 non-null  object \n",
      " 9   Bölüm                                                      11049 non-null  object \n",
      " 10  Universite Kacinci Sinif                                   11049 non-null  object \n",
      " 11  Universite Not Ortalamasi                                  11049 non-null  object \n",
      " 12  Daha Once Baska Bir Universiteden Mezun Olmus              0 non-null      float64\n",
      " 13  Lise Adi                                                   11049 non-null  object \n",
      " 14  Lise Adi Diger                                             0 non-null      float64\n",
      " 15  Lise Sehir                                                 11049 non-null  object \n",
      " 16  Lise Turu                                                  11049 non-null  object \n",
      " 17  Lise Bolumu                                                11049 non-null  object \n",
      " 18  Lise Bolum Diger                                           0 non-null      float64\n",
      " 19  Lise Mezuniyet Notu                                        11049 non-null  object \n",
      " 20  Baska Bir Kurumdan Burs Aliyor mu?                         11049 non-null  object \n",
      " 21  Burs Aldigi Baska Kurum                                    11049 non-null  object \n",
      " 22  Baska Kurumdan Aldigi Burs Miktari                         11049 non-null  object \n",
      " 23  Anne Egitim Durumu                                         11049 non-null  object \n",
      " 24  Anne Calisma Durumu                                        11049 non-null  object \n",
      " 25  Anne Sektor                                                11049 non-null  object \n",
      " 26  Baba Egitim Durumu                                         11049 non-null  object \n",
      " 27  Baba Calisma Durumu                                        11049 non-null  object \n",
      " 28  Baba Sektor                                                11049 non-null  object \n",
      " 29  Kardes Sayisi                                              11049 non-null  float64\n",
      " 30  Girisimcilik Kulupleri Tarzi Bir Kulube Uye misiniz?       11049 non-null  object \n",
      " 31  Uye Oldugunuz Kulubun Ismi                                 0 non-null      float64\n",
      " 32  Profesyonel Bir Spor Daliyla Mesgul musunuz?               11049 non-null  object \n",
      " 33  Spor Dalindaki Rolunuz Nedir?                              11049 non-null  object \n",
      " 34  Aktif olarak bir STK üyesi misiniz?                        11049 non-null  object \n",
      " 35  Hangi STK'nin Uyesisiniz?                                  11049 non-null  object \n",
      " 36  Stk Projesine Katildiniz Mi?                               0 non-null      float64\n",
      " 37  Girisimcilikle Ilgili Deneyiminiz Var Mi?                  11049 non-null  object \n",
      " 38  Girisimcilikle Ilgili Deneyiminizi Aciklayabilir misiniz?  11049 non-null  object \n",
      " 39  Ingilizce Biliyor musunuz?                                 11049 non-null  object \n",
      " 40  Ingilizce Seviyeniz?                                       0 non-null      float64\n",
      " 41  Daha Önceden Mezun Olunduysa, Mezun Olunan Üniversite      0 non-null      float64\n",
      " 42  id                                                         11049 non-null  int64  \n",
      "dtypes: float64(9), int64(2), object(32)\n",
      "memory usage: 3.6+ MB\n"
     ]
    }
   ],
   "source": [
    "df_test.info()"
   ],
   "metadata": {
    "collapsed": false,
    "ExecuteTime": {
     "end_time": "2024-09-10T11:51:08.010949Z",
     "start_time": "2024-09-10T11:51:07.992340Z"
    }
   },
   "id": "c38e02cb76b31e41",
   "execution_count": 41
  },
  {
   "cell_type": "code",
   "outputs": [
    {
     "data": {
      "text/plain": "       Basvuru Yili Cinsiyet Universite Turu  Burslu ise Burs Yuzdesi  \\\n0              2023    Kadın          Devlet                      NaN   \n1              2023    Kadın          Devlet                      NaN   \n2              2023    Erkek            Özel                      NaN   \n3              2023    Erkek          Devlet                      NaN   \n4              2023    Erkek          Devlet                      NaN   \n...             ...      ...             ...                      ...   \n11044          2023    Kadın          Devlet                      NaN   \n11045          2023    Kadın          Devlet                      NaN   \n11046          2023    Erkek          Devlet                      NaN   \n11047          2023    Kadın          Devlet                      NaN   \n11048          2023    Kadın          Devlet                      NaN   \n\n      Burs Aliyor mu?                                           Bölüm  \\\n0               Hayır                                   Sosyal Hizmet   \n1               Hayır                          Uluslararası İlişkiler   \n2                Evet                                           Diğer   \n3               Hayır                                  İslami İlimler   \n4               Hayır                                         İşletme   \n...               ...                                             ...   \n11044           Hayır                           Endüstri Mühendisliği   \n11045           Hayır                               Gıda Mühendisliği   \n11046           Hayır                Elektrik-Elektronik Mühendisliği   \n11047           Hayır  Moleküler Biyoloji, Genetik ve Biyomühendislik   \n11048           Hayır                           Endüstri Mühendisliği   \n\n      Universite Kacinci Sinif Universite Not Ortalamasi  \\\n0                            1               2.50 - 2.99   \n1                            1                Hazırlığım   \n2                            1                Hazırlığım   \n3                            1                Hazırlığım   \n4                            3               3.00 - 3.49   \n...                        ...                       ...   \n11044                        2               1.80 - 2.49   \n11045                        3               3.00 - 3.49   \n11046                        1                Hazırlığım   \n11047                        4               1.80 - 2.49   \n11048                        4               3.00 - 3.49   \n\n       Daha Once Baska Bir Universiteden Mezun Olmus Lise Turu  ...  \\\n0                                                NaN    Devlet  ...   \n1                                                NaN    Devlet  ...   \n2                                                NaN      Özel  ...   \n3                                                NaN    Devlet  ...   \n4                                                NaN      Özel  ...   \n...                                              ...       ...  ...   \n11044                                            NaN    Devlet  ...   \n11045                                            NaN    Devlet  ...   \n11046                                            NaN      Özel  ...   \n11047                                            NaN    Devlet  ...   \n11048                                            NaN    Devlet  ...   \n\n      Girisimcilik Kulupleri Tarzi Bir Kulube Uye misiniz?  \\\n0                                                  Hayır     \n1                                                  Hayır     \n2                                                  Hayır     \n3                                                  Hayır     \n4                                                  Hayır     \n...                                                  ...     \n11044                                               Evet     \n11045                                               Evet     \n11046                                               Evet     \n11047                                               Evet     \n11048                                              Hayır     \n\n       Profesyonel Bir Spor Daliyla Mesgul musunuz?  \\\n0                                              Evet   \n1                                              Evet   \n2                                             Hayır   \n3                                             Hayır   \n4                                             Hayır   \n...                                             ...   \n11044                                         Hayır   \n11045                                         Hayır   \n11046                                          Evet   \n11047                                          Evet   \n11048                                         Hayır   \n\n      Spor Dalindaki Rolunuz Nedir? Aktif olarak bir STK üyesi misiniz?  \\\n0                    Takım Oyuncusu                                Evet   \n1                     Bireysel Spor                               Hayır   \n2                     Bireysel Spor                               Hayır   \n3                                 -                                Evet   \n4                                 -                                Evet   \n...                             ...                                 ...   \n11044                             -                                Evet   \n11045                             -                                Evet   \n11046                Takım Oyuncusu                                Evet   \n11047                 Bireysel Spor                                Evet   \n11048                             -                                Evet   \n\n      Stk Projesine Katildiniz Mi? Girisimcilikle Ilgili Deneyiminiz Var Mi?  \\\n0                              NaN                                     Hayır   \n1                              NaN                                     Hayır   \n2                              NaN                                     Hayır   \n3                              NaN                                     Hayır   \n4                              NaN                                      Evet   \n...                            ...                                       ...   \n11044                          NaN                                     Hayır   \n11045                          NaN                                     Hayır   \n11046                          NaN                                     Hayır   \n11047                          NaN                                      Evet   \n11048                          NaN                                     Hayır   \n\n      Ingilizce Biliyor musunuz? Ingilizce Seviyeniz?  \\\n0                           Evet                  NaN   \n1                           Evet                  NaN   \n2                           Evet                  NaN   \n3                          Hayır                  NaN   \n4                           Evet                  NaN   \n...                          ...                  ...   \n11044                       Evet                  NaN   \n11045                      Hayır                  NaN   \n11046                       Evet                  NaN   \n11047                       Evet                  NaN   \n11048                       Evet                  NaN   \n\n      Daha Önceden Mezun Olunduysa, Mezun Olunan Üniversite     id  \n0                                                    NaN         0  \n1                                                    NaN         1  \n2                                                    NaN         2  \n3                                                    NaN         3  \n4                                                    NaN         4  \n...                                                  ...       ...  \n11044                                                NaN     11044  \n11045                                                NaN     11045  \n11046                                                NaN     11046  \n11047                                                NaN     11047  \n11048                                                NaN     11048  \n\n[11049 rows x 31 columns]",
      "text/html": "<div>\n<style scoped>\n    .dataframe tbody tr th:only-of-type {\n        vertical-align: middle;\n    }\n\n    .dataframe tbody tr th {\n        vertical-align: top;\n    }\n\n    .dataframe thead th {\n        text-align: right;\n    }\n</style>\n<table border=\"1\" class=\"dataframe\">\n  <thead>\n    <tr style=\"text-align: right;\">\n      <th></th>\n      <th>Basvuru Yili</th>\n      <th>Cinsiyet</th>\n      <th>Universite Turu</th>\n      <th>Burslu ise Burs Yuzdesi</th>\n      <th>Burs Aliyor mu?</th>\n      <th>Bölüm</th>\n      <th>Universite Kacinci Sinif</th>\n      <th>Universite Not Ortalamasi</th>\n      <th>Daha Once Baska Bir Universiteden Mezun Olmus</th>\n      <th>Lise Turu</th>\n      <th>...</th>\n      <th>Girisimcilik Kulupleri Tarzi Bir Kulube Uye misiniz?</th>\n      <th>Profesyonel Bir Spor Daliyla Mesgul musunuz?</th>\n      <th>Spor Dalindaki Rolunuz Nedir?</th>\n      <th>Aktif olarak bir STK üyesi misiniz?</th>\n      <th>Stk Projesine Katildiniz Mi?</th>\n      <th>Girisimcilikle Ilgili Deneyiminiz Var Mi?</th>\n      <th>Ingilizce Biliyor musunuz?</th>\n      <th>Ingilizce Seviyeniz?</th>\n      <th>Daha Önceden Mezun Olunduysa, Mezun Olunan Üniversite</th>\n      <th>id</th>\n    </tr>\n  </thead>\n  <tbody>\n    <tr>\n      <th>0</th>\n      <td>2023</td>\n      <td>Kadın</td>\n      <td>Devlet</td>\n      <td>NaN</td>\n      <td>Hayır</td>\n      <td>Sosyal Hizmet</td>\n      <td>1</td>\n      <td>2.50 - 2.99</td>\n      <td>NaN</td>\n      <td>Devlet</td>\n      <td>...</td>\n      <td>Hayır</td>\n      <td>Evet</td>\n      <td>Takım Oyuncusu</td>\n      <td>Evet</td>\n      <td>NaN</td>\n      <td>Hayır</td>\n      <td>Evet</td>\n      <td>NaN</td>\n      <td>NaN</td>\n      <td>0</td>\n    </tr>\n    <tr>\n      <th>1</th>\n      <td>2023</td>\n      <td>Kadın</td>\n      <td>Devlet</td>\n      <td>NaN</td>\n      <td>Hayır</td>\n      <td>Uluslararası İlişkiler</td>\n      <td>1</td>\n      <td>Hazırlığım</td>\n      <td>NaN</td>\n      <td>Devlet</td>\n      <td>...</td>\n      <td>Hayır</td>\n      <td>Evet</td>\n      <td>Bireysel Spor</td>\n      <td>Hayır</td>\n      <td>NaN</td>\n      <td>Hayır</td>\n      <td>Evet</td>\n      <td>NaN</td>\n      <td>NaN</td>\n      <td>1</td>\n    </tr>\n    <tr>\n      <th>2</th>\n      <td>2023</td>\n      <td>Erkek</td>\n      <td>Özel</td>\n      <td>NaN</td>\n      <td>Evet</td>\n      <td>Diğer</td>\n      <td>1</td>\n      <td>Hazırlığım</td>\n      <td>NaN</td>\n      <td>Özel</td>\n      <td>...</td>\n      <td>Hayır</td>\n      <td>Hayır</td>\n      <td>Bireysel Spor</td>\n      <td>Hayır</td>\n      <td>NaN</td>\n      <td>Hayır</td>\n      <td>Evet</td>\n      <td>NaN</td>\n      <td>NaN</td>\n      <td>2</td>\n    </tr>\n    <tr>\n      <th>3</th>\n      <td>2023</td>\n      <td>Erkek</td>\n      <td>Devlet</td>\n      <td>NaN</td>\n      <td>Hayır</td>\n      <td>İslami İlimler</td>\n      <td>1</td>\n      <td>Hazırlığım</td>\n      <td>NaN</td>\n      <td>Devlet</td>\n      <td>...</td>\n      <td>Hayır</td>\n      <td>Hayır</td>\n      <td>-</td>\n      <td>Evet</td>\n      <td>NaN</td>\n      <td>Hayır</td>\n      <td>Hayır</td>\n      <td>NaN</td>\n      <td>NaN</td>\n      <td>3</td>\n    </tr>\n    <tr>\n      <th>4</th>\n      <td>2023</td>\n      <td>Erkek</td>\n      <td>Devlet</td>\n      <td>NaN</td>\n      <td>Hayır</td>\n      <td>İşletme</td>\n      <td>3</td>\n      <td>3.00 - 3.49</td>\n      <td>NaN</td>\n      <td>Özel</td>\n      <td>...</td>\n      <td>Hayır</td>\n      <td>Hayır</td>\n      <td>-</td>\n      <td>Evet</td>\n      <td>NaN</td>\n      <td>Evet</td>\n      <td>Evet</td>\n      <td>NaN</td>\n      <td>NaN</td>\n      <td>4</td>\n    </tr>\n    <tr>\n      <th>...</th>\n      <td>...</td>\n      <td>...</td>\n      <td>...</td>\n      <td>...</td>\n      <td>...</td>\n      <td>...</td>\n      <td>...</td>\n      <td>...</td>\n      <td>...</td>\n      <td>...</td>\n      <td>...</td>\n      <td>...</td>\n      <td>...</td>\n      <td>...</td>\n      <td>...</td>\n      <td>...</td>\n      <td>...</td>\n      <td>...</td>\n      <td>...</td>\n      <td>...</td>\n      <td>...</td>\n    </tr>\n    <tr>\n      <th>11044</th>\n      <td>2023</td>\n      <td>Kadın</td>\n      <td>Devlet</td>\n      <td>NaN</td>\n      <td>Hayır</td>\n      <td>Endüstri Mühendisliği</td>\n      <td>2</td>\n      <td>1.80 - 2.49</td>\n      <td>NaN</td>\n      <td>Devlet</td>\n      <td>...</td>\n      <td>Evet</td>\n      <td>Hayır</td>\n      <td>-</td>\n      <td>Evet</td>\n      <td>NaN</td>\n      <td>Hayır</td>\n      <td>Evet</td>\n      <td>NaN</td>\n      <td>NaN</td>\n      <td>11044</td>\n    </tr>\n    <tr>\n      <th>11045</th>\n      <td>2023</td>\n      <td>Kadın</td>\n      <td>Devlet</td>\n      <td>NaN</td>\n      <td>Hayır</td>\n      <td>Gıda Mühendisliği</td>\n      <td>3</td>\n      <td>3.00 - 3.49</td>\n      <td>NaN</td>\n      <td>Devlet</td>\n      <td>...</td>\n      <td>Evet</td>\n      <td>Hayır</td>\n      <td>-</td>\n      <td>Evet</td>\n      <td>NaN</td>\n      <td>Hayır</td>\n      <td>Hayır</td>\n      <td>NaN</td>\n      <td>NaN</td>\n      <td>11045</td>\n    </tr>\n    <tr>\n      <th>11046</th>\n      <td>2023</td>\n      <td>Erkek</td>\n      <td>Devlet</td>\n      <td>NaN</td>\n      <td>Hayır</td>\n      <td>Elektrik-Elektronik Mühendisliği</td>\n      <td>1</td>\n      <td>Hazırlığım</td>\n      <td>NaN</td>\n      <td>Özel</td>\n      <td>...</td>\n      <td>Evet</td>\n      <td>Evet</td>\n      <td>Takım Oyuncusu</td>\n      <td>Evet</td>\n      <td>NaN</td>\n      <td>Hayır</td>\n      <td>Evet</td>\n      <td>NaN</td>\n      <td>NaN</td>\n      <td>11046</td>\n    </tr>\n    <tr>\n      <th>11047</th>\n      <td>2023</td>\n      <td>Kadın</td>\n      <td>Devlet</td>\n      <td>NaN</td>\n      <td>Hayır</td>\n      <td>Moleküler Biyoloji, Genetik ve Biyomühendislik</td>\n      <td>4</td>\n      <td>1.80 - 2.49</td>\n      <td>NaN</td>\n      <td>Devlet</td>\n      <td>...</td>\n      <td>Evet</td>\n      <td>Evet</td>\n      <td>Bireysel Spor</td>\n      <td>Evet</td>\n      <td>NaN</td>\n      <td>Evet</td>\n      <td>Evet</td>\n      <td>NaN</td>\n      <td>NaN</td>\n      <td>11047</td>\n    </tr>\n    <tr>\n      <th>11048</th>\n      <td>2023</td>\n      <td>Kadın</td>\n      <td>Devlet</td>\n      <td>NaN</td>\n      <td>Hayır</td>\n      <td>Endüstri Mühendisliği</td>\n      <td>4</td>\n      <td>3.00 - 3.49</td>\n      <td>NaN</td>\n      <td>Devlet</td>\n      <td>...</td>\n      <td>Hayır</td>\n      <td>Hayır</td>\n      <td>-</td>\n      <td>Evet</td>\n      <td>NaN</td>\n      <td>Hayır</td>\n      <td>Evet</td>\n      <td>NaN</td>\n      <td>NaN</td>\n      <td>11048</td>\n    </tr>\n  </tbody>\n</table>\n<p>11049 rows × 31 columns</p>\n</div>"
     },
     "execution_count": 42,
     "metadata": {},
     "output_type": "execute_result"
    }
   ],
   "source": [
    "df_test.drop(columns=[\"Dogum Tarihi\", \"Ikametgah Sehri\", \"Universite Adi\", \"Dogum Yeri\", \"Lise Adi\", \"Lise Adi Diger\", \"Lise Sehir\", \"Burs Aldigi Baska Kurum\", \"Baska Kurumdan Aldigi Burs Miktari\", \"Uye Oldugunuz Kulubun Ismi\", \"Hangi STK'nin Uyesisiniz?\", \"Girisimcilikle Ilgili Deneyiminizi Aciklayabilir misiniz?\"], inplace=True)\n",
    "df_test"
   ],
   "metadata": {
    "collapsed": false,
    "ExecuteTime": {
     "end_time": "2024-09-10T11:51:09.130086Z",
     "start_time": "2024-09-10T11:51:09.107585Z"
    }
   },
   "id": "c76fb4f2722584db",
   "execution_count": 42
  },
  {
   "cell_type": "code",
   "outputs": [],
   "source": [
    "from sklearn.impute import SimpleImputer\n",
    "for col in df_test.columns:\n",
    "    if df_test[col].dtype == object:\n",
    "        strategy = \"most_frequent\"\n",
    "    else:\n",
    "        strategy = \"mean\"\n",
    "        \n",
    "    if col==\"Ingilizce Seviyeniz?\" or col==\"Daha Önceden Mezun Olunduysa, Mezun Olunan Üniversite\" or col==\"Stk Projesine Katildiniz Mi?\" or col==\"Lise Bolum Diger\" or col==\"Daha Once Baska Bir Universiteden Mezun Olmus\" or col==\"Burslu ise Burs Yuzdesi\":\n",
    "        continue\n",
    "     \n",
    "    imp = SimpleImputer(strategy = strategy)\n",
    "    df_test[[col]] = imp.fit_transform(df_test[[col]])"
   ],
   "metadata": {
    "collapsed": false,
    "ExecuteTime": {
     "end_time": "2024-09-10T11:51:10.452053Z",
     "start_time": "2024-09-10T11:51:10.391936Z"
    }
   },
   "id": "8c6a97ede9c089c8",
   "execution_count": 43
  },
  {
   "cell_type": "code",
   "outputs": [],
   "source": [
    "from sklearn.preprocessing import LabelEncoder\n",
    "encoder = LabelEncoder()\n",
    "for col in df_test.columns:\n",
    "    if df_test[col].dtype == object:\n",
    "        df_test[col] = encoder.fit_transform(df_test[col])\n"
   ],
   "metadata": {
    "collapsed": false,
    "ExecuteTime": {
     "end_time": "2024-09-10T11:51:11.291098Z",
     "start_time": "2024-09-10T11:51:11.260166Z"
    }
   },
   "id": "e7e70cd89fcda644",
   "execution_count": 44
  },
  {
   "cell_type": "code",
   "outputs": [
    {
     "data": {
      "text/plain": "       Basvuru Yili  Cinsiyet  Universite Turu  Burslu ise Burs Yuzdesi  \\\n0            2023.0         2                0                      NaN   \n1            2023.0         2                0                      NaN   \n2            2023.0         1                1                      NaN   \n3            2023.0         1                0                      NaN   \n4            2023.0         1                0                      NaN   \n...             ...       ...              ...                      ...   \n11044        2023.0         2                0                      NaN   \n11045        2023.0         2                0                      NaN   \n11046        2023.0         1                0                      NaN   \n11047        2023.0         2                0                      NaN   \n11048        2023.0         2                0                      NaN   \n\n       Burs Aliyor mu?  Bölüm  Universite Kacinci Sinif  \\\n0                    1    237                         0   \n1                    1    283                         0   \n2                    0     58                         0   \n3                    1    335                         0   \n4                    1    342                         2   \n...                ...    ...                       ...   \n11044                1     72                         1   \n11045                1    120                         2   \n11046                1     67                         0   \n11047                1    171                         3   \n11048                1     72                         3   \n\n       Universite Not Ortalamasi  \\\n0                              2   \n1                              5   \n2                              5   \n3                              5   \n4                              3   \n...                          ...   \n11044                          1   \n11045                          3   \n11046                          5   \n11047                          1   \n11048                          3   \n\n       Daha Once Baska Bir Universiteden Mezun Olmus  Lise Turu  ...  \\\n0                                                NaN          0  ...   \n1                                                NaN          0  ...   \n2                                                NaN          1  ...   \n3                                                NaN          0  ...   \n4                                                NaN          1  ...   \n...                                              ...        ...  ...   \n11044                                            NaN          0  ...   \n11045                                            NaN          0  ...   \n11046                                            NaN          1  ...   \n11047                                            NaN          0  ...   \n11048                                            NaN          0  ...   \n\n       Girisimcilik Kulupleri Tarzi Bir Kulube Uye misiniz?  \\\n0                                                      1      \n1                                                      1      \n2                                                      1      \n3                                                      1      \n4                                                      1      \n...                                                  ...      \n11044                                                  0      \n11045                                                  0      \n11046                                                  0      \n11047                                                  0      \n11048                                                  1      \n\n       Profesyonel Bir Spor Daliyla Mesgul musunuz?  \\\n0                                                 0   \n1                                                 0   \n2                                                 1   \n3                                                 1   \n4                                                 1   \n...                                             ...   \n11044                                             1   \n11045                                             1   \n11046                                             0   \n11047                                             0   \n11048                                             1   \n\n       Spor Dalindaki Rolunuz Nedir?  Aktif olarak bir STK üyesi misiniz?  \\\n0                                  4                                    0   \n1                                  1                                    1   \n2                                  1                                    1   \n3                                  0                                    0   \n4                                  0                                    0   \n...                              ...                                  ...   \n11044                              0                                    0   \n11045                              0                                    0   \n11046                              4                                    0   \n11047                              1                                    0   \n11048                              0                                    0   \n\n       Stk Projesine Katildiniz Mi?  \\\n0                               NaN   \n1                               NaN   \n2                               NaN   \n3                               NaN   \n4                               NaN   \n...                             ...   \n11044                           NaN   \n11045                           NaN   \n11046                           NaN   \n11047                           NaN   \n11048                           NaN   \n\n       Girisimcilikle Ilgili Deneyiminiz Var Mi?  Ingilizce Biliyor musunuz?  \\\n0                                              1                           0   \n1                                              1                           0   \n2                                              1                           0   \n3                                              1                           1   \n4                                              0                           0   \n...                                          ...                         ...   \n11044                                          1                           0   \n11045                                          1                           1   \n11046                                          1                           0   \n11047                                          0                           0   \n11048                                          1                           0   \n\n       Ingilizce Seviyeniz?  \\\n0                       NaN   \n1                       NaN   \n2                       NaN   \n3                       NaN   \n4                       NaN   \n...                     ...   \n11044                   NaN   \n11045                   NaN   \n11046                   NaN   \n11047                   NaN   \n11048                   NaN   \n\n       Daha Önceden Mezun Olunduysa, Mezun Olunan Üniversite       id  \n0                                                    NaN          0.0  \n1                                                    NaN          1.0  \n2                                                    NaN          2.0  \n3                                                    NaN          3.0  \n4                                                    NaN          4.0  \n...                                                  ...          ...  \n11044                                                NaN      11044.0  \n11045                                                NaN      11045.0  \n11046                                                NaN      11046.0  \n11047                                                NaN      11047.0  \n11048                                                NaN      11048.0  \n\n[11049 rows x 31 columns]",
      "text/html": "<div>\n<style scoped>\n    .dataframe tbody tr th:only-of-type {\n        vertical-align: middle;\n    }\n\n    .dataframe tbody tr th {\n        vertical-align: top;\n    }\n\n    .dataframe thead th {\n        text-align: right;\n    }\n</style>\n<table border=\"1\" class=\"dataframe\">\n  <thead>\n    <tr style=\"text-align: right;\">\n      <th></th>\n      <th>Basvuru Yili</th>\n      <th>Cinsiyet</th>\n      <th>Universite Turu</th>\n      <th>Burslu ise Burs Yuzdesi</th>\n      <th>Burs Aliyor mu?</th>\n      <th>Bölüm</th>\n      <th>Universite Kacinci Sinif</th>\n      <th>Universite Not Ortalamasi</th>\n      <th>Daha Once Baska Bir Universiteden Mezun Olmus</th>\n      <th>Lise Turu</th>\n      <th>...</th>\n      <th>Girisimcilik Kulupleri Tarzi Bir Kulube Uye misiniz?</th>\n      <th>Profesyonel Bir Spor Daliyla Mesgul musunuz?</th>\n      <th>Spor Dalindaki Rolunuz Nedir?</th>\n      <th>Aktif olarak bir STK üyesi misiniz?</th>\n      <th>Stk Projesine Katildiniz Mi?</th>\n      <th>Girisimcilikle Ilgili Deneyiminiz Var Mi?</th>\n      <th>Ingilizce Biliyor musunuz?</th>\n      <th>Ingilizce Seviyeniz?</th>\n      <th>Daha Önceden Mezun Olunduysa, Mezun Olunan Üniversite</th>\n      <th>id</th>\n    </tr>\n  </thead>\n  <tbody>\n    <tr>\n      <th>0</th>\n      <td>2023.0</td>\n      <td>2</td>\n      <td>0</td>\n      <td>NaN</td>\n      <td>1</td>\n      <td>237</td>\n      <td>0</td>\n      <td>2</td>\n      <td>NaN</td>\n      <td>0</td>\n      <td>...</td>\n      <td>1</td>\n      <td>0</td>\n      <td>4</td>\n      <td>0</td>\n      <td>NaN</td>\n      <td>1</td>\n      <td>0</td>\n      <td>NaN</td>\n      <td>NaN</td>\n      <td>0.0</td>\n    </tr>\n    <tr>\n      <th>1</th>\n      <td>2023.0</td>\n      <td>2</td>\n      <td>0</td>\n      <td>NaN</td>\n      <td>1</td>\n      <td>283</td>\n      <td>0</td>\n      <td>5</td>\n      <td>NaN</td>\n      <td>0</td>\n      <td>...</td>\n      <td>1</td>\n      <td>0</td>\n      <td>1</td>\n      <td>1</td>\n      <td>NaN</td>\n      <td>1</td>\n      <td>0</td>\n      <td>NaN</td>\n      <td>NaN</td>\n      <td>1.0</td>\n    </tr>\n    <tr>\n      <th>2</th>\n      <td>2023.0</td>\n      <td>1</td>\n      <td>1</td>\n      <td>NaN</td>\n      <td>0</td>\n      <td>58</td>\n      <td>0</td>\n      <td>5</td>\n      <td>NaN</td>\n      <td>1</td>\n      <td>...</td>\n      <td>1</td>\n      <td>1</td>\n      <td>1</td>\n      <td>1</td>\n      <td>NaN</td>\n      <td>1</td>\n      <td>0</td>\n      <td>NaN</td>\n      <td>NaN</td>\n      <td>2.0</td>\n    </tr>\n    <tr>\n      <th>3</th>\n      <td>2023.0</td>\n      <td>1</td>\n      <td>0</td>\n      <td>NaN</td>\n      <td>1</td>\n      <td>335</td>\n      <td>0</td>\n      <td>5</td>\n      <td>NaN</td>\n      <td>0</td>\n      <td>...</td>\n      <td>1</td>\n      <td>1</td>\n      <td>0</td>\n      <td>0</td>\n      <td>NaN</td>\n      <td>1</td>\n      <td>1</td>\n      <td>NaN</td>\n      <td>NaN</td>\n      <td>3.0</td>\n    </tr>\n    <tr>\n      <th>4</th>\n      <td>2023.0</td>\n      <td>1</td>\n      <td>0</td>\n      <td>NaN</td>\n      <td>1</td>\n      <td>342</td>\n      <td>2</td>\n      <td>3</td>\n      <td>NaN</td>\n      <td>1</td>\n      <td>...</td>\n      <td>1</td>\n      <td>1</td>\n      <td>0</td>\n      <td>0</td>\n      <td>NaN</td>\n      <td>0</td>\n      <td>0</td>\n      <td>NaN</td>\n      <td>NaN</td>\n      <td>4.0</td>\n    </tr>\n    <tr>\n      <th>...</th>\n      <td>...</td>\n      <td>...</td>\n      <td>...</td>\n      <td>...</td>\n      <td>...</td>\n      <td>...</td>\n      <td>...</td>\n      <td>...</td>\n      <td>...</td>\n      <td>...</td>\n      <td>...</td>\n      <td>...</td>\n      <td>...</td>\n      <td>...</td>\n      <td>...</td>\n      <td>...</td>\n      <td>...</td>\n      <td>...</td>\n      <td>...</td>\n      <td>...</td>\n      <td>...</td>\n    </tr>\n    <tr>\n      <th>11044</th>\n      <td>2023.0</td>\n      <td>2</td>\n      <td>0</td>\n      <td>NaN</td>\n      <td>1</td>\n      <td>72</td>\n      <td>1</td>\n      <td>1</td>\n      <td>NaN</td>\n      <td>0</td>\n      <td>...</td>\n      <td>0</td>\n      <td>1</td>\n      <td>0</td>\n      <td>0</td>\n      <td>NaN</td>\n      <td>1</td>\n      <td>0</td>\n      <td>NaN</td>\n      <td>NaN</td>\n      <td>11044.0</td>\n    </tr>\n    <tr>\n      <th>11045</th>\n      <td>2023.0</td>\n      <td>2</td>\n      <td>0</td>\n      <td>NaN</td>\n      <td>1</td>\n      <td>120</td>\n      <td>2</td>\n      <td>3</td>\n      <td>NaN</td>\n      <td>0</td>\n      <td>...</td>\n      <td>0</td>\n      <td>1</td>\n      <td>0</td>\n      <td>0</td>\n      <td>NaN</td>\n      <td>1</td>\n      <td>1</td>\n      <td>NaN</td>\n      <td>NaN</td>\n      <td>11045.0</td>\n    </tr>\n    <tr>\n      <th>11046</th>\n      <td>2023.0</td>\n      <td>1</td>\n      <td>0</td>\n      <td>NaN</td>\n      <td>1</td>\n      <td>67</td>\n      <td>0</td>\n      <td>5</td>\n      <td>NaN</td>\n      <td>1</td>\n      <td>...</td>\n      <td>0</td>\n      <td>0</td>\n      <td>4</td>\n      <td>0</td>\n      <td>NaN</td>\n      <td>1</td>\n      <td>0</td>\n      <td>NaN</td>\n      <td>NaN</td>\n      <td>11046.0</td>\n    </tr>\n    <tr>\n      <th>11047</th>\n      <td>2023.0</td>\n      <td>2</td>\n      <td>0</td>\n      <td>NaN</td>\n      <td>1</td>\n      <td>171</td>\n      <td>3</td>\n      <td>1</td>\n      <td>NaN</td>\n      <td>0</td>\n      <td>...</td>\n      <td>0</td>\n      <td>0</td>\n      <td>1</td>\n      <td>0</td>\n      <td>NaN</td>\n      <td>0</td>\n      <td>0</td>\n      <td>NaN</td>\n      <td>NaN</td>\n      <td>11047.0</td>\n    </tr>\n    <tr>\n      <th>11048</th>\n      <td>2023.0</td>\n      <td>2</td>\n      <td>0</td>\n      <td>NaN</td>\n      <td>1</td>\n      <td>72</td>\n      <td>3</td>\n      <td>3</td>\n      <td>NaN</td>\n      <td>0</td>\n      <td>...</td>\n      <td>1</td>\n      <td>1</td>\n      <td>0</td>\n      <td>0</td>\n      <td>NaN</td>\n      <td>1</td>\n      <td>0</td>\n      <td>NaN</td>\n      <td>NaN</td>\n      <td>11048.0</td>\n    </tr>\n  </tbody>\n</table>\n<p>11049 rows × 31 columns</p>\n</div>"
     },
     "execution_count": 45,
     "metadata": {},
     "output_type": "execute_result"
    }
   ],
   "source": [
    "df_test"
   ],
   "metadata": {
    "collapsed": false,
    "ExecuteTime": {
     "end_time": "2024-09-10T11:51:12.469177Z",
     "start_time": "2024-09-10T11:51:12.452397Z"
    }
   },
   "id": "eb580f1f008669b7",
   "execution_count": 45
  },
  {
   "cell_type": "code",
   "outputs": [],
   "source": [
    "prediction = rfr.predict(df_test)"
   ],
   "metadata": {
    "collapsed": false,
    "ExecuteTime": {
     "end_time": "2024-09-10T11:51:13.637106Z",
     "start_time": "2024-09-10T11:51:13.555296Z"
    }
   },
   "id": "9bf14e10c8d0ce73",
   "execution_count": 46
  },
  {
   "cell_type": "code",
   "outputs": [
    {
     "data": {
      "text/plain": "array([41.93, 18.81, 13.75, ..., 45.56, 63.62, 28.65])"
     },
     "execution_count": 47,
     "metadata": {},
     "output_type": "execute_result"
    }
   ],
   "source": [
    "prediction"
   ],
   "metadata": {
    "collapsed": false,
    "ExecuteTime": {
     "end_time": "2024-09-10T11:51:18.284603Z",
     "start_time": "2024-09-10T11:51:18.280310Z"
    }
   },
   "id": "1d3f7b6660d9f99b",
   "execution_count": 47
  },
  {
   "cell_type": "code",
   "outputs": [],
   "source": [
    "pred = pd.DataFrame(prediction)\n",
    "pred.columns = [\"Degerlendirme Puani\"]\n"
   ],
   "metadata": {
    "collapsed": false,
    "ExecuteTime": {
     "end_time": "2024-09-10T11:51:21.555890Z",
     "start_time": "2024-09-10T11:51:21.552630Z"
    }
   },
   "id": "2f2602e1f4cb4f8c",
   "execution_count": 48
  },
  {
   "cell_type": "code",
   "outputs": [],
   "source": [
    "pred.to_csv('prediction.csv')"
   ],
   "metadata": {
    "collapsed": false,
    "ExecuteTime": {
     "end_time": "2024-09-10T11:51:32.604631Z",
     "start_time": "2024-09-10T11:51:32.589946Z"
    }
   },
   "id": "1266d34d5d04da97",
   "execution_count": 50
  },
  {
   "cell_type": "code",
   "outputs": [
    {
     "data": {
      "text/plain": "       Degerlendirme Puani\n0                    41.93\n1                    18.81\n2                    13.75\n3                    29.22\n4                    31.59\n...                    ...\n11044                39.03\n11045                38.99\n11046                45.56\n11047                63.62\n11048                28.65\n\n[11049 rows x 1 columns]",
      "text/html": "<div>\n<style scoped>\n    .dataframe tbody tr th:only-of-type {\n        vertical-align: middle;\n    }\n\n    .dataframe tbody tr th {\n        vertical-align: top;\n    }\n\n    .dataframe thead th {\n        text-align: right;\n    }\n</style>\n<table border=\"1\" class=\"dataframe\">\n  <thead>\n    <tr style=\"text-align: right;\">\n      <th></th>\n      <th>Degerlendirme Puani</th>\n    </tr>\n  </thead>\n  <tbody>\n    <tr>\n      <th>0</th>\n      <td>41.93</td>\n    </tr>\n    <tr>\n      <th>1</th>\n      <td>18.81</td>\n    </tr>\n    <tr>\n      <th>2</th>\n      <td>13.75</td>\n    </tr>\n    <tr>\n      <th>3</th>\n      <td>29.22</td>\n    </tr>\n    <tr>\n      <th>4</th>\n      <td>31.59</td>\n    </tr>\n    <tr>\n      <th>...</th>\n      <td>...</td>\n    </tr>\n    <tr>\n      <th>11044</th>\n      <td>39.03</td>\n    </tr>\n    <tr>\n      <th>11045</th>\n      <td>38.99</td>\n    </tr>\n    <tr>\n      <th>11046</th>\n      <td>45.56</td>\n    </tr>\n    <tr>\n      <th>11047</th>\n      <td>63.62</td>\n    </tr>\n    <tr>\n      <th>11048</th>\n      <td>28.65</td>\n    </tr>\n  </tbody>\n</table>\n<p>11049 rows × 1 columns</p>\n</div>"
     },
     "execution_count": 53,
     "metadata": {},
     "output_type": "execute_result"
    }
   ],
   "source": [
    "pred"
   ],
   "metadata": {
    "collapsed": false,
    "ExecuteTime": {
     "end_time": "2024-09-10T11:52:03.751483Z",
     "start_time": "2024-09-10T11:52:03.744022Z"
    }
   },
   "id": "62a0252990287a22",
   "execution_count": 53
  }
 ],
 "metadata": {
  "kernelspec": {
   "display_name": "Python 3",
   "language": "python",
   "name": "python3"
  },
  "language_info": {
   "codemirror_mode": {
    "name": "ipython",
    "version": 2
   },
   "file_extension": ".py",
   "mimetype": "text/x-python",
   "name": "python",
   "nbconvert_exporter": "python",
   "pygments_lexer": "ipython2",
   "version": "2.7.6"
  }
 },
 "nbformat": 4,
 "nbformat_minor": 5
}
